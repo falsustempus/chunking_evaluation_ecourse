{
 "cells": [
  {
   "cell_type": "markdown",
   "id": "9042abbb",
   "metadata": {},
   "source": [
    "## 0. Cuda Test"
   ]
  },
  {
   "cell_type": "code",
   "execution_count": 1,
   "id": "d3faab0f",
   "metadata": {},
   "outputs": [
    {
     "name": "stdout",
     "output_type": "stream",
     "text": [
      "Looking in indexes: https://download.pytorch.org/whl/cu118\n",
      "Requirement already satisfied: torch in c:\\users\\ifanglab\\anaconda3\\envs\\rag\\lib\\site-packages (2.7.0+cu118)\n",
      "Requirement already satisfied: torchvision in c:\\users\\ifanglab\\anaconda3\\envs\\rag\\lib\\site-packages (0.22.0)\n",
      "Requirement already satisfied: torchaudio in c:\\users\\ifanglab\\anaconda3\\envs\\rag\\lib\\site-packages (2.7.0+cu118)\n",
      "Requirement already satisfied: filelock in c:\\users\\ifanglab\\anaconda3\\envs\\rag\\lib\\site-packages (from torch) (3.13.1)\n",
      "Requirement already satisfied: typing-extensions>=4.10.0 in c:\\users\\ifanglab\\anaconda3\\envs\\rag\\lib\\site-packages (from torch) (4.12.2)\n",
      "Requirement already satisfied: sympy>=1.13.3 in c:\\users\\ifanglab\\anaconda3\\envs\\rag\\lib\\site-packages (from torch) (1.13.3)\n",
      "Requirement already satisfied: networkx in c:\\users\\ifanglab\\anaconda3\\envs\\rag\\lib\\site-packages (from torch) (3.4.2)\n",
      "Requirement already satisfied: jinja2 in c:\\users\\ifanglab\\anaconda3\\envs\\rag\\lib\\site-packages (from torch) (3.1.4)\n",
      "Requirement already satisfied: fsspec in c:\\users\\ifanglab\\anaconda3\\envs\\rag\\lib\\site-packages (from torch) (2024.6.1)\n",
      "Requirement already satisfied: setuptools in c:\\users\\ifanglab\\anaconda3\\envs\\rag\\lib\\site-packages (from torch) (78.1.1)\n",
      "Requirement already satisfied: numpy in c:\\users\\ifanglab\\anaconda3\\envs\\rag\\lib\\site-packages (from torchvision) (2.1.2)\n",
      "Requirement already satisfied: pillow!=8.3.*,>=5.3.0 in c:\\users\\ifanglab\\anaconda3\\envs\\rag\\lib\\site-packages (from torchvision) (11.0.0)\n",
      "Requirement already satisfied: mpmath<1.4,>=1.1.0 in c:\\users\\ifanglab\\anaconda3\\envs\\rag\\lib\\site-packages (from sympy>=1.13.3->torch) (1.3.0)\n",
      "Requirement already satisfied: MarkupSafe>=2.0 in c:\\users\\ifanglab\\anaconda3\\envs\\rag\\lib\\site-packages (from jinja2->torch) (2.1.5)\n",
      "Requirement already satisfied: numpy in c:\\users\\ifanglab\\anaconda3\\envs\\rag\\lib\\site-packages (2.1.2)\n",
      "Note: you may need to restart the kernel to use updated packages.\n"
     ]
    }
   ],
   "source": [
    "!pip3 install torch torchvision torchaudio --index-url https://download.pytorch.org/whl/cu118\n",
    "\n",
    "%pip install numpy"
   ]
  },
  {
   "cell_type": "code",
   "execution_count": 2,
   "id": "0208f8e1",
   "metadata": {},
   "outputs": [
    {
     "name": "stdout",
     "output_type": "stream",
     "text": [
      "2.7.0+cu118\n",
      "True\n",
      "2.3.1\n"
     ]
    }
   ],
   "source": [
    "import torch\n",
    "print(torch.__version__)\n",
    "print(torch.cuda.is_available())\n",
    "\n",
    "import numpy\n",
    "print(numpy.__version__)"
   ]
  },
  {
   "cell_type": "markdown",
   "id": "b8214685",
   "metadata": {},
   "source": [
    "## 1. Setup"
   ]
  },
  {
   "cell_type": "markdown",
   "id": "d2e91851",
   "metadata": {},
   "source": [
    "### 1.1 Install packages"
   ]
  },
  {
   "cell_type": "code",
   "execution_count": 3,
   "id": "67019860",
   "metadata": {},
   "outputs": [
    {
     "name": "stdout",
     "output_type": "stream",
     "text": [
      "Note: you may need to restart the kernel to use updated packages.\n",
      "Note: you may need to restart the kernel to use updated packages.\n",
      "Note: you may need to restart the kernel to use updated packages.\n",
      "Note: you may need to restart the kernel to use updated packages.\n",
      "Note: you may need to restart the kernel to use updated packages.\n"
     ]
    }
   ],
   "source": [
    "%pip install git+https://github.com/brandonstarxel/chunking_evaluation.git --quiet\n",
    "%pip install hf_xet --quiet\n",
    "%pip install bitsandbytes --quiet\n",
    "%pip install --upgrade transformers --quiet\n",
    "%pip install --upgrade chromadb --quiet"
   ]
  },
  {
   "cell_type": "markdown",
   "id": "bfff2969",
   "metadata": {},
   "source": [
    "### 1.2 Import Required Modules"
   ]
  },
  {
   "cell_type": "code",
   "execution_count": 4,
   "id": "d01aee84",
   "metadata": {},
   "outputs": [
    {
     "name": "stdout",
     "output_type": "stream",
     "text": [
      "已將專案根目錄 'd:\\ArtificialIntelligenceCustomerService\\code\\exp' 優先加入到 Python 模組搜尋路徑。\n"
     ]
    }
   ],
   "source": [
    "import os\n",
    "import sys\n",
    "\n",
    "# 取得目前筆記本檔案的絕對路徑\n",
    "notebook_path = os.path.abspath('chunking_exp.ipynb')\n",
    "\n",
    "# 取得筆記本所在的目錄（即專案根目錄）\n",
    "project_root = os.path.dirname(notebook_path)\n",
    "\n",
    "# 將專案根目錄（包含你的本地 chunking_evaluation 資料夾）\n",
    "# 插入到 sys.path 的最前面，確保優先載入本地版本\n",
    "sys.path.insert(0, project_root)\n",
    "print(f\"已將專案根目錄 '{project_root}' 優先加入到 Python 模組搜尋路徑。\")\n",
    "\n",
    "\n",
    "from chunking_evaluation.chunking import FixedTokenChunker, RecursiveTokenChunker\n",
    "from chunking_evaluation import GeneralEvaluation, SyntheticEvaluation\n",
    "from chunking_evaluation.utils import bge_m3_token_count, get_bge_m3_embedding_function\n",
    "from chunking_evaluation.evaluation_framework.general_evaluation_data.DatasetAnalyzer import DatasetAnalyzer\n",
    "import pandas as pd\n",
    "from IPython.display import display, clear_output\n",
    "import http.client\n",
    "import json\n"
   ]
  },
  {
   "cell_type": "markdown",
   "id": "8dff1647",
   "metadata": {},
   "source": [
    "### 1.3 Setup Embedding Function"
   ]
  },
  {
   "cell_type": "markdown",
   "id": "c7e9f8e5",
   "metadata": {},
   "source": [
    "## 2. Create Chunkers"
   ]
  },
  {
   "cell_type": "markdown",
   "id": "a3bad7fd",
   "metadata": {},
   "source": [
    "### 2.1 RecursiveTokenChunker & FixedTokenChunker"
   ]
  },
  {
   "cell_type": "code",
   "execution_count": 5,
   "id": "5b0aa7c7",
   "metadata": {},
   "outputs": [],
   "source": [
    "chunkers = [\n",
    "    # chunk_size = 512\n",
    "    RecursiveTokenChunker(chunk_size=512, chunk_overlap=50, length_function=bge_m3_token_count),\n",
    "    FixedTokenChunker(chunk_size=512, chunk_overlap=50),\n",
    "\n",
    "    RecursiveTokenChunker(chunk_size=512, chunk_overlap=100, length_function=bge_m3_token_count),\n",
    "    FixedTokenChunker(chunk_size=512, chunk_overlap=100),\n",
    "\n",
    "    RecursiveTokenChunker(chunk_size=512, chunk_overlap=150, length_function=bge_m3_token_count),\n",
    "    FixedTokenChunker(chunk_size=512, chunk_overlap=150),\n",
    "\n",
    "    RecursiveTokenChunker(chunk_size=512, chunk_overlap=200, length_function=bge_m3_token_count),\n",
    "    FixedTokenChunker(chunk_size=512, chunk_overlap=200),\n",
    "    '''\n",
    "    # chunk_size = 1024\n",
    "    RecursiveTokenChunker(chunk_size=1024, chunk_overlap=50, length_function=bge_m3_token_count),\n",
    "    FixedTokenChunker(chunk_size=1024, chunk_overlap=50),\n",
    "\n",
    "    RecursiveTokenChunker(chunk_size=1024, chunk_overlap=100, length_function=bge_m3_token_count),\n",
    "    FixedTokenChunker(chunk_size=1024, chunk_overlap=100),\n",
    "\n",
    "    RecursiveTokenChunker(chunk_size=1024, chunk_overlap=150, length_function=bge_m3_token_count),\n",
    "    FixedTokenChunker(chunk_size=1024, chunk_overlap=150),\n",
    "\n",
    "    RecursiveTokenChunker(chunk_size=1024, chunk_overlap=200, length_function=bge_m3_token_count),\n",
    "    FixedTokenChunker(chunk_size=1024, chunk_overlap=200),\n",
    "\n",
    "    # chunk_size = 2048\n",
    "    RecursiveTokenChunker(chunk_size=2048, chunk_overlap=50, length_function=bge_m3_token_count),\n",
    "    FixedTokenChunker(chunk_size=2048, chunk_overlap=50),\n",
    "\n",
    "    RecursiveTokenChunker(chunk_size=2048, chunk_overlap=100, length_function=bge_m3_token_count),\n",
    "    FixedTokenChunker(chunk_size=2048, chunk_overlap=100),\n",
    "\n",
    "    RecursiveTokenChunker(chunk_size=2048, chunk_overlap=150, length_function=bge_m3_token_count),\n",
    "    FixedTokenChunker(chunk_size=2048, chunk_overlap=150),\n",
    "\n",
    "    RecursiveTokenChunker(chunk_size=2048, chunk_overlap=200, length_function=bge_m3_token_count),\n",
    "    FixedTokenChunker(chunk_size=2048, chunk_overlap=200),\n",
    "\n",
    "    # chunk_size = 4096\n",
    "    RecursiveTokenChunker(chunk_size=4096, chunk_overlap=50, length_function=bge_m3_token_count),\n",
    "    FixedTokenChunker(chunk_size=4096, chunk_overlap=50),\n",
    "\n",
    "    RecursiveTokenChunker(chunk_size=4096, chunk_overlap=100, length_function=bge_m3_token_count),\n",
    "    FixedTokenChunker(chunk_size=4096, chunk_overlap=100),\n",
    "\n",
    "    RecursiveTokenChunker(chunk_size=4096, chunk_overlap=150, length_function=bge_m3_token_count),\n",
    "    FixedTokenChunker(chunk_size=4096, chunk_overlap=150),\n",
    "\n",
    "    RecursiveTokenChunker(chunk_size=4096, chunk_overlap=200, length_function=bge_m3_token_count),\n",
    "    FixedTokenChunker(chunk_size=4096, chunk_overlap=200),\n",
    "    '''\n",
    "]"
   ]
  },
  {
   "cell_type": "markdown",
   "id": "5df4b187",
   "metadata": {},
   "source": [
    "## 3. Prepare Corpora"
   ]
  },
  {
   "cell_type": "code",
   "execution_count": 6,
   "id": "02754655",
   "metadata": {},
   "outputs": [
    {
     "name": "stdout",
     "output_type": "stream",
     "text": [
      "跳過下載範例文本。\n"
     ]
    }
   ],
   "source": [
    "def download_text(book_id, file_name, directory):\n",
    "    conn = http.client.HTTPSConnection(\"www.gutenberg.org\")\n",
    "    url = f\"/files/{book_id}/{book_id}-0.txt\"\n",
    "\n",
    "    conn.request(\"GET\", url)\n",
    "    response = conn.getresponse()\n",
    "\n",
    "    if response.status == 200:\n",
    "        text = response.read().decode('utf-8')\n",
    "\n",
    "        # Create directory if it does not exist\n",
    "        os.makedirs(directory, exist_ok=True)\n",
    "\n",
    "        # Save the text to the specified file within the directory\n",
    "        file_path = os.path.join(directory, file_name)\n",
    "        with open(file_path, \"w\", encoding=\"utf-8\") as file:\n",
    "            file.write(text)\n",
    "        print(f\"Book '{file_name}' downloaded and saved successfully in '{directory}'.\")\n",
    "    else:\n",
    "        print(f\"Failed to download the book. Status code: {response.status}\")\n",
    "\n",
    "\n",
    "# Define the directory to save the books\n",
    "directory = \"corpora\"\n",
    "\n",
    "def download_example_texts(download=False, directory=\"./corpora\"):\n",
    "    if download:\n",
    "        books = {\n",
    "            1661: \"the_adventures_of_sherlock_holmes.txt\",\n",
    "            1342: \"pride_and_prejudice.txt\", \n",
    "            174: \"the_picture_of_dorian_gray.txt\"\n",
    "        }\n",
    "        print(\"開始下載範例文本...\")\n",
    "\n",
    "        for book_id, file_name in books.items():\n",
    "            try:\n",
    "                download_text(book_id, file_name, directory)\n",
    "                print(f\"✅ 成功下載: {file_name}\")\n",
    "            except Exception as e:\n",
    "                print(f\"❌ 下載失敗 {file_name}: {e}\")\n",
    "        \n",
    "        print(\"範例文本下載完成！\")\n",
    "    else:\n",
    "        print(\"跳過下載範例文本。\")\n",
    "\n",
    "download_example_texts(download=False)"
   ]
  },
  {
   "cell_type": "markdown",
   "id": "22d1aade",
   "metadata": {},
   "source": [
    "## 4. Initialize the Evaluation Environment"
   ]
  },
  {
   "cell_type": "code",
   "execution_count": 7,
   "id": "b202f570",
   "metadata": {},
   "outputs": [
    {
     "name": "stdout",
     "output_type": "stream",
     "text": [
      "✅ Backup file './chunking_evaluation/evaluation_framework/general_evaluation_data/generated_queries_and_excerpts_backup.csv' already exists.\n",
      "📖 Reading file paths from the backup file.\n",
      "\n",
      "✅ The file paths to be processed have been saved in corpora_paths_list\n",
      "📁 The generated queries will be saved to: ./chunking_evaluation/evaluation_framework/general_evaluation_data/generated_queries_and_excerpts.csv\n"
     ]
    }
   ],
   "source": [
    "import os\n",
    "import glob\n",
    "import pandas as pd\n",
    "from typing import List, Dict\n",
    "\n",
    "# Define your corpus folder path\n",
    "corpora_directory = \"./chunking_evaluation/evaluation_framework/general_evaluation_data/corpora\"\n",
    "# Define the path to check\n",
    "queries_backup_path = \"./chunking_evaluation/evaluation_framework/general_evaluation_data/generated_queries_and_excerpts_backup.csv\"\n",
    "# Define the target output path\n",
    "queries_csv_path = \"./chunking_evaluation/evaluation_framework/general_evaluation_data/generated_queries_and_excerpts.csv\"\n",
    "\n",
    "# --- Core logic modification ---\n",
    "corpora_paths_list = []\n",
    "\n",
    "# Check if the backup file exists\n",
    "if os.path.exists(queries_backup_path):\n",
    "    print(f\"✅ Backup file '{queries_backup_path}' already exists.\")\n",
    "    print(f\"📖 Reading file paths from the backup file.\")\n",
    "    \n",
    "    # Read the 'corpus_id' column from the CSV backup file\n",
    "    backup_df = pd.read_csv(queries_backup_path)\n",
    "    \n",
    "    # Standardize the paths and extract the unique list\n",
    "    corpora_paths_list = [os.path.normpath(path).replace('\\\\', '/') for path in backup_df['corpus_id'].unique()]\n",
    "else:\n",
    "    print(f\"🚧 Backup file '{queries_backup_path}' not found, starting sampling.\")\n",
    "\n",
    "    analyzer = DatasetAnalyzer(corpora_directory)\n",
    "    analyzer.analyze_folder()\n",
    "    analyzer.generate_report()\n",
    "    sample = analyzer.get_stratified_sample(100)\n",
    "\n",
    "    # Extract the file path list and ensure it's in a standardized format\n",
    "    corpora_paths_list = [os.path.normpath(file_info['file_path']).replace('\\\\', '/') for file_info in sample]\n",
    "\n",
    "    print(f\"\\n🎯 Stratified sampling complete, selected {len(sample)} files:\")\n",
    "    for i, file_info in enumerate(sample, 1):\n",
    "        print(f\"  {i:2d}. {file_info['category']} - {file_info['filename']}\")\n",
    "\n",
    "# --- Rest of the code remains the same ---\n",
    "print(f\"\\n✅ The file paths to be processed have been saved in corpora_paths_list\")\n",
    "print(f\"📁 The generated queries will be saved to: {queries_csv_path}\")"
   ]
  },
  {
   "cell_type": "markdown",
   "id": "4131bb11",
   "metadata": {},
   "source": [
    "## 5. Generate Queries and Excerpts"
   ]
  },
  {
   "cell_type": "markdown",
   "id": "179bc6ea",
   "metadata": {},
   "source": [
    "### 5.1 Memory manage"
   ]
  },
  {
   "cell_type": "code",
   "execution_count": 8,
   "id": "3d054b60",
   "metadata": {},
   "outputs": [
    {
     "name": "stdout",
     "output_type": "stream",
     "text": [
      "Note: you may need to restart the kernel to use updated packages.\n",
      "Note: you may need to restart the kernel to use updated packages.\n"
     ]
    }
   ],
   "source": [
    "%pip install --upgrade ipywidgets --quiet\n",
    "%pip install accelerate --quiet"
   ]
  },
  {
   "cell_type": "code",
   "execution_count": 9,
   "id": "b3fb8e21",
   "metadata": {},
   "outputs": [
    {
     "name": "stdout",
     "output_type": "stream",
     "text": [
      "正在預估模型分佈...\n"
     ]
    },
    {
     "data": {
      "application/vnd.jupyter.widget-view+json": {
       "model_id": "88b3b6c1cd1f4f49a5476ab0725a9b2a",
       "version_major": 2,
       "version_minor": 0
      },
      "text/plain": [
       "Loading checkpoint shards:   0%|          | 0/4 [00:00<?, ?it/s]"
      ]
     },
     "metadata": {},
     "output_type": "display_data"
    },
    {
     "name": "stdout",
     "output_type": "stream",
     "text": [
      "根據 max_memory={0: '12GiB', 'cpu': '8GiB'} 預估裝置分佈中...\n",
      "預估的裝置分佈: OrderedDict({'model.embed_tokens': 0, 'model.layers.0': 0, 'model.layers.1': 0, 'model.layers.2': 0, 'model.layers.3': 0, 'model.layers.4': 0, 'model.layers.5': 0, 'model.layers.6': 0, 'model.layers.7': 0, 'model.layers.8': 0, 'model.layers.9': 0, 'model.layers.10': 0, 'model.layers.11': 0, 'model.layers.12': 0, 'model.layers.13': 0, 'model.layers.14': 0, 'model.layers.15': 0, 'model.layers.16': 0, 'model.layers.17': 0, 'model.layers.18': 0, 'model.layers.19': 0, 'model.layers.20': 0, 'model.layers.21': 0, 'model.layers.22': 0, 'model.layers.23': 0, 'model.layers.24': 'cpu', 'model.layers.25': 'cpu', 'model.layers.26': 'cpu', 'model.layers.27': 'cpu', 'model.layers.28': 'cpu', 'model.layers.29': 'cpu', 'model.layers.30': 'cpu', 'model.layers.31': 'cpu', 'model.norm': 'cpu', 'model.rotary_emb': 'cpu', 'lm_head': 'cpu'})\n",
      "正在載入 meta-llama/Llama-3.1-8B-Instruct 模型...\n"
     ]
    },
    {
     "data": {
      "application/vnd.jupyter.widget-view+json": {
       "model_id": "c403f1e78641437f9cba8aa6b1155bb4",
       "version_major": 2,
       "version_minor": 0
      },
      "text/plain": [
       "Loading checkpoint shards:   0%|          | 0/4 [00:00<?, ?it/s]"
      ]
     },
     "metadata": {},
     "output_type": "display_data"
    },
    {
     "name": "stderr",
     "output_type": "stream",
     "text": [
      "Some parameters are on the meta device because they were offloaded to the cpu.\n"
     ]
    },
    {
     "name": "stdout",
     "output_type": "stream",
     "text": [
      "meta-llama/Llama-3.1-8B-Instruct 模型已成功載入到裝置: {'model.embed_tokens': 0, 'model.layers.0': 0, 'model.layers.1': 0, 'model.layers.2': 0, 'model.layers.3': 0, 'model.layers.4': 0, 'model.layers.5': 0, 'model.layers.6': 0, 'model.layers.7': 0, 'model.layers.8': 0, 'model.layers.9': 0, 'model.layers.10': 0, 'model.layers.11': 0, 'model.layers.12': 0, 'model.layers.13': 0, 'model.layers.14': 0, 'model.layers.15': 0, 'model.layers.16': 0, 'model.layers.17': 0, 'model.layers.18': 0, 'model.layers.19': 0, 'model.layers.20': 0, 'model.layers.21': 0, 'model.layers.22': 0, 'model.layers.23': 0, 'model.layers.24': 'cpu', 'model.layers.25': 'cpu', 'model.layers.26': 'cpu', 'model.layers.27': 'cpu', 'model.layers.28': 'cpu', 'model.layers.29': 'cpu', 'model.layers.30': 'cpu', 'model.layers.31': 'cpu', 'model.norm': 'cpu', 'model.rotary_emb': 'cpu', 'lm_head': 'cpu'}\n"
     ]
    }
   ],
   "source": [
    "# Initialize the evaluation\n",
    "evaluation = SyntheticEvaluation(corpora_paths_list, queries_csv_path)"
   ]
  },
  {
   "cell_type": "markdown",
   "id": "1dc149eb",
   "metadata": {},
   "source": [
    "### 5.2 Generate dataset"
   ]
  },
  {
   "cell_type": "code",
   "execution_count": 10,
   "id": "a19b652c",
   "metadata": {},
   "outputs": [
    {
     "name": "stdout",
     "output_type": "stream",
     "text": [
      "✅ 備份檔案 './chunking_evaluation/evaluation_framework/general_evaluation_data/generated_queries_and_excerpts_backup.csv' 已存在，跳過查詢生成步驟。\n"
     ]
    }
   ],
   "source": [
    "# Generate queries and excerpts, and save to CSV\n",
    "if os.path.exists(queries_backup_path):\n",
    "    print(f\"✅ 備份檔案 '{queries_backup_path}' 已存在，跳過查詢生成步驟。\")\n",
    "else:\n",
    "    print(f\"🚀 正在生成查詢與摘錄...\")\n",
    "    evaluation.generate_queries_and_excerpts(approximate_excerpts=True, num_rounds=1, queries_per_corpus=1)\n",
    "    print(f\"✔️ 查詢生成完成，已儲存至 '{queries_csv_path}'\")\n",
    "#evaluation.debug_full_output(\"./corpora/113_2_資訊工程學系_微積分(二)[159040]_陳榮銘.html\", use_approx=True, save_to_file=True)\n"
   ]
  },
  {
   "cell_type": "code",
   "execution_count": 11,
   "id": "0254ee6b",
   "metadata": {},
   "outputs": [
    {
     "name": "stdout",
     "output_type": "stream",
     "text": [
      "🔧 開始修復 CSV 中的 references 欄位...\n",
      "🔧 已修正 'corpus_id' 欄位中的路徑格式。\n",
      "📊 讀取到 181 條記錄\n",
      "正在修復 references 欄位...\n",
      "✅ 修復完成!\n",
      "   成功修復: 181 條\n",
      "   修復失敗: 0 條\n",
      "   總計: 181 條\n",
      "🔍 驗證 CSV 文件完整性...\n",
      "📊 讀取到 181 條記錄\n",
      "✅ 有效記錄: 181\n",
      "❌ 無效記錄: 0\n",
      "🎉 CSV 文件完整性驗證通過!\n"
     ]
    },
    {
     "data": {
      "text/plain": [
       "True"
      ]
     },
     "execution_count": 11,
     "metadata": {},
     "output_type": "execute_result"
    }
   ],
   "source": [
    "evaluation.repair_csv_references() \n",
    "evaluation.validate_csv_integrity()"
   ]
  },
  {
   "cell_type": "code",
   "execution_count": 12,
   "id": "3cc9303a",
   "metadata": {},
   "outputs": [],
   "source": [
    "# Apply filter to remove queries with poor excerpts\n",
    "#evaluation.filter_poor_excerpts(threshold=0.36)\n",
    "\n",
    "# Apply filter to remove duplicates\n",
    "#evaluation.filter_duplicates(threshold=0.6)"
   ]
  },
  {
   "cell_type": "markdown",
   "id": "75e449e2",
   "metadata": {},
   "source": [
    "## 6. Run the evaluation"
   ]
  },
  {
   "cell_type": "code",
   "execution_count": 13,
   "id": "599e6be3",
   "metadata": {},
   "outputs": [
    {
     "name": "stdout",
     "output_type": "stream",
     "text": [
      "Warning: Failed to use the frozen embeddings originally used in the paper. As a result, this package will now generate a new set of embeddings. The change should be minimal and only come from the noise floor of SentenceTransformer's embedding function. The error:  Collection [auto_questions_bge_m3] does not exists\n",
      "Collection 'auto_questions' did not exist or could not be deleted: Collection [auto_questions] does not exists\n",
      "New 'auto_questions' collection created.\n",
      "181 questions added to 'auto_questions' collection.\n",
      "{'corpora_scores': {'chunking_evaluation/evaluation_framework/general_evaluation_data/corpora/113_2_通識教育中心_兒童文學與閱讀[106142]_蔡世惠.html': {'precision_omega_scores': [0], 'iou_scores': [0.0], 'recall_scores': [0.0], 'precision_scores': [0]}, 'chunking_evaluation/evaluation_framework/general_evaluation_data/corpora/113_2_通識教育中心_網路資料探勘與分析[106209]_謝凱隆.html': {'precision_omega_scores': [0], 'iou_scores': [0.0], 'recall_scores': [0.0], 'precision_scores': [0]}, 'chunking_evaluation/evaluation_framework/general_evaluation_data/corpora/113_2_通識教育中心_臺灣原住民文學[106130]_林秀珍.html': {'precision_omega_scores': [0], 'iou_scores': [0.0], 'recall_scores': [0.0], 'precision_scores': [0]}, 'chunking_evaluation/evaluation_framework/general_evaluation_data/corpora/113_2_通識教育中心_英文B(二)[106005]_林姿汶.html': {'precision_omega_scores': [0, 0], 'iou_scores': [0.0, 0.0], 'recall_scores': [0.0, 0.0], 'precision_scores': [0, 0]}, 'chunking_evaluation/evaluation_framework/general_evaluation_data/corpora/113_2_通識教育中心_理財規劃[106152]_黃麗金.html': {'precision_omega_scores': [0], 'iou_scores': [0.0], 'recall_scores': [0.0], 'precision_scores': [0]}, 'chunking_evaluation/evaluation_framework/general_evaluation_data/corpora/113_2_通識教育中心_物聯網應用[106208]_邱聰倚.html': {'precision_omega_scores': [0], 'iou_scores': [0.0], 'recall_scores': [0.0], 'precision_scores': [0]}, 'chunking_evaluation/evaluation_framework/general_evaluation_data/corpora/113_2_國語文學系_中國文學專題研究(二)[222005]_王琅.html': {'precision_omega_scores': [0], 'iou_scores': [0.0], 'recall_scores': [0.0], 'precision_scores': [0]}, 'chunking_evaluation/evaluation_framework/general_evaluation_data/corpora/113_2_國語文學系_女性文學(二)[122103]_陳昭吟.html': {'precision_omega_scores': [0], 'iou_scores': [0.0], 'recall_scores': [0.0], 'precision_scores': [0]}, 'chunking_evaluation/evaluation_framework/general_evaluation_data/corpora/113_2_國語文學系_專題研究與成果發表(二)[122096]_邱敏捷.html': {'precision_omega_scores': [0], 'iou_scores': [0.0], 'recall_scores': [0.0], 'precision_scores': [0]}, 'chunking_evaluation/evaluation_framework/general_evaluation_data/corpora/113_2_國語文學系_中國古代寓言[122108]_龔韻蘅.html': {'precision_omega_scores': [0], 'iou_scores': [0.0], 'recall_scores': [0.0], 'precision_scores': [0]}, 'chunking_evaluation/evaluation_framework/general_evaluation_data/corpora/113_2_國語文學系_古籍導讀(二)[122077]_林登順.html': {'precision_omega_scores': [0], 'iou_scores': [0.0], 'recall_scores': [0.0], 'precision_scores': [0]}, 'chunking_evaluation/evaluation_framework/general_evaluation_data/corpora/113_2_教育學系_教育研究法[112156]_鄒慧英.html': {'precision_omega_scores': [0], 'iou_scores': [0.0], 'recall_scores': [0.0], 'precision_scores': [0]}, 'chunking_evaluation/evaluation_framework/general_evaluation_data/corpora/113_2_教育學系_教學科技的創新應用[112163]_吳純萍.html': {'precision_omega_scores': [0], 'iou_scores': [0.0], 'recall_scores': [0.0], 'precision_scores': [0]}, 'chunking_evaluation/evaluation_framework/general_evaluation_data/corpora/113_2_教育學系_科學教育評量[112174]_凃柏原.html': {'precision_omega_scores': [0], 'iou_scores': [0.0], 'recall_scores': [0.0], 'precision_scores': [0]}, 'chunking_evaluation/evaluation_framework/general_evaluation_data/corpora/113_2_教育學系_社會心理學[112180]_陳得文.html': {'precision_omega_scores': [0], 'iou_scores': [0.0], 'recall_scores': [0.0], 'precision_scores': [0]}, 'chunking_evaluation/evaluation_framework/general_evaluation_data/corpora/113_2_師資培育中心_國民小學教學實習[107040]_李貞慧.html': {'precision_omega_scores': [0], 'iou_scores': [0.0], 'recall_scores': [0.0], 'precision_scores': [0]}, 'chunking_evaluation/evaluation_framework/general_evaluation_data/corpora/113_2_師資培育中心_教育哲學[107009]_李郁緻.html': {'precision_omega_scores': [0], 'iou_scores': [0.0], 'recall_scores': [0.0], 'precision_scores': [0]}, 'chunking_evaluation/evaluation_framework/general_evaluation_data/corpora/113_2_師資培育中心_閱讀教育[107005]_陳光明.html': {'precision_omega_scores': [0], 'iou_scores': [0.0], 'recall_scores': [0.0], 'precision_scores': [0]}, 'chunking_evaluation/evaluation_framework/general_evaluation_data/corpora/113_2_英語學系_日文(二)[127070]_蘇純玉.html': {'precision_omega_scores': [0], 'iou_scores': [0.0], 'recall_scores': [0.0], 'precision_scores': [0]}, 'chunking_evaluation/evaluation_framework/general_evaluation_data/corpora/113_2_英語學系_數位語言教材製作[127082]_柯昭蓉.html': {'precision_omega_scores': [0], 'iou_scores': [0.0], 'recall_scores': [0.0], 'precision_scores': [0]}, 'chunking_evaluation/evaluation_framework/general_evaluation_data/corpora/113_2_英語學系_英語加強班(大學)[127092]_白惠齡.html': {'precision_omega_scores': [0], 'iou_scores': [0.0], 'recall_scores': [0.0], 'precision_scores': [0]}, 'chunking_evaluation/evaluation_framework/general_evaluation_data/corpora/113_2_英語學系_演講[127068]_康雅禎.html': {'precision_omega_scores': [0], 'iou_scores': [0.0], 'recall_scores': [0.0], 'precision_scores': [0]}, 'chunking_evaluation/evaluation_framework/general_evaluation_data/corpora/113_2_特殊教育學系_資賦優異教育概論[140066]_陳英豪.html': {'precision_omega_scores': [0], 'iou_scores': [0.0], 'recall_scores': [0.0], 'precision_scores': [0]}, 'chunking_evaluation/evaluation_framework/general_evaluation_data/corpora/113_2_特殊教育學系_資賦優異學生教材教法(2)[140086]_陳英豪.html': {'precision_omega_scores': [0], 'iou_scores': [0.0], 'recall_scores': [0.0], 'precision_scores': [0]}, 'chunking_evaluation/evaluation_framework/general_evaluation_data/corpora/113_2_視覺藝術與設計學系_藝術行政與管理(二)[191097]_潘青林.html': {'precision_omega_scores': [0], 'iou_scores': [0.0], 'recall_scores': [0.0], 'precision_scores': [0]}, 'chunking_evaluation/evaluation_framework/general_evaluation_data/corpora/113_2_視覺藝術與設計學系_畢業製作(二)[191079]_陳建發.html': {'precision_omega_scores': [0], 'iou_scores': [0.0], 'recall_scores': [0.0], 'precision_scores': [0]}, 'chunking_evaluation/evaluation_framework/general_evaluation_data/corpora/113_2_視覺藝術與設計學系_文化創意設計與出版(二)[191108]_黃桂瀅.html': {'precision_omega_scores': [0], 'iou_scores': [0.0], 'recall_scores': [0.0], 'precision_scores': [0]}, 'chunking_evaluation/evaluation_framework/general_evaluation_data/corpora/113_2_體育學系_排球[113068]_鄭安城.html': {'precision_omega_scores': [0], 'iou_scores': [0.0], 'recall_scores': [0.0], 'precision_scores': [0]}, 'chunking_evaluation/evaluation_framework/general_evaluation_data/corpora/113_2_體育學系_專長訓練A(籃球)[113074]_彭小惠.html': {'precision_omega_scores': [0], 'iou_scores': [0.0], 'recall_scores': [0.0], 'precision_scores': [0]}, 'chunking_evaluation/evaluation_framework/general_evaluation_data/corpora/113_2_體育學系_體操(二)[113064]_黃國明.html': {'precision_omega_scores': [0], 'iou_scores': [0.0], 'recall_scores': [0.0], 'precision_scores': [0]}, 'chunking_evaluation/evaluation_framework/general_evaluation_data/corpora/113_2_綠色能源科技學系_運算思維與程式設計[183075]_趙敏妏.html': {'precision_omega_scores': [0], 'iou_scores': [0.0], 'recall_scores': [0.0], 'precision_scores': [0]}, 'chunking_evaluation/evaluation_framework/general_evaluation_data/corpora/113_2_綠色能源科技學系_中文閱讀與書寫(二)[183039]_蘇淑貞.html': {'precision_omega_scores': [0, 0], 'iou_scores': [0.0, 0.0], 'recall_scores': [0.0, 0.0], 'precision_scores': [0, 0]}, 'chunking_evaluation/evaluation_framework/general_evaluation_data/corpora/113_2_電機工程學系_訊號與系統[182081]_陳居毓.html': {'precision_omega_scores': [0], 'iou_scores': [0.0], 'recall_scores': [0.0], 'precision_scores': [0]}, 'chunking_evaluation/evaluation_framework/general_evaluation_data/corpora/113_2_電機工程學系_計算機程式設計與實習(二)[182076]_梁家銘.html': {'precision_omega_scores': [0], 'iou_scores': [0.0], 'recall_scores': [0.0], 'precision_scores': [0]}, 'chunking_evaluation/evaluation_framework/general_evaluation_data/corpora/113_2_文化與自然資源學系_臺灣宗教民俗史(二)[134078]_邱麗娟.html': {'precision_omega_scores': [0], 'iou_scores': [0.0], 'recall_scores': [0.0], 'precision_scores': [0]}, 'chunking_evaluation/evaluation_framework/general_evaluation_data/corpora/113_2_文化與自然資源學系_文化哲學[134053]_陳一峰.html': {'precision_omega_scores': [0], 'iou_scores': [0.0], 'recall_scores': [0.0], 'precision_scores': [0]}, 'chunking_evaluation/evaluation_framework/general_evaluation_data/corpora/113_2_資訊工程學系_畢業專題實作(一)[159054]_高啟洲.html': {'precision_omega_scores': [0], 'iou_scores': [0.0], 'recall_scores': [0.0], 'precision_scores': [0]}, 'chunking_evaluation/evaluation_framework/general_evaluation_data/corpora/113_2_資訊工程學系_數位系統實驗[159047]_高啟洲.html': {'precision_omega_scores': [0], 'iou_scores': [0.0], 'recall_scores': [0.0], 'precision_scores': [0]}, 'chunking_evaluation/evaluation_framework/general_evaluation_data/corpora/113_2_數位學習科技學系_人工智慧的教學應用[155087]_黃意雯.html': {'precision_omega_scores': [0], 'iou_scores': [0.0], 'recall_scores': [0.0], 'precision_scores': [0]}, 'chunking_evaluation/evaluation_framework/general_evaluation_data/corpora/113_2_數位學習科技學系_系統分析與設計[155060]_黃意雯.html': {'precision_omega_scores': [0], 'iou_scores': [0.0], 'recall_scores': [0.0], 'precision_scores': [0]}, 'chunking_evaluation/evaluation_framework/general_evaluation_data/corpora/113_2_生態暨環境資源學系_多變量統計分析[156069]_許皓捷.html': {'precision_omega_scores': [0], 'iou_scores': [0.0], 'recall_scores': [0.0], 'precision_scores': [0]}, 'chunking_evaluation/evaluation_framework/general_evaluation_data/corpora/113_2_生態暨環境資源學系_入侵植物[156084]_謝宗欣.html': {'precision_omega_scores': [0], 'iou_scores': [0.0], 'recall_scores': [0.0], 'precision_scores': [0]}, 'chunking_evaluation/evaluation_framework/general_evaluation_data/corpora/113_2_音樂學系_義大利文歌唱語音法[164379]_朱芸宜.html': {'precision_omega_scores': [0], 'iou_scores': [0.0], 'recall_scores': [0.0], 'precision_scores': [0]}, 'chunking_evaluation/evaluation_framework/general_evaluation_data/corpora/113_2_音樂學系_樂器學(二)[164409]_李慧怡.html': {'precision_omega_scores': [0], 'iou_scores': [0.0], 'recall_scores': [0.0], 'precision_scores': [0]}, 'chunking_evaluation/evaluation_framework/general_evaluation_data/corpora/113_2_材料科學系_電磁學導論[167064]_鄭永楨.html': {'precision_omega_scores': [0], 'iou_scores': [0.0], 'recall_scores': [0.0], 'precision_scores': [0]}, 'chunking_evaluation/evaluation_framework/general_evaluation_data/corpora/113_2_材料科學系_物理冶金(二)[167053]_鄭建星.html': {'precision_omega_scores': [0], 'iou_scores': [0.0], 'recall_scores': [0.0], 'precision_scores': [0]}, 'chunking_evaluation/evaluation_framework/general_evaluation_data/corpora/113_2_幼兒教育學系_教育心理學[170036]_張麗芬.html': {'precision_omega_scores': [0], 'iou_scores': [0.0], 'recall_scores': [0.0], 'precision_scores': [0]}, 'chunking_evaluation/evaluation_framework/general_evaluation_data/corpora/113_2_幼兒教育學系_幼兒園教學實習(二)[170049]_鄭雅丰.html': {'precision_omega_scores': [0], 'iou_scores': [0.0], 'recall_scores': [0.0], 'precision_scores': [0]}, 'chunking_evaluation/evaluation_framework/general_evaluation_data/corpora/113_2_生物科技學系_人體組織學[158063]_丁慧如.html': {'precision_omega_scores': [0], 'iou_scores': [0.0], 'recall_scores': [0.0], 'precision_scores': [0]}, 'chunking_evaluation/evaluation_framework/general_evaluation_data/corpora/113_2_生物科技學系_顯微技術[158053]_曹哲嘉.html': {'precision_omega_scores': [0], 'iou_scores': [0.0], 'recall_scores': [0.0], 'precision_scores': [0]}, 'chunking_evaluation/evaluation_framework/general_evaluation_data/corpora/113_2_綠色能源科技學系(進修學士班)_普通物理學實驗(二)[283005]_梁品鈞.html': {'precision_omega_scores': [0], 'iou_scores': [0.0], 'recall_scores': [0.0], 'precision_scores': [0]}, 'chunking_evaluation/evaluation_framework/general_evaluation_data/corpora/113_2_綠色能源科技學系(進修學士班)_工程電腦程式[283035]_丁顥.html': {'precision_omega_scores': [0], 'iou_scores': [0.0], 'recall_scores': [0.0], 'precision_scores': [0]}, 'chunking_evaluation/evaluation_framework/general_evaluation_data/corpora/113_2_諮商與輔導學系_心理與教育統計[128055]_房孟潔.html': {'precision_omega_scores': [0], 'iou_scores': [0.0], 'recall_scores': [0.0], 'precision_scores': [0]}, 'chunking_evaluation/evaluation_framework/general_evaluation_data/corpora/113_2_戲劇創作與應用學系_當代兒童劇場[172063]_陳晞如.html': {'precision_omega_scores': [0], 'iou_scores': [0.0], 'recall_scores': [0.0], 'precision_scores': [0]}, 'chunking_evaluation/evaluation_framework/general_evaluation_data/corpora/113_2_戲劇創作與應用學系_教習劇場TIE(一)[172060]_許瑞芳.html': {'precision_omega_scores': [0], 'iou_scores': [0.0], 'recall_scores': [0.0], 'precision_scores': [0]}, 'chunking_evaluation/evaluation_framework/general_evaluation_data/corpora/113_2_行政管理學系_民法(二)[132057]_曾博欣.html': {'precision_omega_scores': [0], 'iou_scores': [0.0], 'recall_scores': [0.0], 'precision_scores': [0]}, 'chunking_evaluation/evaluation_framework/general_evaluation_data/corpora/113_2_行政管理學系_行政法(二)[132056]_蕭妙香.html': {'precision_omega_scores': [0], 'iou_scores': [0.0], 'recall_scores': [0.0], 'precision_scores': [0]}, 'chunking_evaluation/evaluation_framework/general_evaluation_data/corpora/113_2_英語學系(進修學士班)_語言學概論(二)[227003]_康雅禎.html': {'precision_omega_scores': [0], 'iou_scores': [0.0], 'recall_scores': [0.0], 'precision_scores': [0]}, 'chunking_evaluation/evaluation_framework/general_evaluation_data/corpora/113_2_經營與管理學系_管理數學[125034]_劉哲宏.html': {'precision_omega_scores': [0, 0], 'iou_scores': [0.0, 0.0], 'recall_scores': [0.0, 0.0], 'precision_scores': [0, 0]}, 'chunking_evaluation/evaluation_framework/general_evaluation_data/corpora/113_2_音樂學系碩士班_鋼琴文獻探討(二)[164367]_蔡雨利.html': {'precision_omega_scores': [0], 'iou_scores': [0.0], 'recall_scores': [0.0], 'precision_scores': [0]}, 'chunking_evaluation/evaluation_framework/general_evaluation_data/corpora/113_2_諮商與輔導學系碩士班_諮商研究法[128042]_陳志賢.html': {'precision_omega_scores': [0], 'iou_scores': [0.0], 'recall_scores': [0.0], 'precision_scores': [0]}, 'chunking_evaluation/evaluation_framework/general_evaluation_data/corpora/113_2_生態暨環境資源學系碩士班_環境倫理特論[156053]_薛怡珍.html': {'precision_omega_scores': [0], 'iou_scores': [0.0], 'recall_scores': [0.0], 'precision_scores': [0]}, 'chunking_evaluation/evaluation_framework/general_evaluation_data/corpora/113_2_綠色能源科技學系碩士班_光電材料與元件特論[183046]_傅耀賢曾坤三.html': {'precision_omega_scores': [0], 'iou_scores': [0.0], 'recall_scores': [0.0], 'precision_scores': [0]}, 'chunking_evaluation/evaluation_framework/general_evaluation_data/corpora/113_2_視覺藝術與設計學系視覺藝術碩士班_美學專論[191066]_潘青林.html': {'precision_omega_scores': [0], 'iou_scores': [0.0], 'recall_scores': [0.0], 'precision_scores': [0]}, 'chunking_evaluation/evaluation_framework/general_evaluation_data/corpora/113_2_數位學習科技學系碩士班_數位影像處理[155046]_林信志.html': {'precision_omega_scores': [0], 'iou_scores': [0.0], 'recall_scores': [0.0], 'precision_scores': [0]}, 'chunking_evaluation/evaluation_framework/general_evaluation_data/corpora/113_2_材料科學系碩士班_材料研究技術[167039]_莊陽德.html': {'precision_omega_scores': [0], 'iou_scores': [0.0], 'recall_scores': [0.0], 'precision_scores': [0]}, 'chunking_evaluation/evaluation_framework/general_evaluation_data/corpora/113_2_體育學系碩士班_專題研討[113060]_卓國雄.html': {'precision_omega_scores': [0], 'iou_scores': [0.0], 'recall_scores': [0.0], 'precision_scores': [0]}, 'chunking_evaluation/evaluation_framework/general_evaluation_data/corpora/113_2_國語文學系國語文教學與應用碩士班_文學理論專題研究(二)[122070]_王建國.html': {'precision_omega_scores': [0], 'iou_scores': [0.0], 'recall_scores': [0.0], 'precision_scores': [0]}, 'chunking_evaluation/evaluation_framework/general_evaluation_data/corpora/113_2_戲劇創作與應用學系碩士班_戲劇教育專題研究[172041]_林玫君.html': {'precision_omega_scores': [0], 'iou_scores': [0.0], 'recall_scores': [0.0], 'precision_scores': [0]}, 'chunking_evaluation/evaluation_framework/general_evaluation_data/corpora/113_2_特殊教育學系碩士班_特殊族群資優專題研究[140106]_陳英豪.html': {'precision_omega_scores': [0], 'iou_scores': [0.0], 'recall_scores': [0.0], 'precision_scores': [0]}, 'chunking_evaluation/evaluation_framework/general_evaluation_data/corpora/113_2_生物科技學系碩士班_高等分子生物學[158039]_曾登裕.html': {'precision_omega_scores': [0], 'iou_scores': [0.0], 'recall_scores': [0.0], 'precision_scores': [0]}, 'chunking_evaluation/evaluation_framework/general_evaluation_data/corpora/113_2_行政管理學系碩士班_行政法專題[132037]_蕭妙香.html': {'precision_omega_scores': [0], 'iou_scores': [0.0], 'recall_scores': [0.0], 'precision_scores': [0]}, 'chunking_evaluation/evaluation_framework/general_evaluation_data/corpora/113_2_音樂學系碩士在職專班(夜)_論文寫作指導[264304]_蔡育昇.html': {'precision_omega_scores': [0], 'iou_scores': [0.0], 'recall_scores': [0.0], 'precision_scores': [0]}, 'chunking_evaluation/evaluation_framework/general_evaluation_data/corpora/113_2_幼兒教育學系碩士在職專班(夜)_幼兒發展理論[270001]_張麗芬.html': {'precision_omega_scores': [0], 'iou_scores': [0.0], 'recall_scores': [0.0], 'precision_scores': [0]}, 'chunking_evaluation/evaluation_framework/general_evaluation_data/corpora/113_2_應用數學系碩士班_偏微分方程[150058]_黃彥彰.html': {'precision_omega_scores': [0], 'iou_scores': [0.0], 'recall_scores': [0.0], 'precision_scores': [0]}, 'chunking_evaluation/evaluation_framework/general_evaluation_data/corpora/113_2_教育學系課程與教學教學碩士班(假日)_媒體教育研究[112106]_蘇建元.html': {'precision_omega_scores': [0], 'iou_scores': [0.0], 'recall_scores': [0.0], 'precision_scores': [0]}, 'chunking_evaluation/evaluation_framework/general_evaluation_data/corpora/113_2_理工學院智慧製造碩士在職學位學程_工程最佳設計[280003]_林大偉.html': {'precision_omega_scores': [0], 'iou_scores': [0.0], 'recall_scores': [0.0], 'precision_scores': [0]}, 'chunking_evaluation/evaluation_framework/general_evaluation_data/corpora/113_2_經營與管理學系科技管理碩士在職專班(夜)_研究方法[225002]_林懿貞.html': {'precision_omega_scores': [0], 'iou_scores': [0.0], 'recall_scores': [0.0], 'precision_scores': [0]}, 'chunking_evaluation/evaluation_framework/general_evaluation_data/corpora/113_2_經營與管理學系科技管理碩士班_財務管理[125027]_阮俊陽.html': {'precision_omega_scores': [0], 'iou_scores': [0.0], 'recall_scores': [0.0], 'precision_scores': [0]}, 'chunking_evaluation/evaluation_framework/general_evaluation_data/corpora/113_2_綠色能源科技學系碩士在職專班(夜)_轉換器電路設計特論[283028]_湯譯增.html': {'precision_omega_scores': [0], 'iou_scores': [0.0], 'recall_scores': [0.0], 'precision_scores': [0]}, 'chunking_evaluation/evaluation_framework/general_evaluation_data/corpora/113_2_行政管理學系碩士在職專班(夜)_專題研討（四）[232003]_林佳燕.html': {'precision_omega_scores': [0], 'iou_scores': [0.0], 'recall_scores': [0.0], 'precision_scores': [0]}, 'chunking_evaluation/evaluation_framework/general_evaluation_data/corpora/113_2_體育學系碩士在職專班(夜)_休閒活動研究[213005]_陳耀宏.html': {'precision_omega_scores': [0], 'iou_scores': [0.0], 'recall_scores': [0.0], 'precision_scores': [0]}, 'chunking_evaluation/evaluation_framework/general_evaluation_data/corpora/113_2_教育學系教育數位評量與數據分析碩士班_教育測驗與評量專題研討(二)[112112]_徐立真.html': {'precision_omega_scores': [0, 0], 'iou_scores': [0.0, 0.0], 'recall_scores': [0.0, 0.0], 'precision_scores': [0, 0]}, 'chunking_evaluation/evaluation_framework/general_evaluation_data/corpora/113_2_教育學系教育經營與管理碩士班_教育政策與批判研究[112122]_曾燦燈.html': {'precision_omega_scores': [0], 'iou_scores': [0.0], 'recall_scores': [0.0], 'precision_scores': [0]}, 'chunking_evaluation/evaluation_framework/general_evaluation_data/corpora/113_2_教育學系課程與教學碩士班_專題研討(二)[112098]_黃彥文.html': {'precision_omega_scores': [0], 'iou_scores': [0.0], 'recall_scores': [0.0], 'precision_scores': [0]}, 'chunking_evaluation/evaluation_framework/general_evaluation_data/corpora/113_2_經營與管理學系高階管理碩士在職專班(夜)_新興科技與組織發展[225012]_曾憲立.html': {'precision_omega_scores': [0], 'iou_scores': [0.0], 'recall_scores': [0.0], 'precision_scores': [0]}, 'chunking_evaluation/evaluation_framework/general_evaluation_data/corpora/113_2_視覺藝術與設計學系碩士在職專班(夜)_影像藝術專題研究[291003]_范如菀.html': {'precision_omega_scores': [0, 0], 'iou_scores': [0.0, 0.0], 'recall_scores': [0.0, 0.0], 'precision_scores': [0, 0]}, 'chunking_evaluation/evaluation_framework/general_evaluation_data/corpora/113_2_應用數學系碩士在職專班(夜)_數學迷思概念研究[250002]_黃建中.html': {'precision_omega_scores': [0], 'iou_scores': [0.0], 'recall_scores': [0.0], 'precision_scores': [0]}, 'chunking_evaluation/evaluation_framework/general_evaluation_data/corpora/113_2_教育學系教學科技碩士班_媒體素養教育研究[112127]_蘇建元.html': {'precision_omega_scores': [0, 0], 'iou_scores': [0.0, 0.0], 'recall_scores': [0.0, 0.0], 'precision_scores': [0, 0]}, 'chunking_evaluation/evaluation_framework/general_evaluation_data/corpora/113_2_通識教育中心_節能減碳[106196]_劉世鈞.html': {'precision_omega_scores': [0], 'iou_scores': [0.0], 'recall_scores': [0.0], 'precision_scores': [0]}, 'chunking_evaluation/evaluation_framework/general_evaluation_data/corpora/113_2_通識教育中心_英文B(二)[106012]_林怡君.html': {'precision_omega_scores': [0], 'iou_scores': [0.0], 'recall_scores': [0.0], 'precision_scores': [0]}, 'chunking_evaluation/evaluation_framework/general_evaluation_data/corpora/113_2_通識教育中心_生物科技的應用[106193]_鄧燕妮.html': {'precision_omega_scores': [0], 'iou_scores': [0.0], 'recall_scores': [0.0], 'precision_scores': [0]}, 'chunking_evaluation/evaluation_framework/general_evaluation_data/corpora/113_2_通識教育中心_性別與社會[106147]_郭維哲.html': {'precision_omega_scores': [0], 'iou_scores': [0.0], 'recall_scores': [0.0], 'precision_scores': [0]}, 'chunking_evaluation/evaluation_framework/general_evaluation_data/corpora/113_2_通識教育中心_直排輪入門[106183]_陳柏憲.html': {'precision_omega_scores': [0], 'iou_scores': [0.0], 'recall_scores': [0.0], 'precision_scores': [0]}, 'chunking_evaluation/evaluation_framework/general_evaluation_data/corpora/113_2_通識教育中心_醫學與保健[106177]_王一舟.html': {'precision_omega_scores': [0], 'iou_scores': [0.0], 'recall_scores': [0.0], 'precision_scores': [0]}, 'chunking_evaluation/evaluation_framework/general_evaluation_data/corpora/113_2_通識教育中心_從近代史看東亞思維[106213]_王姿雯.html': {'precision_omega_scores': [0], 'iou_scores': [0.0], 'recall_scores': [0.0], 'precision_scores': [0]}, 'chunking_evaluation/evaluation_framework/general_evaluation_data/corpora/113_2_通識教育中心_實用法律與思辨[106151]_劉建志.html': {'precision_omega_scores': [0], 'iou_scores': [0.0], 'recall_scores': [0.0], 'precision_scores': [0]}, 'chunking_evaluation/evaluation_framework/general_evaluation_data/corpora/113_2_國語文學系_詞曲選(二)[122091]_林慧真.html': {'precision_omega_scores': [0], 'iou_scores': [0.0], 'recall_scores': [0.0], 'precision_scores': [0]}, 'chunking_evaluation/evaluation_framework/general_evaluation_data/corpora/113_2_國語文學系_哲學概論[122074]_邱敏捷.html': {'precision_omega_scores': [0], 'iou_scores': [0.0], 'recall_scores': [0.0], 'precision_scores': [0]}, 'chunking_evaluation/evaluation_framework/general_evaluation_data/corpora/113_2_國語文學系_語言學概論[122073]_陳光明.html': {'precision_omega_scores': [0], 'iou_scores': [0.0], 'recall_scores': [0.0], 'precision_scores': [0]}, 'chunking_evaluation/evaluation_framework/general_evaluation_data/corpora/113_2_國語文學系_歷代文選(二)[122086]_張惠貞.html': {'precision_omega_scores': [0], 'iou_scores': [0.0], 'recall_scores': [0.0], 'precision_scores': [0]}, 'chunking_evaluation/evaluation_framework/general_evaluation_data/corpora/113_2_國語文學系_閱讀教學專題研究(二)[222004]_陳光明.html': {'precision_omega_scores': [0], 'iou_scores': [0.0], 'recall_scores': [0.0], 'precision_scores': [0]}, 'chunking_evaluation/evaluation_framework/general_evaluation_data/corpora/113_2_教育學系_體育(二)[112096]_侯志堅.html': {'precision_omega_scores': [0], 'iou_scores': [0.0], 'recall_scores': [0.0], 'precision_scores': [0]}, 'chunking_evaluation/evaluation_framework/general_evaluation_data/corpora/113_2_教育學系_教育統計學[112151]_林娟如.html': {'precision_omega_scores': [0], 'iou_scores': [0.0], 'recall_scores': [0.0], 'precision_scores': [0]}, 'chunking_evaluation/evaluation_framework/general_evaluation_data/corpora/113_2_師資培育中心_國民小學教學實習[107039]_顏百鴻朱麗玲.html': {'precision_omega_scores': [0], 'iou_scores': [0.0], 'recall_scores': [0.0], 'precision_scores': [0]}, 'chunking_evaluation/evaluation_framework/general_evaluation_data/corpora/113_2_師資培育中心_國民小學教學實習(雙語教學課程)[107041]_呂翠鈴.html': {'precision_omega_scores': [0], 'iou_scores': [0.0], 'recall_scores': [0.0], 'precision_scores': [0]}, 'chunking_evaluation/evaluation_framework/general_evaluation_data/corpora/113_2_英語學系_法文(二)[127071]_熊慧如.html': {'precision_omega_scores': [0], 'iou_scores': [0.0], 'recall_scores': [0.0], 'precision_scores': [0]}, 'chunking_evaluation/evaluation_framework/general_evaluation_data/corpora/113_2_英語學系_英語故事教學[127076]_楊逸君.html': {'precision_omega_scores': [0], 'iou_scores': [0.0], 'recall_scores': [0.0], 'precision_scores': [0]}, 'chunking_evaluation/evaluation_framework/general_evaluation_data/corpora/113_2_英語學系_英語加強班(大學)[127093]_吳宇築.html': {'precision_omega_scores': [0], 'iou_scores': [0.0], 'recall_scores': [0.0], 'precision_scores': [0]}, 'chunking_evaluation/evaluation_framework/general_evaluation_data/corpora/113_2_英語學系_英語口語訓練(二)[127075]_楊逸君.html': {'precision_omega_scores': [0], 'iou_scores': [0.0], 'recall_scores': [0.0], 'precision_scores': [0]}, 'chunking_evaluation/evaluation_framework/general_evaluation_data/corpora/113_2_特殊教育學系_聽覺障礙輔助科技[140098]_劉俊榮.html': {'precision_omega_scores': [0], 'iou_scores': [0.0], 'recall_scores': [0.0], 'precision_scores': [0]}, 'chunking_evaluation/evaluation_framework/general_evaluation_data/corpora/113_2_特殊教育學系_資賦優異教育實習(1)[140084]_高振耀.html': {'precision_omega_scores': [0], 'iou_scores': [0.0], 'recall_scores': [0.0], 'precision_scores': [0]}, 'chunking_evaluation/evaluation_framework/general_evaluation_data/corpora/113_2_特殊教育學系_普通數學[140094]_陳  沅.html': {'precision_omega_scores': [0], 'iou_scores': [0.0], 'recall_scores': [0.0], 'precision_scores': [0]}, 'chunking_evaluation/evaluation_framework/general_evaluation_data/corpora/113_2_視覺藝術與設計學系_臺灣美術[191105]_董維琇.html': {'precision_omega_scores': [0], 'iou_scores': [0.0], 'recall_scores': [0.0], 'precision_scores': [0]}, 'chunking_evaluation/evaluation_framework/general_evaluation_data/corpora/113_2_視覺藝術與設計學系_立體造形與創作(二)[191102]_楊禮誠.html': {'precision_omega_scores': [0], 'iou_scores': [0.0], 'recall_scores': [0.0], 'precision_scores': [0]}, 'chunking_evaluation/evaluation_framework/general_evaluation_data/corpora/113_2_視覺藝術與設計學系_人體油畫[191085]_洪明爵.html': {'precision_omega_scores': [0], 'iou_scores': [0.0], 'recall_scores': [0.0], 'precision_scores': [0]}, 'chunking_evaluation/evaluation_framework/general_evaluation_data/corpora/113_2_體育學系_運動傷害預防與處理[113078]_陳振裕.html': {'precision_omega_scores': [0], 'iou_scores': [0.0], 'recall_scores': [0.0], 'precision_scores': [0]}, 'chunking_evaluation/evaluation_framework/general_evaluation_data/corpora/113_2_體育學系_兒童體能遊戲[113083]_蔡佳蓉.html': {'precision_omega_scores': [0], 'iou_scores': [0.0], 'recall_scores': [0.0], 'precision_scores': [0]}, 'chunking_evaluation/evaluation_framework/general_evaluation_data/corpora/113_2_體育學系_專長訓練B(羽球)[113092]_卓國雄李展豪.html': {'precision_omega_scores': [0], 'iou_scores': [0.0], 'recall_scores': [0.0], 'precision_scores': [0]}, 'chunking_evaluation/evaluation_framework/general_evaluation_data/corpora/113_2_綠色能源科技學系_能源專題研究(二)[183060]_池易楷李宜庭.html': {'precision_omega_scores': [0], 'iou_scores': [0.0], 'recall_scores': [0.0], 'precision_scores': [0]}, 'chunking_evaluation/evaluation_framework/general_evaluation_data/corpora/113_2_電機工程學系_體育(二)[182049]_侯志堅.html': {'precision_omega_scores': [0], 'iou_scores': [0.0], 'recall_scores': [0.0], 'precision_scores': [0]}, 'chunking_evaluation/evaluation_framework/general_evaluation_data/corpora/113_2_電機工程學系_工程數學(二)[182077]_許志維.html': {'precision_omega_scores': [0], 'iou_scores': [0.0], 'recall_scores': [0.0], 'precision_scores': [0]}, 'chunking_evaluation/evaluation_framework/general_evaluation_data/corpora/113_2_文化與自然資源學系_地方志書編撰[134072]_張靜宜.html': {'precision_omega_scores': [0], 'iou_scores': [0.0], 'recall_scores': [0.0], 'precision_scores': [0]}, 'chunking_evaluation/evaluation_framework/general_evaluation_data/corpora/113_2_文化與自然資源學系_歷史、記憶與述說[134077]_楊書濠.html': {'precision_omega_scores': [0], 'iou_scores': [0.0], 'recall_scores': [0.0], 'precision_scores': [0]}, 'chunking_evaluation/evaluation_framework/general_evaluation_data/corpora/113_2_資訊工程學系_資訊倫理與法律[159056]_劉建志.html': {'precision_omega_scores': [0], 'iou_scores': [0.0], 'recall_scores': [0.0], 'precision_scores': [0]}, 'chunking_evaluation/evaluation_framework/general_evaluation_data/corpora/113_2_資訊工程學系_體育(二)[159033]_蔡佳蓉.html': {'precision_omega_scores': [0], 'iou_scores': [0.0], 'recall_scores': [0.0], 'precision_scores': [0]}, 'chunking_evaluation/evaluation_framework/general_evaluation_data/corpora/113_2_數位學習科技學系_3D動畫設計與實作[155082]_黃耀霆.html': {'precision_omega_scores': [0], 'iou_scores': [0.0], 'recall_scores': [0.0], 'precision_scores': [0]}, 'chunking_evaluation/evaluation_framework/general_evaluation_data/corpora/113_2_數位學習科技學系_離散數學[155058]_孫光天.html': {'precision_omega_scores': [0], 'iou_scores': [0.0], 'recall_scores': [0.0], 'precision_scores': [0]}, 'chunking_evaluation/evaluation_framework/general_evaluation_data/corpora/113_2_生態暨環境資源學系_遊憩植物學[156071]_范玉玲.html': {'precision_omega_scores': [0], 'iou_scores': [0.0], 'recall_scores': [0.0], 'precision_scores': [0]}, 'chunking_evaluation/evaluation_framework/general_evaluation_data/corpora/113_2_生態暨環境資源學系_昆蟲學[156078]_黃文伯.html': {'precision_omega_scores': [0], 'iou_scores': [0.0], 'recall_scores': [0.0], 'precision_scores': [0]}, 'chunking_evaluation/evaluation_framework/general_evaluation_data/corpora/113_2_音樂學系_爵士合奏[164408]_林佾璁.html': {'precision_omega_scores': [0], 'iou_scores': [0.0], 'recall_scores': [0.0], 'precision_scores': [0]}, 'chunking_evaluation/evaluation_framework/general_evaluation_data/corpora/113_2_音樂學系_器樂演奏詮釋(二)[164407]_李慧怡.html': {'precision_omega_scores': [0], 'iou_scores': [0.0], 'recall_scores': [0.0], 'precision_scores': [0]}, 'chunking_evaluation/evaluation_framework/general_evaluation_data/corpora/113_2_材料科學系_科技法律[167068]_莊志剛.html': {'precision_omega_scores': [0], 'iou_scores': [0.0], 'recall_scores': [0.0], 'precision_scores': [0]}, 'chunking_evaluation/evaluation_framework/general_evaluation_data/corpora/113_2_材料科學系_能源材料與元件[167065]_林大偉.html': {'precision_omega_scores': [0], 'iou_scores': [0.0], 'recall_scores': [0.0], 'precision_scores': [0]}, 'chunking_evaluation/evaluation_framework/general_evaluation_data/corpora/113_2_幼兒教育學系_幼兒遊戲[170039]_林聖曦.html': {'precision_omega_scores': [0], 'iou_scores': [0.0], 'recall_scores': [0.0], 'precision_scores': [0]}, 'chunking_evaluation/evaluation_framework/general_evaluation_data/corpora/113_2_生物科技學系_細胞生物學實驗[158049]_張翠玲.html': {'precision_omega_scores': [0], 'iou_scores': [0.0], 'recall_scores': [0.0], 'precision_scores': [0]}, 'chunking_evaluation/evaluation_framework/general_evaluation_data/corpora/113_2_生物科技學系_生物科技英文[158051]_曹哲嘉.html': {'precision_omega_scores': [0], 'iou_scores': [0.0], 'recall_scores': [0.0], 'precision_scores': [0]}, 'chunking_evaluation/evaluation_framework/general_evaluation_data/corpora/113_2_綠色能源科技學系(進修學士班)_輸送現象[283012]_蔡孟哲.html': {'precision_omega_scores': [0], 'iou_scores': [0.0], 'recall_scores': [0.0], 'precision_scores': [0]}, 'chunking_evaluation/evaluation_framework/general_evaluation_data/corpora/113_2_綠色能源科技學系(進修學士班)_普通化學實驗(二)[283007]_柯昊葳.html': {'precision_omega_scores': [0], 'iou_scores': [0.0], 'recall_scores': [0.0], 'precision_scores': [0]}, 'chunking_evaluation/evaluation_framework/general_evaluation_data/corpora/113_2_諮商與輔導學系_輔導原理與實務[128054]_陳宇平.html': {'precision_omega_scores': [0], 'iou_scores': [0.0], 'recall_scores': [0.0], 'precision_scores': [0]}, 'chunking_evaluation/evaluation_framework/general_evaluation_data/corpora/113_2_諮商與輔導學系_專題研究(一)[128070]_翟宗悌.html': {'precision_omega_scores': [0], 'iou_scores': [0.0], 'recall_scores': [0.0], 'precision_scores': [0]}, 'chunking_evaluation/evaluation_framework/general_evaluation_data/corpora/113_2_戲劇創作與應用學系_表演(二)[172061]_厲復平.html': {'precision_omega_scores': [0], 'iou_scores': [0.0], 'recall_scores': [0.0], 'precision_scores': [0]}, 'chunking_evaluation/evaluation_framework/general_evaluation_data/corpora/113_2_戲劇創作與應用學系_即興創作[172050]_厲復平.html': {'precision_omega_scores': [0], 'iou_scores': [0.0], 'recall_scores': [0.0], 'precision_scores': [0]}, 'chunking_evaluation/evaluation_framework/general_evaluation_data/corpora/113_2_行政管理學系_地方發展與地區行銷[132060]_馬群傑.html': {'precision_omega_scores': [0], 'iou_scores': [0.0], 'recall_scores': [0.0], 'precision_scores': [0]}, 'chunking_evaluation/evaluation_framework/general_evaluation_data/corpora/113_2_行政管理學系_經濟學[132043]_林政佑.html': {'precision_omega_scores': [0], 'iou_scores': [0.0], 'recall_scores': [0.0], 'precision_scores': [0]}, 'chunking_evaluation/evaluation_framework/general_evaluation_data/corpora/113_2_應用數學系_運算思維與程式設計[150062]_陳憲揚.html': {'precision_omega_scores': [0], 'iou_scores': [0.0], 'recall_scores': [0.0], 'precision_scores': [0]}, 'chunking_evaluation/evaluation_framework/general_evaluation_data/corpora/113_2_電機工程學系碩士班_奈米材料與元件[182063]_許正良.html': {'precision_omega_scores': [0], 'iou_scores': [0.0], 'recall_scores': [0.0], 'precision_scores': [0]}, 'chunking_evaluation/evaluation_framework/general_evaluation_data/corpora/113_2_音樂學系碩士班_樂器教學與實務研究[164378]_黃靜芳.html': {'precision_omega_scores': [0], 'iou_scores': [0.0], 'recall_scores': [0.0], 'precision_scores': [0]}, 'chunking_evaluation/evaluation_framework/general_evaluation_data/corpora/113_2_生態暨環境資源學系碩士班_可持續發展討論[156050]_王一匡.html': {'precision_omega_scores': [0], 'iou_scores': [0.0], 'recall_scores': [0.0], 'precision_scores': [0]}, 'chunking_evaluation/evaluation_framework/general_evaluation_data/corpora/113_2_綠色能源科技學系碩士班_儲能材料[183080]_張家欽.html': {'precision_omega_scores': [0], 'iou_scores': [0.0], 'recall_scores': [0.0], 'precision_scores': [0]}, 'chunking_evaluation/evaluation_framework/general_evaluation_data/corpora/113_2_視覺藝術與設計學系視覺藝術碩士班_當代藝術思潮[191063]_高實珩.html': {'precision_omega_scores': [0], 'iou_scores': [0.0], 'recall_scores': [0.0], 'precision_scores': [0]}, 'chunking_evaluation/evaluation_framework/general_evaluation_data/corpora/113_2_數位學習科技學系碩士班_教育資料探勘應用與研究[155051]_李建億.html': {'precision_omega_scores': [0], 'iou_scores': [0.0], 'recall_scores': [0.0], 'precision_scores': [0]}, 'chunking_evaluation/evaluation_framework/general_evaluation_data/corpora/113_2_材料科學系碩士班_電極材料開發與製作[167036]_蒲盈志.html': {'precision_omega_scores': [0], 'iou_scores': [0.0], 'recall_scores': [0.0], 'precision_scores': [0]}, 'chunking_evaluation/evaluation_framework/general_evaluation_data/corpora/113_2_體育學系碩士班_體育統計與套裝軟體應用[113056]_卓國雄.html': {'precision_omega_scores': [0], 'iou_scores': [0.0], 'recall_scores': [0.0], 'precision_scores': [0]}, 'chunking_evaluation/evaluation_framework/general_evaluation_data/corpora/113_2_國語文學系國語文教學與應用碩士班_論文寫作[122066]_張惠貞.html': {'precision_omega_scores': [0], 'iou_scores': [0.0], 'recall_scores': [0.0], 'precision_scores': [0]}, 'chunking_evaluation/evaluation_framework/general_evaluation_data/corpora/113_2_戲劇創作與應用學系碩士班_論文寫作[172046]_張麗玉厲復平.html': {'precision_omega_scores': [0], 'iou_scores': [0.0], 'recall_scores': [0.0], 'precision_scores': [0]}, 'chunking_evaluation/evaluation_framework/general_evaluation_data/corpora/113_2_文化與自然資源學系臺灣文化與觀光資源碩士班_特殊節慶與文化活動規劃[134045]_邱麗娟.html': {'precision_omega_scores': [0], 'iou_scores': [0.0], 'recall_scores': [0.0], 'precision_scores': [0]}, 'chunking_evaluation/evaluation_framework/general_evaluation_data/corpora/113_2_特殊教育學系碩士班_高等教育統計[140104]_楊憲明.html': {'precision_omega_scores': [0], 'iou_scores': [0.0], 'recall_scores': [0.0], 'precision_scores': [0]}, 'chunking_evaluation/evaluation_framework/general_evaluation_data/corpora/113_2_生物科技學系碩士班_高等生物化學[158037]_曾登裕.html': {'precision_omega_scores': [0], 'iou_scores': [0.0], 'recall_scores': [0.0], 'precision_scores': [0]}, 'chunking_evaluation/evaluation_framework/general_evaluation_data/corpora/113_2_行政管理學系碩士班_論文研討[132035]_馬群傑李芸蘋.html': {'precision_omega_scores': [0], 'iou_scores': [0.0], 'recall_scores': [0.0], 'precision_scores': [0]}, 'chunking_evaluation/evaluation_framework/general_evaluation_data/corpora/113_2_音樂學系碩士在職專班(夜)_歌劇演唱與表演(二)[164377]_朱芸宜.html': {'precision_omega_scores': [0], 'iou_scores': [0.0], 'recall_scores': [0.0], 'precision_scores': [0]}, 'chunking_evaluation/evaluation_framework/general_evaluation_data/corpora/113_2_幼兒教育學系碩士在職專班(夜)_幼兒教育課程理論[270002]_鄭雅丰.html': {'precision_omega_scores': [0], 'iou_scores': [0.0], 'recall_scores': [0.0], 'precision_scores': [0]}, 'chunking_evaluation/evaluation_framework/general_evaluation_data/corpora/113_2_應用數學系碩士班_財務數學[150037]_葉宗鑫.html': {'precision_omega_scores': [0], 'iou_scores': [0.0], 'recall_scores': [0.0], 'precision_scores': [0]}, 'chunking_evaluation/evaluation_framework/general_evaluation_data/corpora/113_2_教育學系課程與教學教學碩士班(假日)_教師專業與發展研究[112103]_陳修平.html': {'precision_omega_scores': [0], 'iou_scores': [0.0], 'recall_scores': [0.0], 'precision_scores': [0]}, 'chunking_evaluation/evaluation_framework/general_evaluation_data/corpora/113_2_理工學院智慧製造碩士在職學位學程_智慧製造專題討論(二)[280001]_白富升.html': {'precision_omega_scores': [0], 'iou_scores': [0.0], 'recall_scores': [0.0], 'precision_scores': [0]}, 'chunking_evaluation/evaluation_framework/general_evaluation_data/corpora/113_2_經營與管理學系科技管理碩士在職專班(夜)_高科技產業技術概論[225005]_盧陽明.html': {'precision_omega_scores': [0], 'iou_scores': [0.0], 'recall_scores': [0.0], 'precision_scores': [0]}, 'chunking_evaluation/evaluation_framework/general_evaluation_data/corpora/113_2_經營與管理學系科技管理碩士班_高科技產業技術概論[125029]_盧陽明.html': {'precision_omega_scores': [0], 'iou_scores': [0.0], 'recall_scores': [0.0], 'precision_scores': [0]}, 'chunking_evaluation/evaluation_framework/general_evaluation_data/corpora/113_2_綠色能源科技學系碩士在職專班(夜)_電動車動力與運動控制[283029]_胡家勝.html': {'precision_omega_scores': [0], 'iou_scores': [0.0], 'recall_scores': [0.0], 'precision_scores': [0]}, 'chunking_evaluation/evaluation_framework/general_evaluation_data/corpora/113_2_行政管理學系碩士在職專班(夜)_人力資源管理專題[232004]_李芸蘋.html': {'precision_omega_scores': [0], 'iou_scores': [0.0], 'recall_scores': [0.0], 'precision_scores': [0]}, 'chunking_evaluation/evaluation_framework/general_evaluation_data/corpora/113_2_體育學系碩士在職專班(夜)_質性研究[213004]_陳耀宏.html': {'precision_omega_scores': [0], 'iou_scores': [0.0], 'recall_scores': [0.0], 'precision_scores': [0]}, 'chunking_evaluation/evaluation_framework/general_evaluation_data/corpora/113_2_教育學系教育經營與管理碩士班_論文寫作[112128]_歐陽誾.html': {'precision_omega_scores': [0], 'iou_scores': [0.0], 'recall_scores': [0.0], 'precision_scores': [0]}, 'chunking_evaluation/evaluation_framework/general_evaluation_data/corpora/113_2_經營與管理學系高階管理碩士在職專班(夜)_企業永續與社會設計專題[225011]_張幼霖.html': {'precision_omega_scores': [0], 'iou_scores': [0.0], 'recall_scores': [0.0], 'precision_scores': [0]}, 'chunking_evaluation/evaluation_framework/general_evaluation_data/corpora/113_2_幼兒教育學系碩士班_教育統計[170032]_陳怡靖.html': {'precision_omega_scores': [0], 'iou_scores': [0.0], 'recall_scores': [0.0], 'precision_scores': [0]}, 'chunking_evaluation/evaluation_framework/general_evaluation_data/corpora/113_2_應用數學系碩士在職專班(夜)_數學科教材教法理論與研究(二)[250003]_謝碧雪.html': {'precision_omega_scores': [0], 'iou_scores': [0.0], 'recall_scores': [0.0], 'precision_scores': [0]}, 'chunking_evaluation/evaluation_framework/general_evaluation_data/corpora/113_2_教育學系教育行政碩士在職專班(夜)_策略管理與革新研究[212005]_曾燦燈.html': {'precision_omega_scores': [0], 'iou_scores': [0.0], 'recall_scores': [0.0], 'precision_scores': [0]}}, 'iou_mean': np.float64(0.0), 'iou_std': np.float64(0.0), 'recall_mean': np.float64(0.0), 'recall_std': np.float64(0.0), 'precision_omega_mean': np.float64(0.0), 'precision_omega_std': np.float64(0.0), 'precision_mean': np.float64(0.0), 'precision_std': np.float64(0.0)}\n"
     ]
    },
    {
     "data": {
      "text/plain": [
       "'\\n# Initialize evaluation\\nevaluation = GeneralEvaluation()\\n\\nresults = []\\n\\n# Initialize an empty DataFrame\\ndf = pd.DataFrame()\\n\\n# Display the DataFrame\\ndisplay_handle = display(df, display_id=True)\\n\\nfor chunker in chunkers:\\n    result = evaluation.run(chunker, get_bge_m3_embedding_function(), retrieve=5, db_to_save_chunks=chroma_db_path)\\n    del result[\\'corpora_scores\\']  \\n    chunk_size = chunker._chunk_size if hasattr(chunker, \\'_chunk_size\\') else 0\\n    chunk_overlap = chunker._chunk_overlap if hasattr(chunker, \\'_chunk_overlap\\') else 0\\n    result[\\'chunker\\'] = chunker.__class__.__name__ + f\"_{chunk_size}_{chunk_overlap}\"\\n    results.append(result)\\n\\n    # Update the DataFrame\\n    df = pd.DataFrame(results)\\n    clear_output(wait=True)\\n    display_handle.update(df)\\n\\n'"
      ]
     },
     "execution_count": 13,
     "metadata": {},
     "output_type": "execute_result"
    }
   ],
   "source": [
    "import shutil\n",
    "\n",
    "chroma_db_path = \"./chunking_evaluation/evaluation_framework/general_evaluation_data/questions_db\"\n",
    "\n",
    "\n",
    "first_chunker = chunkers[0]\n",
    "evaluation = GeneralEvaluation()\n",
    "first_result = evaluation.run(first_chunker, get_bge_m3_embedding_function(), retrieve=5, db_to_save_chunks=chroma_db_path)\n",
    "print(first_result)\n",
    "\n",
    "\n",
    "\n",
    "'''\n",
    "# Initialize evaluation\n",
    "evaluation = GeneralEvaluation()\n",
    "\n",
    "results = []\n",
    "\n",
    "# Initialize an empty DataFrame\n",
    "df = pd.DataFrame()\n",
    "\n",
    "# Display the DataFrame\n",
    "display_handle = display(df, display_id=True)\n",
    "\n",
    "for chunker in chunkers:\n",
    "    result = evaluation.run(chunker, get_bge_m3_embedding_function(), retrieve=5, db_to_save_chunks=chroma_db_path)\n",
    "    del result['corpora_scores']  \n",
    "    chunk_size = chunker._chunk_size if hasattr(chunker, '_chunk_size') else 0\n",
    "    chunk_overlap = chunker._chunk_overlap if hasattr(chunker, '_chunk_overlap') else 0\n",
    "    result['chunker'] = chunker.__class__.__name__ + f\"_{chunk_size}_{chunk_overlap}\"\n",
    "    results.append(result)\n",
    "\n",
    "    # Update the DataFrame\n",
    "    df = pd.DataFrame(results)\n",
    "    clear_output(wait=True)\n",
    "    display_handle.update(df)\n",
    "\n",
    "'''"
   ]
  },
  {
   "cell_type": "code",
   "execution_count": 15,
   "id": "8e870731",
   "metadata": {},
   "outputs": [
    {
     "ename": "TypeError",
     "evalue": "SyntheticEvaluation.__init__() missing 2 required positional arguments: 'corpora_paths' and 'queries_csv_path'",
     "output_type": "error",
     "traceback": [
      "\u001b[31m---------------------------------------------------------------------------\u001b[39m",
      "\u001b[31mTypeError\u001b[39m                                 Traceback (most recent call last)",
      "\u001b[36mCell\u001b[39m\u001b[36m \u001b[39m\u001b[32mIn[15]\u001b[39m\u001b[32m, line 7\u001b[39m\n\u001b[32m      1\u001b[39m \u001b[38;5;28;01mimport\u001b[39;00m\u001b[38;5;250m \u001b[39m\u001b[34;01mpandas\u001b[39;00m\u001b[38;5;250m \u001b[39m\u001b[38;5;28;01mas\u001b[39;00m\u001b[38;5;250m \u001b[39m\u001b[34;01mpd\u001b[39;00m\n\u001b[32m      3\u001b[39m \u001b[38;5;66;03m# 這裡假設您的類別和路徑已經被定義\u001b[39;00m\n\u001b[32m      4\u001b[39m \u001b[38;5;66;03m# evaluation = GeneralEvaluation()\u001b[39;00m\n\u001b[32m      5\u001b[39m \u001b[38;5;66;03m# evaluation.questions_csv_path = ...\u001b[39;00m\n\u001b[32m----> \u001b[39m\u001b[32m7\u001b[39m evaluation = \u001b[43mSyntheticEvaluation\u001b[49m\u001b[43m(\u001b[49m\u001b[43m)\u001b[49m\n\u001b[32m      8\u001b[39m questions_df = evaluation.get_questions_df()\n\u001b[32m     10\u001b[39m \u001b[38;5;66;03m# 顯示前幾筆資料，特別是 `references` 和 `question` 欄位\u001b[39;00m\n",
      "\u001b[31mTypeError\u001b[39m: SyntheticEvaluation.__init__() missing 2 required positional arguments: 'corpora_paths' and 'queries_csv_path'"
     ]
    }
   ],
   "source": [
    "import pandas as pd\n",
    "\n",
    "# 這裡假設您的類別和路徑已經被定義\n",
    "# evaluation = GeneralEvaluation()\n",
    "# evaluation.questions_csv_path = ...\n",
    "\n",
    "evaluation = SyntheticEvaluation()\n",
    "questions_df = evaluation.get_questions_df()\n",
    "\n",
    "# 顯示前幾筆資料，特別是 `references` 和 `question` 欄位\n",
    "display(questions_df[['question', 'references']].head())\n",
    "\n",
    "# 檢查 references 的型態\n",
    "first_reference = questions_df['references'].iloc[0]\n",
    "print(f\"第一筆 references 的型態: {type(first_reference)}\")\n",
    "print(f\"第一筆 references 的內容: {first_reference}\")"
   ]
  }
 ],
 "metadata": {
  "kernelspec": {
   "display_name": "rag",
   "language": "python",
   "name": "python3"
  },
  "language_info": {
   "codemirror_mode": {
    "name": "ipython",
    "version": 3
   },
   "file_extension": ".py",
   "mimetype": "text/x-python",
   "name": "python",
   "nbconvert_exporter": "python",
   "pygments_lexer": "ipython3",
   "version": "3.13.2"
  }
 },
 "nbformat": 4,
 "nbformat_minor": 5
}

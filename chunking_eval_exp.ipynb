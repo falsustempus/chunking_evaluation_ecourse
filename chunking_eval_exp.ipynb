{
 "cells": [
  {
   "cell_type": "markdown",
   "id": "9042abbb",
   "metadata": {},
   "source": [
    "## 0. Cuda Test"
   ]
  },
  {
   "cell_type": "code",
   "execution_count": 1,
   "id": "d3faab0f",
   "metadata": {},
   "outputs": [
    {
     "name": "stdout",
     "output_type": "stream",
     "text": [
      "Looking in indexes: https://download.pytorch.org/whl/cu118\n",
      "Requirement already satisfied: torch in c:\\users\\ifanglab\\anaconda3\\envs\\rag\\lib\\site-packages (2.7.0+cu118)\n",
      "Requirement already satisfied: torchvision in c:\\users\\ifanglab\\anaconda3\\envs\\rag\\lib\\site-packages (0.22.0)\n",
      "Requirement already satisfied: torchaudio in c:\\users\\ifanglab\\anaconda3\\envs\\rag\\lib\\site-packages (2.7.0+cu118)\n",
      "Requirement already satisfied: filelock in c:\\users\\ifanglab\\anaconda3\\envs\\rag\\lib\\site-packages (from torch) (3.13.1)\n",
      "Requirement already satisfied: typing-extensions>=4.10.0 in c:\\users\\ifanglab\\anaconda3\\envs\\rag\\lib\\site-packages (from torch) (4.12.2)\n",
      "Requirement already satisfied: sympy>=1.13.3 in c:\\users\\ifanglab\\anaconda3\\envs\\rag\\lib\\site-packages (from torch) (1.13.3)\n",
      "Requirement already satisfied: networkx in c:\\users\\ifanglab\\anaconda3\\envs\\rag\\lib\\site-packages (from torch) (3.4.2)\n",
      "Requirement already satisfied: jinja2 in c:\\users\\ifanglab\\anaconda3\\envs\\rag\\lib\\site-packages (from torch) (3.1.4)\n",
      "Requirement already satisfied: fsspec in c:\\users\\ifanglab\\anaconda3\\envs\\rag\\lib\\site-packages (from torch) (2024.6.1)\n",
      "Requirement already satisfied: setuptools in c:\\users\\ifanglab\\anaconda3\\envs\\rag\\lib\\site-packages (from torch) (78.1.1)\n",
      "Requirement already satisfied: numpy in c:\\users\\ifanglab\\anaconda3\\envs\\rag\\lib\\site-packages (from torchvision) (2.1.2)\n",
      "Requirement already satisfied: pillow!=8.3.*,>=5.3.0 in c:\\users\\ifanglab\\anaconda3\\envs\\rag\\lib\\site-packages (from torchvision) (11.0.0)\n",
      "Requirement already satisfied: mpmath<1.4,>=1.1.0 in c:\\users\\ifanglab\\anaconda3\\envs\\rag\\lib\\site-packages (from sympy>=1.13.3->torch) (1.3.0)\n",
      "Requirement already satisfied: MarkupSafe>=2.0 in c:\\users\\ifanglab\\anaconda3\\envs\\rag\\lib\\site-packages (from jinja2->torch) (2.1.5)\n",
      "Requirement already satisfied: numpy in c:\\users\\ifanglab\\anaconda3\\envs\\rag\\lib\\site-packages (2.1.2)\n",
      "Note: you may need to restart the kernel to use updated packages.\n"
     ]
    }
   ],
   "source": [
    "!pip3 install torch torchvision torchaudio --index-url https://download.pytorch.org/whl/cu118\n",
    "\n",
    "%pip install numpy"
   ]
  },
  {
   "cell_type": "code",
   "execution_count": 2,
   "id": "0208f8e1",
   "metadata": {},
   "outputs": [
    {
     "name": "stdout",
     "output_type": "stream",
     "text": [
      "2.7.0+cu118\n",
      "True\n",
      "2.3.1\n"
     ]
    }
   ],
   "source": [
    "import torch\n",
    "print(torch.__version__)\n",
    "print(torch.cuda.is_available())\n",
    "\n",
    "import numpy\n",
    "print(numpy.__version__)"
   ]
  },
  {
   "cell_type": "markdown",
   "id": "b8214685",
   "metadata": {},
   "source": [
    "## 1. Setup"
   ]
  },
  {
   "cell_type": "markdown",
   "id": "d2e91851",
   "metadata": {},
   "source": [
    "### 1.1 Install packages"
   ]
  },
  {
   "cell_type": "code",
   "execution_count": 3,
   "id": "67019860",
   "metadata": {},
   "outputs": [
    {
     "name": "stdout",
     "output_type": "stream",
     "text": [
      "Note: you may need to restart the kernel to use updated packages.\n",
      "Note: you may need to restart the kernel to use updated packages.\n",
      "Note: you may need to restart the kernel to use updated packages.\n",
      "Note: you may need to restart the kernel to use updated packages.\n",
      "Note: you may need to restart the kernel to use updated packages.\n"
     ]
    }
   ],
   "source": [
    "%pip install git+https://github.com/brandonstarxel/chunking_evaluation.git --quiet\n",
    "%pip install hf_xet --quiet\n",
    "%pip install bitsandbytes --quiet\n",
    "%pip install --upgrade transformers --quiet\n",
    "%pip install --upgrade chromadb --quiet"
   ]
  },
  {
   "cell_type": "markdown",
   "id": "bfff2969",
   "metadata": {},
   "source": [
    "### 1.2 Import Required Modules"
   ]
  },
  {
   "cell_type": "code",
   "execution_count": 4,
   "id": "d01aee84",
   "metadata": {},
   "outputs": [
    {
     "name": "stdout",
     "output_type": "stream",
     "text": [
      "已將專案根目錄 'd:\\ArtificialIntelligenceCustomerService\\code\\exp' 優先加入到 Python 模組搜尋路徑。\n"
     ]
    }
   ],
   "source": [
    "import os\n",
    "import sys\n",
    "\n",
    "# 取得目前筆記本檔案的絕對路徑\n",
    "notebook_path = os.path.abspath('chunking_exp.ipynb')\n",
    "\n",
    "# 取得筆記本所在的目錄（即專案根目錄）\n",
    "project_root = os.path.dirname(notebook_path)\n",
    "\n",
    "# 將專案根目錄（包含你的本地 chunking_evaluation 資料夾）\n",
    "# 插入到 sys.path 的最前面，確保優先載入本地版本\n",
    "sys.path.insert(0, project_root)\n",
    "print(f\"已將專案根目錄 '{project_root}' 優先加入到 Python 模組搜尋路徑。\")\n",
    "\n",
    "\n",
    "from chunking_evaluation.chunking import FixedTokenChunker, RecursiveTokenChunker\n",
    "from chunking_evaluation import GeneralEvaluation, SyntheticEvaluation\n",
    "from chunking_evaluation.utils import bge_m3_token_count, get_bge_m3_embedding_function\n",
    "from chunking_evaluation.evaluation_framework.general_evaluation_data.DatasetAnalyzer import DatasetAnalyzer\n",
    "import pandas as pd\n",
    "from IPython.display import display, clear_output\n",
    "import http.client\n",
    "import json\n"
   ]
  },
  {
   "cell_type": "markdown",
   "id": "c7e9f8e5",
   "metadata": {},
   "source": [
    "## 2. Create Chunkers"
   ]
  },
  {
   "cell_type": "markdown",
   "id": "a3bad7fd",
   "metadata": {},
   "source": [
    "### 2.1 RecursiveTokenChunker & FixedTokenChunker"
   ]
  },
  {
   "cell_type": "code",
   "execution_count": 5,
   "id": "5b0aa7c7",
   "metadata": {},
   "outputs": [],
   "source": [
    "from langchain.text_splitter import RecursiveCharacterTextSplitter\n",
    "chunkers = [\n",
    "    # chunk_size = 512\n",
    "    RecursiveCharacterTextSplitter(\n",
    "        chunk_size=512,\n",
    "        chunk_overlap=50,\n",
    "        length_function=len,\n",
    "        separators=[\"\\n\\n\", \"\\n\", \" \", \"\", \"。\", \"！\", \"？\", \"，\", \".\"]\n",
    "    ),\n",
    "    RecursiveCharacterTextSplitter(\n",
    "        chunk_size=1024,\n",
    "        chunk_overlap=50,\n",
    "        length_function=len,\n",
    "        separators=[\"\\n\\n\", \"\\n\", \" \", \"\", \"。\", \"！\", \"？\", \"，\", \".\"]\n",
    "    ),\n",
    "]\n"
   ]
  },
  {
   "cell_type": "markdown",
   "id": "5df4b187",
   "metadata": {},
   "source": [
    "## 3. Prepare Corpora"
   ]
  },
  {
   "cell_type": "code",
   "execution_count": 6,
   "id": "02754655",
   "metadata": {},
   "outputs": [
    {
     "data": {
      "text/plain": [
       "'\\ndef download_text(book_id, file_name, directory):\\n    conn = http.client.HTTPSConnection(\"www.gutenberg.org\")\\n    url = f\"/files/{book_id}/{book_id}-0.txt\"\\n\\n    conn.request(\"GET\", url)\\n    response = conn.getresponse()\\n\\n    if response.status == 200:\\n        text = response.read().decode(\\'utf-8\\')\\n\\n        # Create directory if it does not exist\\n        os.makedirs(directory, exist_ok=True)\\n\\n        # Save the text to the specified file within the directory\\n        file_path = os.path.join(directory, file_name)\\n        with open(file_path, \"w\", encoding=\"utf-8\") as file:\\n            file.write(text)\\n        print(f\"Book \\'{file_name}\\' downloaded and saved successfully in \\'{directory}\\'.\")\\n    else:\\n        print(f\"Failed to download the book. Status code: {response.status}\")\\n\\n\\n# Define the directory to save the books\\ndirectory = \"corpora\"\\n\\ndef download_example_texts(download=False, directory=\"./corpora\"):\\n    if download:\\n        books = {\\n            1661: \"the_adventures_of_sherlock_holmes.txt\",\\n            1342: \"pride_and_prejudice.txt\", \\n            174: \"the_picture_of_dorian_gray.txt\"\\n        }\\n        print(\"開始下載範例文本...\")\\n\\n        for book_id, file_name in books.items():\\n            try:\\n                download_text(book_id, file_name, directory)\\n                print(f\"✅ 成功下載: {file_name}\")\\n            except Exception as e:\\n                print(f\"❌ 下載失敗 {file_name}: {e}\")\\n\\n        print(\"範例文本下載完成！\")\\n    else:\\n        print(\"跳過下載範例文本。\")\\n\\ndownload_example_texts(download=False)\\n'"
      ]
     },
     "execution_count": 6,
     "metadata": {},
     "output_type": "execute_result"
    }
   ],
   "source": [
    "'''\n",
    "def download_text(book_id, file_name, directory):\n",
    "    conn = http.client.HTTPSConnection(\"www.gutenberg.org\")\n",
    "    url = f\"/files/{book_id}/{book_id}-0.txt\"\n",
    "\n",
    "    conn.request(\"GET\", url)\n",
    "    response = conn.getresponse()\n",
    "\n",
    "    if response.status == 200:\n",
    "        text = response.read().decode('utf-8')\n",
    "\n",
    "        # Create directory if it does not exist\n",
    "        os.makedirs(directory, exist_ok=True)\n",
    "\n",
    "        # Save the text to the specified file within the directory\n",
    "        file_path = os.path.join(directory, file_name)\n",
    "        with open(file_path, \"w\", encoding=\"utf-8\") as file:\n",
    "            file.write(text)\n",
    "        print(f\"Book '{file_name}' downloaded and saved successfully in '{directory}'.\")\n",
    "    else:\n",
    "        print(f\"Failed to download the book. Status code: {response.status}\")\n",
    "\n",
    "\n",
    "# Define the directory to save the books\n",
    "directory = \"corpora\"\n",
    "\n",
    "def download_example_texts(download=False, directory=\"./corpora\"):\n",
    "    if download:\n",
    "        books = {\n",
    "            1661: \"the_adventures_of_sherlock_holmes.txt\",\n",
    "            1342: \"pride_and_prejudice.txt\", \n",
    "            174: \"the_picture_of_dorian_gray.txt\"\n",
    "        }\n",
    "        print(\"開始下載範例文本...\")\n",
    "\n",
    "        for book_id, file_name in books.items():\n",
    "            try:\n",
    "                download_text(book_id, file_name, directory)\n",
    "                print(f\"✅ 成功下載: {file_name}\")\n",
    "            except Exception as e:\n",
    "                print(f\"❌ 下載失敗 {file_name}: {e}\")\n",
    "        \n",
    "        print(\"範例文本下載完成！\")\n",
    "    else:\n",
    "        print(\"跳過下載範例文本。\")\n",
    "\n",
    "download_example_texts(download=False)\n",
    "'''"
   ]
  },
  {
   "cell_type": "markdown",
   "id": "22d1aade",
   "metadata": {},
   "source": [
    "## 4. Initialize the Evaluation Environment"
   ]
  },
  {
   "cell_type": "markdown",
   "id": "ce527766",
   "metadata": {},
   "source": [
    "### 4.1 Setup Path"
   ]
  },
  {
   "cell_type": "code",
   "execution_count": 7,
   "id": "decb3a68",
   "metadata": {},
   "outputs": [],
   "source": [
    "import os\n",
    "import glob\n",
    "import pandas as pd\n",
    "from typing import List, Dict\n",
    "\n",
    "# 確保你的 chunking_evaluation 模組已經載入\n",
    "from chunking_evaluation import GeneralEvaluation, SyntheticEvaluation\n",
    "from chunking_evaluation.evaluation_framework.general_evaluation_data.DatasetAnalyzer import DatasetAnalyzer\n",
    "\n",
    "# 設定路徑\n",
    "corpora_directory = \"./chunking_evaluation/evaluation_framework/general_evaluation_data/corpora\"\n",
    "queries_csv_path = \"./chunking_evaluation/evaluation_framework/general_evaluation_data/generated_queries_and_excerpts.csv\"\n"
   ]
  },
  {
   "cell_type": "markdown",
   "id": "d90ab5a1",
   "metadata": {},
   "source": [
    "### 4.2 Already have corpora & queries csv"
   ]
  },
  {
   "cell_type": "code",
   "execution_count": 8,
   "id": "b202f570",
   "metadata": {},
   "outputs": [
    {
     "name": "stdout",
     "output_type": "stream",
     "text": [
      "🚧 未偵測到評估資料集 CSV 檔案，將使用 SyntheticEvaluation 進行生成。\n"
     ]
    }
   ],
   "source": [
    "\n",
    "# 檢查 CSV 檔案是否存在\n",
    "if os.path.exists(queries_csv_path):\n",
    "    print(f\"✅ 偵測到評估資料集 CSV 檔案 '{queries_csv_path}' 已存在。\")\n",
    "    print(\"將使用 GeneralEvaluation 進行評估。\")\n",
    "    evaluation = GeneralEvaluation()\n",
    "else:\n",
    "    print(f\"🚧 未偵測到評估資料集 CSV 檔案，將使用 SyntheticEvaluation 進行生成。\")"
   ]
  },
  {
   "cell_type": "markdown",
   "id": "77c2a299",
   "metadata": {},
   "source": [
    "### 4.3 Generate queries if haven't"
   ]
  },
  {
   "cell_type": "code",
   "execution_count": 9,
   "id": "61ff7b82",
   "metadata": {},
   "outputs": [
    {
     "name": "stdout",
     "output_type": "stream",
     "text": [
      "Note: you may need to restart the kernel to use updated packages.\n",
      "Note: you may need to restart the kernel to use updated packages.\n"
     ]
    }
   ],
   "source": [
    "%pip install --upgrade ipywidgets --quiet\n",
    "%pip install accelerate --quiet"
   ]
  },
  {
   "cell_type": "code",
   "execution_count": 10,
   "id": "1dcd92af",
   "metadata": {},
   "outputs": [
    {
     "name": "stdout",
     "output_type": "stream",
     "text": [
      "🚧 未偵測到評估資料集 CSV 檔案，將使用 SyntheticEvaluation 進行生成。\n",
      "🔍 開始分析資料夾: ./chunking_evaluation/evaluation_framework/general_evaluation_data/corpora\n",
      "============================================================\n",
      "📁 找到 1194 個檔案\n",
      "\n",
      "📄 [1/1194] 處理: 113_2_人文學院_運算思維與程式設計[101005]_孟淑慧.html\n",
      "📄 [11/1194] 處理: 113_2_國語文學系_兒童文學概論[122088]_陳昭吟.html\n",
      "📄 [21/1194] 處理: 113_2_國語文學系_女性文學(二)[122103]_陳昭吟.html\n",
      "📄 [31/1194] 處理: 113_2_國語文學系_書學通論[122104]_莊千慧.html\n",
      "📄 [41/1194] 處理: 113_2_國語文學系_現代華文文學(二)[122124]_龔韻蘅.html\n",
      "📊 已處理 50/1194 個檔案 (4.2%)\n",
      "📄 [51/1194] 處理: 113_2_國語文學系_詞曲選(二)[122091]_林慧真.html\n",
      "📄 [61/1194] 處理: 113_2_國語文學系_閱讀教學專題研究(二)[222004]_陳光明.html\n",
      "📄 [71/1194] 處理: 113_2_國語文學系國語文教學與應用碩士班_民間文學專題研究(二)[122067]_林登順.html\n",
      "📄 [81/1194] 處理: 113_2_師資培育中心_國民小學教學實習[107038]_黃振恭.html\n",
      "📄 [91/1194] 處理: 113_2_師資培育中心_國民小學體育教材教法(雙語教學課程)[107052]_陳瑩璟.html\n",
      "📊 已處理 100/1194 個檔案 (8.4%)\n",
      "📄 [101/1194] 處理: 113_2_師資培育中心_教育行政[107011]_張正平.html\n",
      "📄 [111/1194] 處理: 113_2_師資培育中心_綜合活動領域教材教法[107043]_陳志賢.html\n",
      "📄 [121/1194] 處理: 113_2_師資培育中心_輔導原理與實務[107018]_鄧守娟.html\n",
      "📄 [131/1194] 處理: 113_2_幼兒教育學系_幼兒園行政與法規[170045]_陳怡靖.html\n",
      "📄 [141/1194] 處理: 113_2_幼兒教育學系_幼兒音樂[170037]_莊宗倩.html\n",
      "📊 已處理 150/1194 個檔案 (12.6%)\n",
      "📄 [151/1194] 處理: 113_2_幼兒教育學系碩士在職專班(夜)_幼兒學習環境規劃研究[270003]_林聖曦.html\n",
      "📄 [161/1194] 處理: 113_2_應用數學系_中文閱讀與書寫(二)[150035]_蘇淑貞.html\n",
      "📄 [171/1194] 處理: 113_2_應用數學系_獨立研究[150044]_黃建中.html\n",
      "📄 [181/1194] 處理: 113_2_應用數學系碩士在職專班(夜)_數學科教材教法理論與研究(二)[250003]_謝碧雪.html\n",
      "📄 [191/1194] 處理: 113_2_戲劇創作與應用學系_AI輔助劇本創作[172069]_劉勇辰.html\n",
      "📊 已處理 200/1194 個檔案 (16.8%)\n",
      "📄 [201/1194] 處理: 113_2_戲劇創作與應用學系_戲劇教育實作[172057]_張麗玉陳晞如.html\n",
      "📄 [211/1194] 處理: 113_2_戲劇創作與應用學系_肢體劇場表演[172062]_厲復平.html\n",
      "📄 [221/1194] 處理: 113_2_戲劇創作與應用學系碩士班_行動研究[172045]_林玫君蔡依仁林偉瑜.html\n",
      "📄 [231/1194] 處理: 113_2_教育學系_學習策略[112176]_王全興.html\n",
      "📄 [241/1194] 處理: 113_2_教育學系_教學科技的新趨勢[112169]_吳純萍.html\n",
      "📊 已處理 250/1194 個檔案 (20.9%)\n",
      "📄 [251/1194] 處理: 113_2_教育學系_教育研究法[112156]_鄒慧英.html\n",
      "📄 [261/1194] 處理: 113_2_教育學系_比較教育[112158]_李郁緻.html\n",
      "📄 [271/1194] 處理: 113_2_教育學系_課程評鑑[112167]_朱麗玲.html\n",
      "📄 [281/1194] 處理: 113_2_教育學系教學科技碩士班_電腦輔助教學研究[112126]_吳純萍.html\n",
      "📄 [291/1194] 處理: 113_2_教育學系教育經營與管理碩士班_教育衝突與危機管理研究[112123]_林斌.html\n",
      "📊 已處理 300/1194 個檔案 (25.1%)\n",
      "📄 [301/1194] 處理: 113_2_教育學系課程與教學博士班_教育統計專題研究[112118]_鄒慧英.html\n",
      "📄 [311/1194] 處理: 113_2_教育學系課程與教學碩士班_教育研究法專論[112100]_鄒慧英.html\n",
      "📄 [321/1194] 處理: 113_2_數位學習科技學系_創意思考與設計方法[155079]_莊宗嚴.html\n",
      "📄 [331/1194] 處理: 113_2_數位學習科技學系_畢業專題實作(一)[155071]_張智凱.html\n",
      "📄 [341/1194] 處理: 113_2_數位學習科技學系_視覺化程式設計[155080]_伍柏翰.html\n",
      "📊 已處理 350/1194 個檔案 (29.3%)\n",
      "📄 [351/1194] 處理: 113_2_數位學習科技學系碩士班_AI情感運算與數位藝術[155047]_林豪鏘.html\n",
      "📄 [361/1194] 處理: 113_2_文化與自然資源學系_中國社會史[134062]_邱麗娟.html\n",
      "📄 [371/1194] 處理: 113_2_文化與自然資源學系_地圖判讀[134064]_林春吟.html\n",
      "📄 [381/1194] 處理: 113_2_文化與自然資源學系_文化哲學[134053]_陳一峰.html\n",
      "📄 [391/1194] 處理: 113_2_文化與自然資源學系_體育(二)[134040]_陳進祥.html\n",
      "📊 已處理 400/1194 個檔案 (33.5%)\n",
      "📄 [401/1194] 處理: 113_2_文化與自然資源學系臺灣文化與觀光資源碩士班_臺灣國定民俗專題研究[134042]_戴文鋒.html\n",
      "📄 [411/1194] 處理: 113_2_材料科學系_普通化學實驗(二)[167044]_林建宏邱聖貴.html\n",
      "📄 [421/1194] 處理: 113_2_材料科學系_科技法律[167068]_莊志剛.html\n",
      "📄 [431/1194] 處理: 113_2_材料科學系_高分子材料[167057]_蒲盈志.html\n",
      "📄 [441/1194] 處理: 113_2_特殊教育學系_個別化教育計畫的理念與實施[140069]_朱慧娟.html\n",
      "📊 已處理 450/1194 個檔案 (37.7%)\n",
      "📄 [451/1194] 處理: 113_2_特殊教育學系_心理學[140109]_劉俊榮.html\n",
      "📄 [461/1194] 處理: 113_2_特殊教育學系_科技在資優教育之應用[140095]_林千玉高振耀.html\n",
      "📄 [471/1194] 處理: 113_2_特殊教育學系_資優學生獨立研究指導[140099]_陳英豪.html\n",
      "📄 [481/1194] 處理: 113_2_特殊教育學系博士班_多變項分析統計法[140108]_林千玉.html\n",
      "📄 [491/1194] 處理: 113_2_特殊教育學系輔助科技碩士班_輔助科技實習[140060]_林千玉曾明基.html\n",
      "📊 已處理 500/1194 個檔案 (41.9%)\n",
      "📄 [501/1194] 處理: 113_2_生態暨環境資源學系_休閒農業概論[156077]_陳瀅世.html\n",
      "📄 [511/1194] 處理: 113_2_生態暨環境資源學系_植物分類學實驗[156063]_謝宗欣.html\n",
      "📄 [521/1194] 處理: 113_2_生態暨環境資源學系_生態毒理學[156075]_陳韋妤.html\n",
      "📄 [531/1194] 處理: 113_2_生態暨環境資源學系碩士班_昆蟲生態學[156051]_黃文伯.html\n",
      "📄 [541/1194] 處理: 113_2_生物科技學系_免疫學[158054]_張翠玲.html\n",
      "📊 已處理 550/1194 個檔案 (46.1%)\n",
      "📄 [551/1194] 處理: 113_2_生物科技學系_生物科技英文[158051]_曹哲嘉.html\n",
      "📄 [561/1194] 處理: 113_2_生物科技學系_酵素學[158065]_張德生.html\n",
      "📄 [571/1194] 處理: 113_2_生物科技學系碩士班_黑色素生成與調控學[158041]_張德生.html\n",
      "📄 [581/1194] 處理: 113_2_經營與管理學系_策略管理[125041]_劉子歆.html\n",
      "📄 [591/1194] 處理: 113_2_經營與管理學系科技管理碩士在職專班(夜)_創新管理[225008]_賴賢哲.html\n",
      "📊 已處理 600/1194 個檔案 (50.3%)\n",
      "📄 [601/1194] 處理: 113_2_經營與管理學系科技管理碩士班_財務管理[125027]_阮俊陽.html\n",
      "📄 [611/1194] 處理: 113_2_綠色能源科技學系(進修學士班)_基礎能源實驗(II)[283011]_傅耀賢.html\n",
      "📄 [621/1194] 處理: 113_2_綠色能源科技學系(進修學士班)_熱力學(二)[283010]_李宜庭.html\n",
      "📄 [631/1194] 處理: 113_2_綠色能源科技學系(進修學士班)_電子學(二)[283017]_許正良.html\n",
      "📄 [641/1194] 處理: 113_2_綠色能源科技學系_工程電腦程式[183077]_丁顥.html\n",
      "📊 已處理 650/1194 個檔案 (54.4%)\n",
      "📄 [651/1194] 處理: 113_2_綠色能源科技學系_物理化學[183065]_張家欽.html\n",
      "📄 [661/1194] 處理: 113_2_綠色能源科技學系_輸送現象[183056]_蔡孟哲.html\n",
      "📄 [671/1194] 處理: 113_2_綠色能源科技學系碩士在職專班(夜)_科技論文寫作[283031]_卜一宇.html\n",
      "📄 [681/1194] 處理: 113_2_綠色能源科技學系碩士班_電化學特論[183043]_張家欽.html\n",
      "📄 [691/1194] 處理: 113_2_英語學系(進修學士班)_英文作文(四)[227005]_林姿汶.html\n",
      "📊 已處理 700/1194 個檔案 (58.6%)\n",
      "📄 [701/1194] 處理: 113_2_英語學系(進修學士班)_語言學概論(二)[227003]_康雅禎.html\n",
      "📄 [711/1194] 處理: 113_2_英語學系_專題研究(一)[127056]_熊慧如.html\n",
      "📄 [721/1194] 處理: 113_2_英語學系_新聞英文(二)[127074]_謝麗雪.html\n",
      "📄 [731/1194] 處理: 113_2_英語學系_英文作文(二)[127061]_嚴子陵.html\n",
      "📄 [741/1194] 處理: 113_2_英語學系_英語故事教學[127076]_楊逸君.html\n",
      "📊 已處理 750/1194 個檔案 (62.8%)\n",
      "📄 [751/1194] 處理: 113_2_英語學系_語言習得[127049]_謝麗雪.html\n",
      "📄 [761/1194] 處理: 113_2_行政管理學系_國際關係[132061]_蕭妙香.html\n",
      "📄 [771/1194] 處理: 113_2_行政管理學系_管理學[132044]_林佳燕.html\n",
      "📄 [781/1194] 處理: 113_2_行政管理學系碩士在職專班(夜)_地區與文化行銷專題[232007]_林政佑.html\n",
      "📄 [791/1194] 處理: 113_2_行政管理學系碩士班_論文研討[132035]_馬群傑李芸蘋.html\n",
      "📊 已處理 800/1194 個檔案 (67.0%)\n",
      "📄 [801/1194] 處理: 113_2_視覺藝術與設計學系_基礎版畫(二)[191083]_吳鴻滄.html\n",
      "📄 [811/1194] 處理: 113_2_視覺藝術與設計學系_版畫創作(二)[191088]_吳鴻滄.html\n",
      "📄 [821/1194] 處理: 113_2_視覺藝術與設計學系_素描(二)[191072]_洪明爵.html\n",
      "📄 [831/1194] 處理: 113_2_視覺藝術與設計學系_體育(二)[191056]_侯志堅.html\n",
      "📄 [841/1194] 處理: 113_2_視覺藝術與設計學系視覺藝術碩士班_當代水墨畫創作(二)[191071]_陳建發.html\n",
      "📊 已處理 850/1194 個檔案 (71.2%)\n",
      "📄 [851/1194] 處理: 113_2_諮商與輔導學系_危機處理[128075]_翟宗悌.html\n",
      "📄 [861/1194] 處理: 113_2_諮商與輔導學系_心理科學研究法[128058]_陳志賢.html\n",
      "📄 [871/1194] 處理: 113_2_諮商與輔導學系_變態心理學[128061]_陳思帆.html\n",
      "📄 [881/1194] 處理: 113_2_諮商與輔導學系碩士班_表達性治療研究[128045]_吳麗雲.html\n",
      "📄 [891/1194] 處理: 113_2_諮商與輔導學系碩士班_青少年適應問題研究[128052]_連廷嘉.html\n",
      "📊 已處理 900/1194 個檔案 (75.4%)\n",
      "📄 [901/1194] 處理: 113_2_資訊工程學系_普通物理學實驗[159041]_高啟洲.html\n",
      "📄 [911/1194] 處理: 113_2_資訊工程學系_畢業專題實作(一)[159053]_朱明毅.html\n",
      "📄 [921/1194] 處理: 113_2_資訊工程學系_離散數學[159066]_蘇溢芳.html\n",
      "📄 [931/1194] 處理: 113_2_通識教育中心_亞太地區地緣政治與中國[106162]_陳玟伶.html\n",
      "📄 [941/1194] 處理: 113_2_通識教育中心_創意產業[106137]_陳欣如.html\n",
      "📊 已處理 950/1194 個檔案 (79.6%)\n",
      "📄 [951/1194] 處理: 113_2_通識教育中心_微生物與生活[106180]_李承祐.html\n",
      "📄 [961/1194] 處理: 113_2_通識教育中心_樂活人生規劃[106189]_薛怡珍.html\n",
      "📄 [971/1194] 處理: 113_2_通識教育中心_環境教育概論[106179]_張若磐.html\n",
      "📄 [981/1194] 處理: 113_2_通識教育中心_疾病徵兆及認識[106186]_奚明德.html\n",
      "📄 [991/1194] 處理: 113_2_通識教育中心_美國文化[106143]_林歆宜.html\n",
      "📊 已處理 1000/1194 個檔案 (83.8%)\n",
      "📄 [1001/1194] 處理: 113_2_通識教育中心_英文A(二)[106013]_林姿汶.html\n",
      "📄 [1011/1194] 處理: 113_2_通識教育中心_英文B(二)[106016]_康雅禎.html\n",
      "📄 [1021/1194] 處理: 113_2_通識教育中心_證券投資與管理[106160]_黃麗金.html\n",
      "📄 [1031/1194] 處理: 113_2_通識教育中心_防身太極[106185]_鄭旭珉.html\n",
      "📄 [1041/1194] 處理: 113_2_電機工程學系_光電電磁學[182054]_許志維.html\n",
      "📊 已處理 1050/1194 個檔案 (87.9%)\n",
      "📄 [1051/1194] 處理: 113_2_電機工程學系_普通物理實驗[182075]_杜政憲.html\n",
      "📄 [1061/1194] 處理: 113_2_電機工程學系_訊號與系統[182081]_陳居毓.html\n",
      "📄 [1071/1194] 處理: 113_2_電機工程學系碩士班_光電元件[182060]_許世昌.html\n",
      "📄 [1081/1194] 處理: 113_2_電機工程學系碩士班_通用啟發法[182058]_黃崇能.html\n",
      "📄 [1091/1194] 處理: 113_2_音樂學系_中文閱讀與書寫(二)[164357]_許慧玲.html\n",
      "📊 已處理 1100/1194 個檔案 (92.1%)\n",
      "📄 [1101/1194] 處理: 113_2_音樂學系_指揮法(二)[164386]_蔡耿銘.html\n",
      "📄 [1111/1194] 處理: 113_2_音樂學系_藝術鑑賞[164410]_林佾璁.html\n",
      "📄 [1121/1194] 處理: 113_2_音樂學系碩士在職專班(夜)_歌劇演唱與表演(二)[164377]_朱芸宜.html\n",
      "📄 [1131/1194] 處理: 113_2_音樂學系碩士班_弦樂教學法(二)[164372]_蔡耿銘.html\n",
      "📄 [1141/1194] 處理: 113_2_音樂學系碩士班_音樂作品分析(二)[164365]_侯志正.html\n",
      "📊 已處理 1150/1194 個檔案 (96.3%)\n",
      "📄 [1151/1194] 處理: 113_2_體育學系_專長訓練A(羽球)[113071]_卓國雄李展豪.html\n",
      "📄 [1161/1194] 處理: 113_2_體育學系_桌球[113062]_張碩文.html\n",
      "📄 [1171/1194] 處理: 113_2_體育學系_運動生理學實驗與應用[113082]_龔憶琳.html\n",
      "📄 [1181/1194] 處理: 113_2_體育學系碩士在職專班(夜)_休閒活動研究[213005]_陳耀宏.html\n",
      "📄 [1191/1194] 處理: 113_2_體育學系碩士班_運動訓練法研究[113058]_張碩文.html\n",
      "\n",
      "✅ 處理完成！總共處理了 1194 個檔案\n",
      "\n",
      "================================================================================\n",
      "📊 資料集分析報告\n",
      "================================================================================\n",
      "📁 檔案總數: 1194\n",
      "\n",
      "🎯 檔案格式分佈:\n",
      "   .html: 1194 個 (100.0%)\n",
      "\n",
      "📏 檔案大小統計:\n",
      "   平均大小: 79.65 KB\n",
      "   最大檔案: 167.50 KB\n",
      "   最小檔案: 37.62 KB\n",
      "\n",
      "📝 字數統計:\n",
      "   平均字數: 1535 字\n",
      "   最多字數: 6,303 字\n",
      "   最少字數: 699 字\n",
      "   總字數: 1,832,542 字\n",
      "\n",
      "🏫 分類統計 (共 73 個分類):\n",
      "   通識教育中心: 109 筆 (9.1%)\n",
      "   國語文學系: 62 筆 (5.2%)\n",
      "   教育學系: 55 筆 (4.6%)\n",
      "   師資培育中心: 50 筆 (4.2%)\n",
      "   英語學系: 50 筆 (4.2%)\n",
      "   特殊教育學系: 41 筆 (3.4%)\n",
      "   視覺藝術與設計學系: 39 筆 (3.3%)\n",
      "   體育學系: 38 筆 (3.2%)\n",
      "   綠色能源科技學系: 34 筆 (2.8%)\n",
      "   電機工程學系: 34 筆 (2.8%)\n",
      "   文化與自然資源學系: 33 筆 (2.8%)\n",
      "   資訊工程學系: 32 筆 (2.7%)\n",
      "   數位學習科技學系: 30 筆 (2.5%)\n",
      "   生態暨環境資源學系: 30 筆 (2.5%)\n",
      "   音樂學系: 30 筆 (2.5%)\n",
      "   材料科學系: 29 筆 (2.4%)\n",
      "   幼兒教育學系: 26 筆 (2.2%)\n",
      "   生物科技學系: 26 筆 (2.2%)\n",
      "   綠色能源科技學系(進修學士班): 26 筆 (2.2%)\n",
      "   諮商與輔導學系: 26 筆 (2.2%)\n",
      "   戲劇創作與應用學系: 25 筆 (2.1%)\n",
      "   行政管理學系: 25 筆 (2.1%)\n",
      "   英語學系(進修學士班): 22 筆 (1.8%)\n",
      "   應用數學系: 21 筆 (1.8%)\n",
      "   經營與管理學系: 19 筆 (1.6%)\n",
      "   電機工程學系碩士班: 17 筆 (1.4%)\n",
      "   音樂學系碩士班: 15 筆 (1.3%)\n",
      "   諮商與輔導學系碩士班: 12 筆 (1.0%)\n",
      "   生態暨環境資源學系碩士班: 9 筆 (0.8%)\n",
      "   綠色能源科技學系碩士班: 9 筆 (0.8%)\n",
      "   視覺藝術與設計學系視覺藝術碩士班: 9 筆 (0.8%)\n",
      "   數位學習科技學系碩士班: 8 筆 (0.7%)\n",
      "   材料科學系碩士班: 8 筆 (0.7%)\n",
      "   體育學系碩士班: 8 筆 (0.7%)\n",
      "   國語文學系國語文教學與應用碩士班: 7 筆 (0.6%)\n",
      "   戲劇創作與應用學系碩士班: 7 筆 (0.6%)\n",
      "   文化與自然資源學系臺灣文化與觀光資源碩士班: 7 筆 (0.6%)\n",
      "   特殊教育學系碩士班: 7 筆 (0.6%)\n",
      "   生物科技學系碩士班: 7 筆 (0.6%)\n",
      "   行政管理學系碩士班: 7 筆 (0.6%)\n",
      "   音樂學系碩士在職專班(夜): 7 筆 (0.6%)\n",
      "   幼兒教育學系碩士在職專班(夜): 6 筆 (0.5%)\n",
      "   應用數學系碩士班: 6 筆 (0.5%)\n",
      "   教育學系課程與教學教學碩士班(假日): 6 筆 (0.5%)\n",
      "   理工學院智慧製造碩士在職學位學程: 6 筆 (0.5%)\n",
      "   經營與管理學系科技管理碩士在職專班(夜): 6 筆 (0.5%)\n",
      "   經營與管理學系科技管理碩士班: 6 筆 (0.5%)\n",
      "   綠色能源科技學系碩士在職專班(夜): 6 筆 (0.5%)\n",
      "   行政管理學系碩士在職專班(夜): 6 筆 (0.5%)\n",
      "   體育學系碩士在職專班(夜): 6 筆 (0.5%)\n",
      "   教育學系教育數位評量與數據分析碩士班: 5 筆 (0.4%)\n",
      "   教育學系教育經營與管理碩士班: 5 筆 (0.4%)\n",
      "   教育學系課程與教學碩士班: 5 筆 (0.4%)\n",
      "   經營與管理學系高階管理碩士在職專班(夜): 5 筆 (0.4%)\n",
      "   視覺藝術與設計學系碩士在職專班(夜): 5 筆 (0.4%)\n",
      "   幼兒教育學系碩士班: 4 筆 (0.3%)\n",
      "   應用數學系碩士在職專班(夜): 4 筆 (0.3%)\n",
      "   教育學系教學科技碩士班: 4 筆 (0.3%)\n",
      "   教育學系教育行政碩士在職專班(夜): 4 筆 (0.3%)\n",
      "   數位學習科技學系數位學習科技碩士在職專班(夜): 4 筆 (0.3%)\n",
      "   文化與自然資源學系臺灣文化碩士在職專班(夜): 4 筆 (0.3%)\n",
      "   特殊教育學系輔助科技碩士班: 4 筆 (0.3%)\n",
      "   視覺藝術與設計學系設計碩士班: 4 筆 (0.3%)\n",
      "   諮商與輔導學系碩士在職專班(夜): 4 筆 (0.3%)\n",
      "   資訊工程學系碩士班: 4 筆 (0.3%)\n",
      "   教育學系課程與教學博士班: 3 筆 (0.3%)\n",
      "   教育學院: 3 筆 (0.3%)\n",
      "   音樂學系(進修學士班): 3 筆 (0.3%)\n",
      "   人文學院: 2 筆 (0.2%)\n",
      "   國語文學系中國文學碩士在職專班(夜): 2 筆 (0.2%)\n",
      "   教育學系教育經營與管理博士班: 2 筆 (0.2%)\n",
      "   教育學系測驗統計博士班: 2 筆 (0.2%)\n",
      "   特殊教育學系博士班: 2 筆 (0.2%)\n",
      "\n",
      "================================================================================\n",
      "\n",
      "🎯 進行分層抽樣 (目標樣本數: 100)\n",
      "   通識教育中心: 9/109 個檔案\n",
      "   國語文學系: 5/62 個檔案\n",
      "   教育學系: 4/55 個檔案\n",
      "   師資培育中心: 4/50 個檔案\n",
      "   英語學系: 4/50 個檔案\n",
      "   特殊教育學系: 3/41 個檔案\n",
      "   視覺藝術與設計學系: 3/39 個檔案\n",
      "   體育學系: 3/38 個檔案\n",
      "   綠色能源科技學系: 2/34 個檔案\n",
      "   電機工程學系: 2/34 個檔案\n",
      "   文化與自然資源學系: 2/33 個檔案\n",
      "   資訊工程學系: 2/32 個檔案\n",
      "   數位學習科技學系: 2/30 個檔案\n",
      "   生態暨環境資源學系: 2/30 個檔案\n",
      "   音樂學系: 2/30 個檔案\n",
      "   材料科學系: 2/29 個檔案\n",
      "   幼兒教育學系: 2/26 個檔案\n",
      "   生物科技學系: 2/26 個檔案\n",
      "   綠色能源科技學系(進修學士班): 2/26 個檔案\n",
      "   諮商與輔導學系: 2/26 個檔案\n",
      "   戲劇創作與應用學系: 2/25 個檔案\n",
      "   行政管理學系: 2/25 個檔案\n",
      "   英語學系(進修學士班): 1/22 個檔案\n",
      "   應用數學系: 1/21 個檔案\n",
      "   經營與管理學系: 1/19 個檔案\n",
      "   電機工程學系碩士班: 1/17 個檔案\n",
      "   音樂學系碩士班: 1/15 個檔案\n",
      "   諮商與輔導學系碩士班: 1/12 個檔案\n",
      "   生態暨環境資源學系碩士班: 1/9 個檔案\n",
      "   綠色能源科技學系碩士班: 1/9 個檔案\n",
      "   視覺藝術與設計學系視覺藝術碩士班: 1/9 個檔案\n",
      "   數位學習科技學系碩士班: 1/8 個檔案\n",
      "   材料科學系碩士班: 1/8 個檔案\n",
      "   體育學系碩士班: 1/8 個檔案\n",
      "   國語文學系國語文教學與應用碩士班: 1/7 個檔案\n",
      "   戲劇創作與應用學系碩士班: 1/7 個檔案\n",
      "   文化與自然資源學系臺灣文化與觀光資源碩士班: 1/7 個檔案\n",
      "   特殊教育學系碩士班: 1/7 個檔案\n",
      "   生物科技學系碩士班: 1/7 個檔案\n",
      "   行政管理學系碩士班: 1/7 個檔案\n",
      "   音樂學系碩士在職專班(夜): 1/7 個檔案\n",
      "   幼兒教育學系碩士在職專班(夜): 1/6 個檔案\n",
      "   應用數學系碩士班: 1/6 個檔案\n",
      "   教育學系課程與教學教學碩士班(假日): 1/6 個檔案\n",
      "   理工學院智慧製造碩士在職學位學程: 1/6 個檔案\n",
      "   經營與管理學系科技管理碩士在職專班(夜): 1/6 個檔案\n",
      "   經營與管理學系科技管理碩士班: 1/6 個檔案\n",
      "   綠色能源科技學系碩士在職專班(夜): 1/6 個檔案\n",
      "   行政管理學系碩士在職專班(夜): 1/6 個檔案\n",
      "   體育學系碩士在職專班(夜): 1/6 個檔案\n",
      "   教育學系教育數位評量與數據分析碩士班: 1/5 個檔案\n",
      "   教育學系教育經營與管理碩士班: 1/5 個檔案\n",
      "   教育學系課程與教學碩士班: 1/5 個檔案\n",
      "   經營與管理學系高階管理碩士在職專班(夜): 1/5 個檔案\n",
      "   視覺藝術與設計學系碩士在職專班(夜): 1/5 個檔案\n",
      "   幼兒教育學系碩士班: 1/4 個檔案\n",
      "   應用數學系碩士在職專班(夜): 1/4 個檔案\n",
      "   教育學系教學科技碩士班: 1/4 個檔案\n",
      "   教育學系教育行政碩士在職專班(夜): 1/4 個檔案\n",
      "\n",
      "✅ 完成分層抽樣，共抽取 100 個檔案\n",
      "\n",
      "🎯 分層取樣完成，選擇了 100 個檔案。\n",
      "將使用 SyntheticEvaluation 生成評估資料集並進行評估。\n",
      "Warning: CSV file not found at ./chunking_evaluation/evaluation_framework/general_evaluation_data/generated_queries_and_excerpts.csv\n",
      "正在預估模型分佈...\n"
     ]
    },
    {
     "data": {
      "application/vnd.jupyter.widget-view+json": {
       "model_id": "3c86b38420664e9fafe2a59c4ba8cf42",
       "version_major": 2,
       "version_minor": 0
      },
      "text/plain": [
       "Loading checkpoint shards:   0%|          | 0/4 [00:00<?, ?it/s]"
      ]
     },
     "metadata": {},
     "output_type": "display_data"
    },
    {
     "name": "stdout",
     "output_type": "stream",
     "text": [
      "根據 max_memory={0: '12GiB', 'cpu': '8GiB'} 預估裝置分佈中...\n",
      "預估的裝置分佈: OrderedDict({'model.embed_tokens': 0, 'model.layers.0': 0, 'model.layers.1': 0, 'model.layers.2': 0, 'model.layers.3': 0, 'model.layers.4': 0, 'model.layers.5': 0, 'model.layers.6': 0, 'model.layers.7': 0, 'model.layers.8': 0, 'model.layers.9': 0, 'model.layers.10': 0, 'model.layers.11': 0, 'model.layers.12': 0, 'model.layers.13': 0, 'model.layers.14': 0, 'model.layers.15': 0, 'model.layers.16': 0, 'model.layers.17': 0, 'model.layers.18': 0, 'model.layers.19': 0, 'model.layers.20': 0, 'model.layers.21': 0, 'model.layers.22': 0, 'model.layers.23': 0, 'model.layers.24': 'cpu', 'model.layers.25': 'cpu', 'model.layers.26': 'cpu', 'model.layers.27': 'cpu', 'model.layers.28': 'cpu', 'model.layers.29': 'cpu', 'model.layers.30': 'cpu', 'model.layers.31': 'cpu', 'model.norm': 'cpu', 'model.rotary_emb': 'cpu', 'lm_head': 'cpu'})\n",
      "正在載入 meta-llama/Llama-3.1-8B-Instruct 模型...\n"
     ]
    },
    {
     "data": {
      "application/vnd.jupyter.widget-view+json": {
       "model_id": "672c4297a5e34ced8dcc915e9e690a8d",
       "version_major": 2,
       "version_minor": 0
      },
      "text/plain": [
       "Loading checkpoint shards:   0%|          | 0/4 [00:00<?, ?it/s]"
      ]
     },
     "metadata": {},
     "output_type": "display_data"
    },
    {
     "name": "stderr",
     "output_type": "stream",
     "text": [
      "Some parameters are on the meta device because they were offloaded to the cpu.\n"
     ]
    },
    {
     "name": "stdout",
     "output_type": "stream",
     "text": [
      "meta-llama/Llama-3.1-8B-Instruct 模型已成功載入到裝置: {'model.embed_tokens': 0, 'model.layers.0': 0, 'model.layers.1': 0, 'model.layers.2': 0, 'model.layers.3': 0, 'model.layers.4': 0, 'model.layers.5': 0, 'model.layers.6': 0, 'model.layers.7': 0, 'model.layers.8': 0, 'model.layers.9': 0, 'model.layers.10': 0, 'model.layers.11': 0, 'model.layers.12': 0, 'model.layers.13': 0, 'model.layers.14': 0, 'model.layers.15': 0, 'model.layers.16': 0, 'model.layers.17': 0, 'model.layers.18': 0, 'model.layers.19': 0, 'model.layers.20': 0, 'model.layers.21': 0, 'model.layers.22': 0, 'model.layers.23': 0, 'model.layers.24': 'cpu', 'model.layers.25': 'cpu', 'model.layers.26': 'cpu', 'model.layers.27': 'cpu', 'model.layers.28': 'cpu', 'model.layers.29': 'cpu', 'model.layers.30': 'cpu', 'model.layers.31': 'cpu', 'model.norm': 'cpu', 'model.rotary_emb': 'cpu', 'lm_head': 'cpu'}\n",
      "🚀 正在生成查詢與摘錄...\n",
      "讀取檔案失敗 113_2_通識教育中心_療癒書法[106138]_簡月娟: [Errno 2] No such file or directory: '113_2_通識教育中心_療癒書法[106138]_簡月娟'\n",
      "文件 113_2_通識教育中心_療癒書法[106138]_簡月娟 內容為空或無法處理，跳過。\n",
      "讀取檔案失敗 113_2_通識教育中心_職場英文[206004]_林惠玲: [Errno 2] No such file or directory: '113_2_通識教育中心_職場英文[206004]_林惠玲'\n",
      "文件 113_2_通識教育中心_職場英文[206004]_林惠玲 內容為空或無法處理，跳過。\n",
      "讀取檔案失敗 113_2_通識教育中心_英語口語表達技巧[106220]_曾建肇: [Errno 2] No such file or directory: '113_2_通識教育中心_英語口語表達技巧[106220]_曾建肇'\n",
      "文件 113_2_通識教育中心_英語口語表達技巧[106220]_曾建肇 內容為空或無法處理，跳過。\n",
      "讀取檔案失敗 113_2_通識教育中心_海味人生的藝文創作[106139]_蔡米虹: [Errno 2] No such file or directory: '113_2_通識教育中心_海味人生的藝文創作[106139]_蔡米虹'\n",
      "文件 113_2_通識教育中心_海味人生的藝文創作[106139]_蔡米虹 內容為空或無法處理，跳過。\n",
      "讀取檔案失敗 113_2_通識教育中心_歌唱治療[106141]_姜宜君: [Errno 2] No such file or directory: '113_2_通識教育中心_歌唱治療[106141]_姜宜君'\n",
      "文件 113_2_通識教育中心_歌唱治療[106141]_姜宜君 內容為空或無法處理，跳過。\n",
      "讀取檔案失敗 113_2_通識教育中心_英文A(二)[106004]_康雅禎: [Errno 2] No such file or directory: '113_2_通識教育中心_英文A(二)[106004]_康雅禎'\n",
      "文件 113_2_通識教育中心_英文A(二)[106004]_康雅禎 內容為空或無法處理，跳過。\n",
      "讀取檔案失敗 113_2_通識教育中心_英文B(二)[106005]_林姿汶: [Errno 2] No such file or directory: '113_2_通識教育中心_英文B(二)[106005]_林姿汶'\n",
      "文件 113_2_通識教育中心_英文B(二)[106005]_林姿汶 內容為空或無法處理，跳過。\n",
      "讀取檔案失敗 113_2_通識教育中心_禪學與人生[106135]_蔡昆宏: [Errno 2] No such file or directory: '113_2_通識教育中心_禪學與人生[106135]_蔡昆宏'\n",
      "文件 113_2_通識教育中心_禪學與人生[106135]_蔡昆宏 內容為空或無法處理，跳過。\n",
      "讀取檔案失敗 113_2_通識教育中心_適應體育(二)[106123]_陳耀宏: [Errno 2] No such file or directory: '113_2_通識教育中心_適應體育(二)[106123]_陳耀宏'\n",
      "文件 113_2_通識教育中心_適應體育(二)[106123]_陳耀宏 內容為空或無法處理，跳過。\n",
      "讀取檔案失敗 113_2_國語文學系_文案寫作與企劃[122120]_張耘書: [Errno 2] No such file or directory: '113_2_國語文學系_文案寫作與企劃[122120]_張耘書'\n",
      "文件 113_2_國語文學系_文案寫作與企劃[122120]_張耘書 內容為空或無法處理，跳過。\n",
      "讀取檔案失敗 113_2_國語文學系_聲韻學(二)[122093]_楊素姿: [Errno 2] No such file or directory: '113_2_國語文學系_聲韻學(二)[122093]_楊素姿'\n",
      "文件 113_2_國語文學系_聲韻學(二)[122093]_楊素姿 內容為空或無法處理，跳過。\n",
      "讀取檔案失敗 113_2_國語文學系_古籍導讀(二)[122077]_林登順: [Errno 2] No such file or directory: '113_2_國語文學系_古籍導讀(二)[122077]_林登順'\n",
      "文件 113_2_國語文學系_古籍導讀(二)[122077]_林登順 內容為空或無法處理，跳過。\n",
      "讀取檔案失敗 113_2_國語文學系_歷代文選(二)[122086]_張惠貞: [Errno 2] No such file or directory: '113_2_國語文學系_歷代文選(二)[122086]_張惠貞'\n",
      "文件 113_2_國語文學系_歷代文選(二)[122086]_張惠貞 內容為空或無法處理，跳過。\n",
      "讀取檔案失敗 113_2_國語文學系_華語口語與表達[122112]_王琅: [Errno 2] No such file or directory: '113_2_國語文學系_華語口語與表達[122112]_王琅'\n",
      "文件 113_2_國語文學系_華語口語與表達[122112]_王琅 內容為空或無法處理，跳過。\n",
      "讀取檔案失敗 113_2_教育學系_學生社會學[112164]_黃彥文: [Errno 2] No such file or directory: '113_2_教育學系_學生社會學[112164]_黃彥文'\n",
      "文件 113_2_教育學系_學生社會學[112164]_黃彥文 內容為空或無法處理，跳過。\n",
      "讀取檔案失敗 113_2_教育學系_教育市場與創業管理[112170]_張正平: [Errno 2] No such file or directory: '113_2_教育學系_教育市場與創業管理[112170]_張正平'\n",
      "文件 113_2_教育學系_教育市場與創業管理[112170]_張正平 內容為空或無法處理，跳過。\n",
      "讀取檔案失敗 113_2_教育學系_課程改革[112183]_顏百鴻: [Errno 2] No such file or directory: '113_2_教育學系_課程改革[112183]_顏百鴻'\n",
      "文件 113_2_教育學系_課程改革[112183]_顏百鴻 內容為空或無法處理，跳過。\n",
      "讀取檔案失敗 113_2_教育學系_教學科技的新趨勢[112169]_吳純萍: [Errno 2] No such file or directory: '113_2_教育學系_教學科技的新趨勢[112169]_吳純萍'\n",
      "文件 113_2_教育學系_教學科技的新趨勢[112169]_吳純萍 內容為空或無法處理，跳過。\n",
      "讀取檔案失敗 113_2_師資培育中心_國民小學健康與體育教材教法[107031]_龔憶琳: [Errno 2] No such file or directory: '113_2_師資培育中心_國民小學健康與體育教材教法[107031]_龔憶琳'\n",
      "文件 113_2_師資培育中心_國民小學健康與體育教材教法[107031]_龔憶琳 內容為空或無法處理，跳過。\n",
      "讀取檔案失敗 113_2_師資培育中心_學習評量[107019]_林娟如: [Errno 2] No such file or directory: '113_2_師資培育中心_學習評量[107019]_林娟如'\n",
      "文件 113_2_師資培育中心_學習評量[107019]_林娟如 內容為空或無法處理，跳過。\n",
      "讀取檔案失敗 113_2_師資培育中心_生涯規劃[107051]_汪明怡: [Errno 2] No such file or directory: '113_2_師資培育中心_生涯規劃[107051]_汪明怡'\n",
      "文件 113_2_師資培育中心_生涯規劃[107051]_汪明怡 內容為空或無法處理，跳過。\n",
      "讀取檔案失敗 113_2_師資培育中心_主題式教學與實務[107036]_黃俊傑: [Errno 2] No such file or directory: '113_2_師資培育中心_主題式教學與實務[107036]_黃俊傑'\n",
      "文件 113_2_師資培育中心_主題式教學與實務[107036]_黃俊傑 內容為空或無法處理，跳過。\n",
      "讀取檔案失敗 113_2_英語學系_奇幻文學[127091]_嚴子陵: [Errno 2] No such file or directory: '113_2_英語學系_奇幻文學[127091]_嚴子陵'\n",
      "文件 113_2_英語學系_奇幻文學[127091]_嚴子陵 內容為空或無法處理，跳過。\n",
      "讀取檔案失敗 113_2_英語學系_英文作文(四)[127063]_許綬南: [Errno 2] No such file or directory: '113_2_英語學系_英文作文(四)[127063]_許綬南'\n",
      "文件 113_2_英語學系_英文作文(四)[127063]_許綬南 內容為空或無法處理，跳過。\n",
      "讀取檔案失敗 113_2_英語學系_廣告英文[127066]_謝麗雪: [Errno 2] No such file or directory: '113_2_英語學系_廣告英文[127066]_謝麗雪'\n",
      "文件 113_2_英語學系_廣告英文[127066]_謝麗雪 內容為空或無法處理，跳過。\n",
      "讀取檔案失敗 113_2_英語學系_英文作文(四)[127064]_楊逸君: [Errno 2] No such file or directory: '113_2_英語學系_英文作文(四)[127064]_楊逸君'\n",
      "文件 113_2_英語學系_英文作文(四)[127064]_楊逸君 內容為空或無法處理，跳過。\n",
      "讀取檔案失敗 113_2_特殊教育學系_資優學生情意教育[140083]_高振耀: [Errno 2] No such file or directory: '113_2_特殊教育學系_資優學生情意教育[140083]_高振耀'\n",
      "文件 113_2_特殊教育學系_資優學生情意教育[140083]_高振耀 內容為空或無法處理，跳過。\n",
      "讀取檔案失敗 113_2_特殊教育學系_科技在資優教育之應用[140095]_林千玉高振耀: [Errno 2] No such file or directory: '113_2_特殊教育學系_科技在資優教育之應用[140095]_林千玉高振耀'\n",
      "文件 113_2_特殊教育學系_科技在資優教育之應用[140095]_林千玉高振耀 內容為空或無法處理，跳過。\n",
      "讀取檔案失敗 113_2_特殊教育學系_視覺障礙[140062]_章雅惠: [Errno 2] No such file or directory: '113_2_特殊教育學系_視覺障礙[140062]_章雅惠'\n",
      "文件 113_2_特殊教育學系_視覺障礙[140062]_章雅惠 內容為空或無法處理，跳過。\n",
      "讀取檔案失敗 113_2_視覺藝術與設計學系_企劃與提案技巧(一)[191104]_蘇仙筆楊禮誠: [Errno 2] No such file or directory: '113_2_視覺藝術與設計學系_企劃與提案技巧(一)[191104]_蘇仙筆楊禮誠'\n",
      "文件 113_2_視覺藝術與設計學系_企劃與提案技巧(一)[191104]_蘇仙筆楊禮誠 內容為空或無法處理，跳過。\n",
      "讀取檔案失敗 113_2_視覺藝術與設計學系_插畫與繪本編輯(二)[191100]_蘇仙筆: [Errno 2] No such file or directory: '113_2_視覺藝術與設計學系_插畫與繪本編輯(二)[191100]_蘇仙筆'\n",
      "文件 113_2_視覺藝術與設計學系_插畫與繪本編輯(二)[191100]_蘇仙筆 內容為空或無法處理，跳過。\n",
      "讀取檔案失敗 113_2_視覺藝術與設計學系_畢業製作(二)[191080]_洪明爵: [Errno 2] No such file or directory: '113_2_視覺藝術與設計學系_畢業製作(二)[191080]_洪明爵'\n",
      "文件 113_2_視覺藝術與設計學系_畢業製作(二)[191080]_洪明爵 內容為空或無法處理，跳過。\n",
      "讀取檔案失敗 113_2_體育學系_專長訓練B(田徑)[113096]_龔憶琳許永承: [Errno 2] No such file or directory: '113_2_體育學系_專長訓練B(田徑)[113096]_龔憶琳許永承'\n",
      "文件 113_2_體育學系_專長訓練B(田徑)[113096]_龔憶琳許永承 內容為空或無法處理，跳過。\n",
      "讀取檔案失敗 113_2_體育學系_適應體育教學設計與實務[113084]_許柏仁: [Errno 2] No such file or directory: '113_2_體育學系_適應體育教學設計與實務[113084]_許柏仁'\n",
      "文件 113_2_體育學系_適應體育教學設計與實務[113084]_許柏仁 內容為空或無法處理，跳過。\n",
      "讀取檔案失敗 113_2_體育學系_運動管理學[113066]_彭小惠: [Errno 2] No such file or directory: '113_2_體育學系_運動管理學[113066]_彭小惠'\n",
      "文件 113_2_體育學系_運動管理學[113066]_彭小惠 內容為空或無法處理，跳過。\n",
      "讀取檔案失敗 113_2_綠色能源科技學系_能源專題研究(二)[183057]_張家欽卜一宇: [Errno 2] No such file or directory: '113_2_綠色能源科技學系_能源專題研究(二)[183057]_張家欽卜一宇'\n",
      "文件 113_2_綠色能源科技學系_能源專題研究(二)[183057]_張家欽卜一宇 內容為空或無法處理，跳過。\n",
      "讀取檔案失敗 113_2_綠色能源科技學系_工程電腦程式[183077]_丁顥: [Errno 2] No such file or directory: '113_2_綠色能源科技學系_工程電腦程式[183077]_丁顥'\n",
      "文件 113_2_綠色能源科技學系_工程電腦程式[183077]_丁顥 內容為空或無法處理，跳過。\n",
      "讀取檔案失敗 113_2_電機工程學系_計算機程式設計與實習(二)[182076]_梁家銘: [Errno 2] No such file or directory: '113_2_電機工程學系_計算機程式設計與實習(二)[182076]_梁家銘'\n",
      "文件 113_2_電機工程學系_計算機程式設計與實習(二)[182076]_梁家銘 內容為空或無法處理，跳過。\n",
      "讀取檔案失敗 113_2_電機工程學系_高等電源轉換器設計[182099]_陳奉殷: [Errno 2] No such file or directory: '113_2_電機工程學系_高等電源轉換器設計[182099]_陳奉殷'\n",
      "文件 113_2_電機工程學系_高等電源轉換器設計[182099]_陳奉殷 內容為空或無法處理，跳過。\n",
      "讀取檔案失敗 113_2_文化與自然資源學系_專題研究(二)[134059]_張伯宇: [Errno 2] No such file or directory: '113_2_文化與自然資源學系_專題研究(二)[134059]_張伯宇'\n",
      "文件 113_2_文化與自然資源學系_專題研究(二)[134059]_張伯宇 內容為空或無法處理，跳過。\n",
      "讀取檔案失敗 113_2_文化與自然資源學系_永續旅遊[134080]_張靜宜王志明: [Errno 2] No such file or directory: '113_2_文化與自然資源學系_永續旅遊[134080]_張靜宜王志明'\n",
      "文件 113_2_文化與自然資源學系_永續旅遊[134080]_張靜宜王志明 內容為空或無法處理，跳過。\n",
      "讀取檔案失敗 113_2_資訊工程學系_畢業專題實作(一)[159049]_陳宗禧: [Errno 2] No such file or directory: '113_2_資訊工程學系_畢業專題實作(一)[159049]_陳宗禧'\n",
      "文件 113_2_資訊工程學系_畢業專題實作(一)[159049]_陳宗禧 內容為空或無法處理，跳過。\n",
      "讀取檔案失敗 113_2_資訊工程學系_畢業專題實作(一)[159054]_高啟洲: [Errno 2] No such file or directory: '113_2_資訊工程學系_畢業專題實作(一)[159054]_高啟洲'\n",
      "文件 113_2_資訊工程學系_畢業專題實作(一)[159054]_高啟洲 內容為空或無法處理，跳過。\n",
      "讀取檔案失敗 113_2_數位學習科技學系_生活與學習科技[155081]_林豪鏘: [Errno 2] No such file or directory: '113_2_數位學習科技學系_生活與學習科技[155081]_林豪鏘'\n",
      "文件 113_2_數位學習科技學系_生活與學習科技[155081]_林豪鏘 內容為空或無法處理，跳過。\n",
      "讀取檔案失敗 113_2_數位學習科技學系_畢業專題實作(一)[155071]_張智凱: [Errno 2] No such file or directory: '113_2_數位學習科技學系_畢業專題實作(一)[155071]_張智凱'\n",
      "文件 113_2_數位學習科技學系_畢業專題實作(一)[155071]_張智凱 內容為空或無法處理，跳過。\n",
      "讀取檔案失敗 113_2_生態暨環境資源學系_環教與生態旅遊研究設計與分析實務[156055]_范玉玲: [Errno 2] No such file or directory: '113_2_生態暨環境資源學系_環教與生態旅遊研究設計與分析實務[156055]_范玉玲'\n",
      "文件 113_2_生態暨環境資源學系_環教與生態旅遊研究設計與分析實務[156055]_范玉玲 內容為空或無法處理，跳過。\n",
      "讀取檔案失敗 113_2_生態暨環境資源學系_專題實習[156087]_黃文伯: [Errno 2] No such file or directory: '113_2_生態暨環境資源學系_專題實習[156087]_黃文伯'\n",
      "文件 113_2_生態暨環境資源學系_專題實習[156087]_黃文伯 內容為空或無法處理，跳過。\n",
      "讀取檔案失敗 113_2_音樂學系_體育(二)[164356]_蔡佳蓉: [Errno 2] No such file or directory: '113_2_音樂學系_體育(二)[164356]_蔡佳蓉'\n",
      "文件 113_2_音樂學系_體育(二)[164356]_蔡佳蓉 內容為空或無法處理，跳過。\n",
      "讀取檔案失敗 113_2_音樂學系_管樂合奏[164393]_葉冠麟: [Errno 2] No such file or directory: '113_2_音樂學系_管樂合奏[164393]_葉冠麟'\n",
      "文件 113_2_音樂學系_管樂合奏[164393]_葉冠麟 內容為空或無法處理，跳過。\n",
      "讀取檔案失敗 113_2_材料科學系_相變化導論[167062]_李昆達: [Errno 2] No such file or directory: '113_2_材料科學系_相變化導論[167062]_李昆達'\n",
      "文件 113_2_材料科學系_相變化導論[167062]_李昆達 內容為空或無法處理，跳過。\n",
      "讀取檔案失敗 113_2_材料科學系_固態物理導論[167058]_尤孝雯: [Errno 2] No such file or directory: '113_2_材料科學系_固態物理導論[167058]_尤孝雯'\n",
      "文件 113_2_材料科學系_固態物理導論[167058]_尤孝雯 內容為空或無法處理，跳過。\n",
      "讀取檔案失敗 113_2_幼兒教育學系_心理學[170062]_張麗芬: [Errno 2] No such file or directory: '113_2_幼兒教育學系_心理學[170062]_張麗芬'\n",
      "文件 113_2_幼兒教育學系_心理學[170062]_張麗芬 內容為空或無法處理，跳過。\n",
      "讀取檔案失敗 113_2_幼兒教育學系_幼兒學習評量[170041]_陳姿蘭: [Errno 2] No such file or directory: '113_2_幼兒教育學系_幼兒學習評量[170041]_陳姿蘭'\n",
      "文件 113_2_幼兒教育學系_幼兒學習評量[170041]_陳姿蘭 內容為空或無法處理，跳過。\n",
      "讀取檔案失敗 113_2_生物科技學系_蛋白與酵素實驗技術[158057]_張翠玲: [Errno 2] No such file or directory: '113_2_生物科技學系_蛋白與酵素實驗技術[158057]_張翠玲'\n",
      "文件 113_2_生物科技學系_蛋白與酵素實驗技術[158057]_張翠玲 內容為空或無法處理，跳過。\n",
      "讀取檔案失敗 113_2_生物科技學系_生技產業概況與實務[158067]_吳慧珍: [Errno 2] No such file or directory: '113_2_生物科技學系_生技產業概況與實務[158067]_吳慧珍'\n",
      "文件 113_2_生物科技學系_生技產業概況與實務[158067]_吳慧珍 內容為空或無法處理，跳過。\n",
      "讀取檔案失敗 113_2_綠色能源科技學系(進修學士班)_普通物理學實驗(二)[283005]_梁品鈞: [Errno 2] No such file or directory: '113_2_綠色能源科技學系(進修學士班)_普通物理學實驗(二)[283005]_梁品鈞'\n",
      "文件 113_2_綠色能源科技學系(進修學士班)_普通物理學實驗(二)[283005]_梁品鈞 內容為空或無法處理，跳過。\n",
      "讀取檔案失敗 113_2_綠色能源科技學系(進修學士班)_運算思維與程式設計[283032]_吳明峻: [Errno 2] No such file or directory: '113_2_綠色能源科技學系(進修學士班)_運算思維與程式設計[283032]_吳明峻'\n",
      "文件 113_2_綠色能源科技學系(進修學士班)_運算思維與程式設計[283032]_吳明峻 內容為空或無法處理，跳過。\n",
      "讀取檔案失敗 113_2_諮商與輔導學系_專題研究(一)[128072]_陳宇平: [Errno 2] No such file or directory: '113_2_諮商與輔導學系_專題研究(一)[128072]_陳宇平'\n",
      "文件 113_2_諮商與輔導學系_專題研究(一)[128072]_陳宇平 內容為空或無法處理，跳過。\n",
      "讀取檔案失敗 113_2_諮商與輔導學系_組織心理學[128062]_李明峰: [Errno 2] No such file or directory: '113_2_諮商與輔導學系_組織心理學[128062]_李明峰'\n",
      "文件 113_2_諮商與輔導學系_組織心理學[128062]_李明峰 內容為空或無法處理，跳過。\n",
      "讀取檔案失敗 113_2_戲劇創作與應用學系_肢體劇場表演[172062]_厲復平: [Errno 2] No such file or directory: '113_2_戲劇創作與應用學系_肢體劇場表演[172062]_厲復平'\n",
      "文件 113_2_戲劇創作與應用學系_肢體劇場表演[172062]_厲復平 內容為空或無法處理，跳過。\n",
      "讀取檔案失敗 113_2_戲劇創作與應用學系_中文閱讀與書寫(二)[172040]_顏銘俊: [Errno 2] No such file or directory: '113_2_戲劇創作與應用學系_中文閱讀與書寫(二)[172040]_顏銘俊'\n",
      "文件 113_2_戲劇創作與應用學系_中文閱讀與書寫(二)[172040]_顏銘俊 內容為空或無法處理，跳過。\n",
      "讀取檔案失敗 113_2_行政管理學系_人力資源與組織發展[132058]_林桐銘: [Errno 2] No such file or directory: '113_2_行政管理學系_人力資源與組織發展[132058]_林桐銘'\n",
      "文件 113_2_行政管理學系_人力資源與組織發展[132058]_林桐銘 內容為空或無法處理，跳過。\n",
      "讀取檔案失敗 113_2_行政管理學系_國際關係[132061]_蕭妙香: [Errno 2] No such file or directory: '113_2_行政管理學系_國際關係[132061]_蕭妙香'\n",
      "文件 113_2_行政管理學系_國際關係[132061]_蕭妙香 內容為空或無法處理，跳過。\n",
      "讀取檔案失敗 113_2_英語學系(進修學士班)_語言習得[227007]_康雅禎: [Errno 2] No such file or directory: '113_2_英語學系(進修學士班)_語言習得[227007]_康雅禎'\n",
      "文件 113_2_英語學系(進修學士班)_語言習得[227007]_康雅禎 內容為空或無法處理，跳過。\n",
      "讀取檔案失敗 113_2_應用數學系_普通數學[150047]_謝堅: [Errno 2] No such file or directory: '113_2_應用數學系_普通數學[150047]_謝堅'\n",
      "文件 113_2_應用數學系_普通數學[150047]_謝堅 內容為空或無法處理，跳過。\n",
      "讀取檔案失敗 113_2_經營與管理學系_企業倫理[125043]_劉子歆: [Errno 2] No such file or directory: '113_2_經營與管理學系_企業倫理[125043]_劉子歆'\n",
      "文件 113_2_經營與管理學系_企業倫理[125043]_劉子歆 內容為空或無法處理，跳過。\n",
      "讀取檔案失敗 113_2_電機工程學系碩士班_電波專論[182053]_王健仁: [Errno 2] No such file or directory: '113_2_電機工程學系碩士班_電波專論[182053]_王健仁'\n",
      "文件 113_2_電機工程學系碩士班_電波專論[182053]_王健仁 內容為空或無法處理，跳過。\n",
      "讀取檔案失敗 113_2_音樂學系碩士班_臺灣音樂與文化[164363]_陳虹百: [Errno 2] No such file or directory: '113_2_音樂學系碩士班_臺灣音樂與文化[164363]_陳虹百'\n",
      "文件 113_2_音樂學系碩士班_臺灣音樂與文化[164363]_陳虹百 內容為空或無法處理，跳過。\n",
      "讀取檔案失敗 113_2_諮商與輔導學系碩士班_青少年適應問題研究[128052]_連廷嘉: [Errno 2] No such file or directory: '113_2_諮商與輔導學系碩士班_青少年適應問題研究[128052]_連廷嘉'\n",
      "文件 113_2_諮商與輔導學系碩士班_青少年適應問題研究[128052]_連廷嘉 內容為空或無法處理，跳過。\n",
      "讀取檔案失敗 113_2_生態暨環境資源學系碩士班_永續發展教育特論[156056]_許毅璿: [Errno 2] No such file or directory: '113_2_生態暨環境資源學系碩士班_永續發展教育特論[156056]_許毅璿'\n",
      "文件 113_2_生態暨環境資源學系碩士班_永續發展教育特論[156056]_許毅璿 內容為空或無法處理，跳過。\n",
      "讀取檔案失敗 113_2_綠色能源科技學系碩士班_電子電路工程特論[183044]_湯譯增: [Errno 2] No such file or directory: '113_2_綠色能源科技學系碩士班_電子電路工程特論[183044]_湯譯增'\n",
      "文件 113_2_綠色能源科技學系碩士班_電子電路工程特論[183044]_湯譯增 內容為空或無法處理，跳過。\n",
      "讀取檔案失敗 113_2_視覺藝術與設計學系視覺藝術碩士班_現代藝術研究[191068]_戴明德: [Errno 2] No such file or directory: '113_2_視覺藝術與設計學系視覺藝術碩士班_現代藝術研究[191068]_戴明德'\n",
      "文件 113_2_視覺藝術與設計學系視覺藝術碩士班_現代藝術研究[191068]_戴明德 內容為空或無法處理，跳過。\n",
      "讀取檔案失敗 113_2_數位學習科技學系碩士班_AI情感運算與數位藝術[155047]_林豪鏘: [Errno 2] No such file or directory: '113_2_數位學習科技學系碩士班_AI情感運算與數位藝術[155047]_林豪鏘'\n",
      "文件 113_2_數位學習科技學系碩士班_AI情感運算與數位藝術[155047]_林豪鏘 內容為空或無法處理，跳過。\n",
      "讀取檔案失敗 113_2_材料科學系碩士班_電極材料開發與製作[167036]_蒲盈志: [Errno 2] No such file or directory: '113_2_材料科學系碩士班_電極材料開發與製作[167036]_蒲盈志'\n",
      "文件 113_2_材料科學系碩士班_電極材料開發與製作[167036]_蒲盈志 內容為空或無法處理，跳過。\n",
      "讀取檔案失敗 113_2_體育學系碩士班_質性研究[113055]_陳耀宏: [Errno 2] No such file or directory: '113_2_體育學系碩士班_質性研究[113055]_陳耀宏'\n",
      "文件 113_2_體育學系碩士班_質性研究[113055]_陳耀宏 內容為空或無法處理，跳過。\n",
      "讀取檔案失敗 113_2_國語文學系國語文教學與應用碩士班_文藝創作：理論與實務(二)[122072]_楊富閔: [Errno 2] No such file or directory: '113_2_國語文學系國語文教學與應用碩士班_文藝創作：理論與實務(二)[122072]_楊富閔'\n",
      "文件 113_2_國語文學系國語文教學與應用碩士班_文藝創作：理論與實務(二)[122072]_楊富閔 內容為空或無法處理，跳過。\n",
      "讀取檔案失敗 113_2_戲劇創作與應用學系碩士班_創造性戲劇專題研究[172048]_林玫君: [Errno 2] No such file or directory: '113_2_戲劇創作與應用學系碩士班_創造性戲劇專題研究[172048]_林玫君'\n",
      "文件 113_2_戲劇創作與應用學系碩士班_創造性戲劇專題研究[172048]_林玫君 內容為空或無法處理，跳過。\n",
      "讀取檔案失敗 113_2_文化與自然資源學系臺灣文化與觀光資源碩士班_研究方法[134048]_陳一峰張靜宜: [Errno 2] No such file or directory: '113_2_文化與自然資源學系臺灣文化與觀光資源碩士班_研究方法[134048]_陳一峰張靜宜'\n",
      "文件 113_2_文化與自然資源學系臺灣文化與觀光資源碩士班_研究方法[134048]_陳一峰張靜宜 內容為空或無法處理，跳過。\n",
      "讀取檔案失敗 113_2_特殊教育學系碩士班_注意力缺陷過動症專題研究[140107]_何美慧: [Errno 2] No such file or directory: '113_2_特殊教育學系碩士班_注意力缺陷過動症專題研究[140107]_何美慧'\n",
      "文件 113_2_特殊教育學系碩士班_注意力缺陷過動症專題研究[140107]_何美慧 內容為空或無法處理，跳過。\n",
      "讀取檔案失敗 113_2_生物科技學系碩士班_黑色素生成與調控學[158041]_張德生: [Errno 2] No such file or directory: '113_2_生物科技學系碩士班_黑色素生成與調控學[158041]_張德生'\n",
      "文件 113_2_生物科技學系碩士班_黑色素生成與調控學[158041]_張德生 內容為空或無法處理，跳過。\n",
      "讀取檔案失敗 113_2_行政管理學系碩士班_行政法專題[132037]_蕭妙香: [Errno 2] No such file or directory: '113_2_行政管理學系碩士班_行政法專題[132037]_蕭妙香'\n",
      "文件 113_2_行政管理學系碩士班_行政法專題[132037]_蕭妙香 內容為空或無法處理，跳過。\n",
      "讀取檔案失敗 113_2_音樂學系碩士在職專班(夜)_臺灣音樂與文化[264303]_施金農: [Errno 2] No such file or directory: '113_2_音樂學系碩士在職專班(夜)_臺灣音樂與文化[264303]_施金農'\n",
      "文件 113_2_音樂學系碩士在職專班(夜)_臺灣音樂與文化[264303]_施金農 內容為空或無法處理，跳過。\n",
      "讀取檔案失敗 113_2_幼兒教育學系碩士在職專班(夜)_幼兒學習評量研究[270004]_陳姿蘭: [Errno 2] No such file or directory: '113_2_幼兒教育學系碩士在職專班(夜)_幼兒學習評量研究[270004]_陳姿蘭'\n",
      "文件 113_2_幼兒教育學系碩士在職專班(夜)_幼兒學習評量研究[270004]_陳姿蘭 內容為空或無法處理，跳過。\n",
      "讀取檔案失敗 113_2_應用數學系碩士班_書報討論(二)[150046]_黃彥彰: [Errno 2] No such file or directory: '113_2_應用數學系碩士班_書報討論(二)[150046]_黃彥彰'\n",
      "文件 113_2_應用數學系碩士班_書報討論(二)[150046]_黃彥彰 內容為空或無法處理，跳過。\n",
      "讀取檔案失敗 113_2_教育學系課程與教學教學碩士班(假日)_教育哲學研究[112105]_許誌庭: [Errno 2] No such file or directory: '113_2_教育學系課程與教學教學碩士班(假日)_教育哲學研究[112105]_許誌庭'\n",
      "文件 113_2_教育學系課程與教學教學碩士班(假日)_教育哲學研究[112105]_許誌庭 內容為空或無法處理，跳過。\n",
      "讀取檔案失敗 113_2_理工學院智慧製造碩士在職學位學程_電機控制[280005]_陳奉殷: [Errno 2] No such file or directory: '113_2_理工學院智慧製造碩士在職學位學程_電機控制[280005]_陳奉殷'\n",
      "文件 113_2_理工學院智慧製造碩士在職學位學程_電機控制[280005]_陳奉殷 內容為空或無法處理，跳過。\n",
      "讀取檔案失敗 113_2_經營與管理學系科技管理碩士在職專班(夜)_創新管理[225008]_賴賢哲: [Errno 2] No such file or directory: '113_2_經營與管理學系科技管理碩士在職專班(夜)_創新管理[225008]_賴賢哲'\n",
      "文件 113_2_經營與管理學系科技管理碩士在職專班(夜)_創新管理[225008]_賴賢哲 內容為空或無法處理，跳過。\n",
      "讀取檔案失敗 113_2_經營與管理學系科技管理碩士班_國際行銷管理研討[125032]_葉耕榕: [Errno 2] No such file or directory: '113_2_經營與管理學系科技管理碩士班_國際行銷管理研討[125032]_葉耕榕'\n",
      "文件 113_2_經營與管理學系科技管理碩士班_國際行銷管理研討[125032]_葉耕榕 內容為空或無法處理，跳過。\n",
      "讀取檔案失敗 113_2_綠色能源科技學系碩士在職專班(夜)_光電材料與元件特論[283030]_傅耀賢: [Errno 2] No such file or directory: '113_2_綠色能源科技學系碩士在職專班(夜)_光電材料與元件特論[283030]_傅耀賢'\n",
      "文件 113_2_綠色能源科技學系碩士在職專班(夜)_光電材料與元件特論[283030]_傅耀賢 內容為空或無法處理，跳過。\n",
      "讀取檔案失敗 113_2_行政管理學系碩士在職專班(夜)_專題研討（四）[232003]_林佳燕: [Errno 2] No such file or directory: '113_2_行政管理學系碩士在職專班(夜)_專題研討（四）[232003]_林佳燕'\n",
      "文件 113_2_行政管理學系碩士在職專班(夜)_專題研討（四）[232003]_林佳燕 內容為空或無法處理，跳過。\n",
      "讀取檔案失敗 113_2_體育學系碩士在職專班(夜)_質性研究[213004]_陳耀宏: [Errno 2] No such file or directory: '113_2_體育學系碩士在職專班(夜)_質性研究[213004]_陳耀宏'\n",
      "文件 113_2_體育學系碩士在職專班(夜)_質性研究[213004]_陳耀宏 內容為空或無法處理，跳過。\n",
      "讀取檔案失敗 113_2_教育學系教育數位評量與數據分析碩士班_因素分析[112129]_凃柏原: [Errno 2] No such file or directory: '113_2_教育學系教育數位評量與數據分析碩士班_因素分析[112129]_凃柏原'\n",
      "文件 113_2_教育學系教育數位評量與數據分析碩士班_因素分析[112129]_凃柏原 內容為空或無法處理，跳過。\n",
      "讀取檔案失敗 113_2_教育學系教育經營與管理碩士班_教育衝突與危機管理研究[112123]_林斌: [Errno 2] No such file or directory: '113_2_教育學系教育經營與管理碩士班_教育衝突與危機管理研究[112123]_林斌'\n",
      "文件 113_2_教育學系教育經營與管理碩士班_教育衝突與危機管理研究[112123]_林斌 內容為空或無法處理，跳過。\n",
      "讀取檔案失敗 113_2_教育學系課程與教學碩士班_質性研究法[112115]_呂明蓁: [Errno 2] No such file or directory: '113_2_教育學系課程與教學碩士班_質性研究法[112115]_呂明蓁'\n",
      "文件 113_2_教育學系課程與教學碩士班_質性研究法[112115]_呂明蓁 內容為空或無法處理，跳過。\n",
      "讀取檔案失敗 113_2_經營與管理學系高階管理碩士在職專班(夜)_人力資源管理[225010]_曹瓊文林鈺杰: [Errno 2] No such file or directory: '113_2_經營與管理學系高階管理碩士在職專班(夜)_人力資源管理[225010]_曹瓊文林鈺杰'\n",
      "文件 113_2_經營與管理學系高階管理碩士在職專班(夜)_人力資源管理[225010]_曹瓊文林鈺杰 內容為空或無法處理，跳過。\n",
      "讀取檔案失敗 113_2_視覺藝術與設計學系碩士在職專班(夜)_油畫創作研究(一)[291004]_侯忠穎: [Errno 2] No such file or directory: '113_2_視覺藝術與設計學系碩士在職專班(夜)_油畫創作研究(一)[291004]_侯忠穎'\n",
      "文件 113_2_視覺藝術與設計學系碩士在職專班(夜)_油畫創作研究(一)[291004]_侯忠穎 內容為空或無法處理，跳過。\n",
      "讀取檔案失敗 113_2_幼兒教育學系碩士班_幼兒學習評量研究[170034]_陳姿蘭: [Errno 2] No such file or directory: '113_2_幼兒教育學系碩士班_幼兒學習評量研究[170034]_陳姿蘭'\n",
      "文件 113_2_幼兒教育學系碩士班_幼兒學習評量研究[170034]_陳姿蘭 內容為空或無法處理，跳過。\n",
      "讀取檔案失敗 113_2_應用數學系碩士在職專班(夜)_數學迷思概念研究[250002]_黃建中: [Errno 2] No such file or directory: '113_2_應用數學系碩士在職專班(夜)_數學迷思概念研究[250002]_黃建中'\n",
      "文件 113_2_應用數學系碩士在職專班(夜)_數學迷思概念研究[250002]_黃建中 內容為空或無法處理，跳過。\n",
      "讀取檔案失敗 113_2_教育學系教學科技碩士班_新興教學科技議題研究[112111]_吳純萍: [Errno 2] No such file or directory: '113_2_教育學系教學科技碩士班_新興教學科技議題研究[112111]_吳純萍'\n",
      "文件 113_2_教育學系教學科技碩士班_新興教學科技議題研究[112111]_吳純萍 內容為空或無法處理，跳過。\n",
      "讀取檔案失敗 113_2_教育學系教育行政碩士在職專班(夜)_策略管理與革新研究[212005]_曾燦燈: [Errno 2] No such file or directory: '113_2_教育學系教育行政碩士在職專班(夜)_策略管理與革新研究[212005]_曾燦燈'\n",
      "文件 113_2_教育學系教育行政碩士在職專班(夜)_策略管理與革新研究[212005]_曾燦燈 內容為空或無法處理，跳過。\n",
      "✔️ 查詢生成完成，已儲存至 './chunking_evaluation/evaluation_framework/general_evaluation_data/generated_queries_and_excerpts.csv'\n"
     ]
    }
   ],
   "source": [
    "\n",
    "# 檢查 CSV 檔案是否存在\n",
    "if os.path.exists(queries_csv_path):\n",
    "    print(f\"✅ 偵測到評估資料集 CSV 檔案 '{queries_csv_path}' 已存在。\")\n",
    "    print(\"將使用 GeneralEvaluation 進行評估。\")\n",
    "else:\n",
    "    print(f\"🚧 未偵測到評估資料集 CSV 檔案，將使用 SyntheticEvaluation 進行生成。\")\n",
    "\n",
    "    # 進行資料取樣以生成評估資料集\n",
    "    analyzer = DatasetAnalyzer(corpora_directory)\n",
    "    analyzer.analyze_folder()\n",
    "    analyzer.generate_report()\n",
    "    sample = analyzer.get_stratified_sample(100)\n",
    "    \n",
    "    # 建立檔案路徑清單\n",
    "    corpora_paths_list = [os.path.normpath(file_info['file_path']).replace('\\\\\\\\', '/') for file_info in sample]\n",
    "    corpora_id_paths = {\n",
    "        os.path.splitext(os.path.basename(path))[0]: path\n",
    "        for path in corpora_paths_list\n",
    "    }\n",
    "\n",
    "    print(f\"\\n🎯 分層取樣完成，選擇了 {len(sample)} 個檔案。\")\n",
    "    print(\"將使用 SyntheticEvaluation 生成評估資料集並進行評估。\")\n",
    "\n",
    "    # 初始化 SyntheticEvaluation\n",
    "    evaluation = SyntheticEvaluation(corpora_id_paths, queries_csv_path)\n",
    "\n",
    "    # 生成評估資料集\n",
    "    print(f\"🚀 正在生成查詢與摘錄...\")\n",
    "    evaluation.generate_queries_and_excerpts(approximate_excerpts=True, num_rounds=1, queries_per_corpus=1)\n",
    "    print(f\"✔️ 查詢生成完成，已儲存至 '{queries_csv_path}'\")\n",
    "    #evaluation.repair_csv_references()\n",
    "    #evaluation.validate_csv_integrity()"
   ]
  },
  {
   "cell_type": "code",
   "execution_count": 11,
   "id": "e7ddfd96",
   "metadata": {},
   "outputs": [],
   "source": [
    "# Apply filter to remove queries with poor excerpts\n",
    "#evaluation.filter_poor_excerpts(threshold=0.36)\n",
    "\n",
    "# Apply filter to remove duplicates\n",
    "#evaluation.filter_duplicates(threshold=0.6)"
   ]
  },
  {
   "cell_type": "markdown",
   "id": "603691ca",
   "metadata": {},
   "source": [
    "### 4.4 Finished Initialization"
   ]
  },
  {
   "cell_type": "code",
   "execution_count": 12,
   "id": "f0d5c4a1",
   "metadata": {},
   "outputs": [
    {
     "name": "stdout",
     "output_type": "stream",
     "text": [
      "\n",
      "🎉 評估環境初始化完成。\n"
     ]
    }
   ],
   "source": [
    "print(\"\\n🎉 評估環境初始化完成。\")"
   ]
  },
  {
   "cell_type": "markdown",
   "id": "75e449e2",
   "metadata": {},
   "source": [
    "## 5. Run the evaluation"
   ]
  },
  {
   "cell_type": "code",
   "execution_count": 13,
   "id": "ceb82fae",
   "metadata": {},
   "outputs": [
    {
     "name": "stdout",
     "output_type": "stream",
     "text": [
      "PyTorch 版本: 2.7.0+cu118\n",
      "CUDA 是否可用: True\n",
      "CUDA 裝置數量: 1\n",
      "當前使用的 CUDA 裝置: 0\n",
      "CUDA 裝置名稱: NVIDIA GeForce RTX 4070 Ti SUPER\n"
     ]
    }
   ],
   "source": [
    "import torch\n",
    "print(f\"PyTorch 版本: {torch.__version__}\")\n",
    "print(f\"CUDA 是否可用: {torch.cuda.is_available()}\")\n",
    "print(f\"CUDA 裝置數量: {torch.cuda.device_count()}\")\n",
    "if torch.cuda.is_available():\n",
    "    print(f\"當前使用的 CUDA 裝置: {torch.cuda.current_device()}\")\n",
    "    print(f\"CUDA 裝置名稱: {torch.cuda.get_device_name(0)}\")"
   ]
  },
  {
   "cell_type": "code",
   "execution_count": 14,
   "id": "599e6be3",
   "metadata": {},
   "outputs": [
    {
     "name": "stdout",
     "output_type": "stream",
     "text": [
      "🚀 準備載入嵌入模型，此過程僅執行一次...\n",
      "正在載入 BGE-M3 模型到裝置: cuda\n",
      "✅ 嵌入模型載入完成！\n",
      "--------------------------------------------------\n",
      "⚙️ 正在使用 RecursiveCharacterTextSplitter 進行評估...\n",
      "Warning: CSV file not found at ./chunking_evaluation/evaluation_framework/general_evaluation_data/generated_queries_and_excerpts.csv\n",
      "Created collection:  BGE_M3_EmbeddingFunction_RecursiveCharacterTextSplitter_512_50\n"
     ]
    },
    {
     "name": "stderr",
     "output_type": "stream",
     "text": [
      "✅ 正在處理語料庫檔案並切割: 0it [00:00, ?it/s]\n"
     ]
    },
    {
     "name": "stdout",
     "output_type": "stream",
     "text": [
      "❌ 錯誤：沒有找到可處理的區塊。\n",
      "Collection 'auto_chunk' does not exist, proceeding to create.\n",
      "New collection 'auto_chunk' created.\n"
     ]
    },
    {
     "name": "stderr",
     "output_type": "stream",
     "text": [
      "✅ 正在處理語料庫檔案並切割: 0it [00:00, ?it/s]"
     ]
    },
    {
     "name": "stdout",
     "output_type": "stream",
     "text": [
      "❌ 錯誤：沒有找到可處理的區塊。\n",
      "❌ 錯誤：無法獲取區塊中繼資料，評估將無法進行。\n",
      "\n",
      "--- 當前 Chunking 策略結果 ---\n"
     ]
    },
    {
     "name": "stderr",
     "output_type": "stream",
     "text": [
      "\n"
     ]
    },
    {
     "data": {
      "text/html": [
       "<div>\n",
       "<style scoped>\n",
       "    .dataframe tbody tr th:only-of-type {\n",
       "        vertical-align: middle;\n",
       "    }\n",
       "\n",
       "    .dataframe tbody tr th {\n",
       "        vertical-align: top;\n",
       "    }\n",
       "\n",
       "    .dataframe thead th {\n",
       "        text-align: right;\n",
       "    }\n",
       "</style>\n",
       "<table border=\"1\" class=\"dataframe\">\n",
       "  <thead>\n",
       "    <tr style=\"text-align: right;\">\n",
       "      <th></th>\n",
       "      <th>chunker</th>\n",
       "    </tr>\n",
       "  </thead>\n",
       "  <tbody>\n",
       "    <tr>\n",
       "      <th>0</th>\n",
       "      <td>RecursiveCharacterTextSplitter_512_50</td>\n",
       "    </tr>\n",
       "  </tbody>\n",
       "</table>\n",
       "</div>"
      ],
      "text/plain": [
       "                                 chunker\n",
       "0  RecursiveCharacterTextSplitter_512_50"
      ]
     },
     "metadata": {},
     "output_type": "display_data"
    },
    {
     "name": "stdout",
     "output_type": "stream",
     "text": [
      "----------------------------\n",
      "\n",
      "⚙️ 正在使用 RecursiveCharacterTextSplitter 進行評估...\n",
      "Warning: CSV file not found at ./chunking_evaluation/evaluation_framework/general_evaluation_data/generated_queries_and_excerpts.csv\n",
      "Created collection:  BGE_M3_EmbeddingFunction_RecursiveCharacterTextSplitter_1024_50\n"
     ]
    },
    {
     "name": "stderr",
     "output_type": "stream",
     "text": [
      "✅ 正在處理語料庫檔案並切割: 0it [00:00, ?it/s]\n"
     ]
    },
    {
     "name": "stdout",
     "output_type": "stream",
     "text": [
      "❌ 錯誤：沒有找到可處理的區塊。\n",
      "Existing collection 'auto_chunk' deleted.\n",
      "New collection 'auto_chunk' created.\n"
     ]
    },
    {
     "name": "stderr",
     "output_type": "stream",
     "text": [
      "✅ 正在處理語料庫檔案並切割: 0it [00:00, ?it/s]"
     ]
    },
    {
     "name": "stdout",
     "output_type": "stream",
     "text": [
      "❌ 錯誤：沒有找到可處理的區塊。\n",
      "❌ 錯誤：無法獲取區塊中繼資料，評估將無法進行。\n",
      "\n",
      "--- 當前 Chunking 策略結果 ---\n"
     ]
    },
    {
     "name": "stderr",
     "output_type": "stream",
     "text": [
      "\n"
     ]
    },
    {
     "data": {
      "text/html": [
       "<div>\n",
       "<style scoped>\n",
       "    .dataframe tbody tr th:only-of-type {\n",
       "        vertical-align: middle;\n",
       "    }\n",
       "\n",
       "    .dataframe tbody tr th {\n",
       "        vertical-align: top;\n",
       "    }\n",
       "\n",
       "    .dataframe thead th {\n",
       "        text-align: right;\n",
       "    }\n",
       "</style>\n",
       "<table border=\"1\" class=\"dataframe\">\n",
       "  <thead>\n",
       "    <tr style=\"text-align: right;\">\n",
       "      <th></th>\n",
       "      <th>chunker</th>\n",
       "    </tr>\n",
       "  </thead>\n",
       "  <tbody>\n",
       "    <tr>\n",
       "      <th>0</th>\n",
       "      <td>RecursiveCharacterTextSplitter_1024_50</td>\n",
       "    </tr>\n",
       "  </tbody>\n",
       "</table>\n",
       "</div>"
      ],
      "text/plain": [
       "                                  chunker\n",
       "0  RecursiveCharacterTextSplitter_1024_50"
      ]
     },
     "metadata": {},
     "output_type": "display_data"
    },
    {
     "name": "stdout",
     "output_type": "stream",
     "text": [
      "----------------------------\n",
      "\n",
      "\n",
      "✅ 所有分塊器評估完成！\n",
      "=== 最終總結報告 ===\n"
     ]
    },
    {
     "data": {
      "text/html": [
       "<div>\n",
       "<style scoped>\n",
       "    .dataframe tbody tr th:only-of-type {\n",
       "        vertical-align: middle;\n",
       "    }\n",
       "\n",
       "    .dataframe tbody tr th {\n",
       "        vertical-align: top;\n",
       "    }\n",
       "\n",
       "    .dataframe thead th {\n",
       "        text-align: right;\n",
       "    }\n",
       "</style>\n",
       "<table border=\"1\" class=\"dataframe\">\n",
       "  <thead>\n",
       "    <tr style=\"text-align: right;\">\n",
       "      <th></th>\n",
       "      <th>chunker</th>\n",
       "    </tr>\n",
       "  </thead>\n",
       "  <tbody>\n",
       "    <tr>\n",
       "      <th>0</th>\n",
       "      <td>RecursiveCharacterTextSplitter_512_50</td>\n",
       "    </tr>\n",
       "    <tr>\n",
       "      <th>1</th>\n",
       "      <td>RecursiveCharacterTextSplitter_1024_50</td>\n",
       "    </tr>\n",
       "  </tbody>\n",
       "</table>\n",
       "</div>"
      ],
      "text/plain": [
       "                                  chunker\n",
       "0   RecursiveCharacterTextSplitter_512_50\n",
       "1  RecursiveCharacterTextSplitter_1024_50"
      ]
     },
     "metadata": {},
     "output_type": "display_data"
    }
   ],
   "source": [
    "import shutil\n",
    "import pandas as pd\n",
    "from IPython.display import display\n",
    "\n",
    "# 刪除舊的 Chroma DB，以確保每次評估都是從頭開始\n",
    "chroma_db_path = \"./chunking_evaluation/evaluation_framework/general_evaluation_data/questions_db\"\n",
    "if os.path.exists(chroma_db_path):\n",
    "    print(f\"🔄 正在刪除舊的 Chroma DB: {chroma_db_path}\")\n",
    "    shutil.rmtree(chroma_db_path)\n",
    "\n",
    "# ====== 將載入嵌入函式的程式碼移到迴圈外面 ======\n",
    "print(\"🚀 準備載入嵌入模型，此過程僅執行一次...\")\n",
    "embedding_function = get_bge_m3_embedding_function()\n",
    "print(\"✅ 嵌入模型載入完成！\")\n",
    "print(\"--------------------------------------------------\")\n",
    "# ======================================================\n",
    "\n",
    "results = []\n",
    "\n",
    "for chunker in chunkers:\n",
    "    print(f\"⚙️ 正在使用 {chunker.__class__.__name__} 進行評估...\")\n",
    "\n",
    "    # 執行評估時，直接使用已經載入好的 embedding_function\n",
    "    result = evaluation.run(\n",
    "        chunker,\n",
    "        embedding_function,  # 這裡使用已經載入好的函式\n",
    "        retrieve=5,\n",
    "        db_to_save_chunks=chroma_db_path\n",
    "    )\n",
    "\n",
    "    # 清理結果並新增 chunker 資訊\n",
    "    chunk_size = chunker._chunk_size if hasattr(chunker, '_chunk_size') else 0\n",
    "    chunk_overlap = chunker._chunk_overlap if hasattr(chunker, '_chunk_overlap') else 0\n",
    "    result['chunker'] = chunker.__class__.__name__ + f\"_{chunk_size}_{chunk_overlap}\"\n",
    "\n",
    "    results.append(result)\n",
    "\n",
    "    # 在每次迭代後，顯示當前 chunker 的結果\n",
    "    current_df = pd.DataFrame([result])\n",
    "    print(\"\\n--- 當前 Chunking 策略結果 ---\")\n",
    "    display(current_df)\n",
    "    print(\"----------------------------\\n\")\n",
    "\n",
    "print(\"\\n✅ 所有分塊器評估完成！\")\n",
    "\n",
    "# 顯示包含所有結果的總結 DataFrame\n",
    "final_df = pd.DataFrame(results)\n",
    "print(\"=== 最終總結報告 ===\")\n",
    "display(final_df)"
   ]
  },
  {
   "cell_type": "code",
   "execution_count": null,
   "id": "e151fdc9",
   "metadata": {},
   "outputs": [],
   "source": []
  }
 ],
 "metadata": {
  "kernelspec": {
   "display_name": "rag",
   "language": "python",
   "name": "python3"
  },
  "language_info": {
   "codemirror_mode": {
    "name": "ipython",
    "version": 3
   },
   "file_extension": ".py",
   "mimetype": "text/x-python",
   "name": "python",
   "nbconvert_exporter": "python",
   "pygments_lexer": "ipython3",
   "version": "3.13.2"
  }
 },
 "nbformat": 4,
 "nbformat_minor": 5
}

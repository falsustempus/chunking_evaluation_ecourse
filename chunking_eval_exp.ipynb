{
 "cells": [
  {
   "cell_type": "markdown",
   "id": "9042abbb",
   "metadata": {},
   "source": [
    "## 0. Cuda Test"
   ]
  },
  {
   "cell_type": "code",
   "execution_count": 1,
   "id": "d3faab0f",
   "metadata": {},
   "outputs": [
    {
     "name": "stdout",
     "output_type": "stream",
     "text": [
      "Looking in indexes: https://download.pytorch.org/whl/cu118\n",
      "Requirement already satisfied: torch in c:\\users\\ifanglab\\anaconda3\\envs\\rag\\lib\\site-packages (2.7.0+cu118)\n",
      "Requirement already satisfied: torchvision in c:\\users\\ifanglab\\anaconda3\\envs\\rag\\lib\\site-packages (0.22.0)\n",
      "Requirement already satisfied: torchaudio in c:\\users\\ifanglab\\anaconda3\\envs\\rag\\lib\\site-packages (2.7.0+cu118)\n",
      "Requirement already satisfied: filelock in c:\\users\\ifanglab\\anaconda3\\envs\\rag\\lib\\site-packages (from torch) (3.13.1)\n",
      "Requirement already satisfied: typing-extensions>=4.10.0 in c:\\users\\ifanglab\\anaconda3\\envs\\rag\\lib\\site-packages (from torch) (4.12.2)\n",
      "Requirement already satisfied: sympy>=1.13.3 in c:\\users\\ifanglab\\anaconda3\\envs\\rag\\lib\\site-packages (from torch) (1.13.3)\n",
      "Requirement already satisfied: networkx in c:\\users\\ifanglab\\anaconda3\\envs\\rag\\lib\\site-packages (from torch) (3.4.2)\n",
      "Requirement already satisfied: jinja2 in c:\\users\\ifanglab\\anaconda3\\envs\\rag\\lib\\site-packages (from torch) (3.1.4)\n",
      "Requirement already satisfied: fsspec in c:\\users\\ifanglab\\anaconda3\\envs\\rag\\lib\\site-packages (from torch) (2024.6.1)\n",
      "Requirement already satisfied: setuptools in c:\\users\\ifanglab\\anaconda3\\envs\\rag\\lib\\site-packages (from torch) (78.1.1)\n",
      "Requirement already satisfied: numpy in c:\\users\\ifanglab\\anaconda3\\envs\\rag\\lib\\site-packages (from torchvision) (2.1.2)\n",
      "Requirement already satisfied: pillow!=8.3.*,>=5.3.0 in c:\\users\\ifanglab\\anaconda3\\envs\\rag\\lib\\site-packages (from torchvision) (11.0.0)\n",
      "Requirement already satisfied: mpmath<1.4,>=1.1.0 in c:\\users\\ifanglab\\anaconda3\\envs\\rag\\lib\\site-packages (from sympy>=1.13.3->torch) (1.3.0)\n",
      "Requirement already satisfied: MarkupSafe>=2.0 in c:\\users\\ifanglab\\anaconda3\\envs\\rag\\lib\\site-packages (from jinja2->torch) (2.1.5)\n",
      "Requirement already satisfied: numpy in c:\\users\\ifanglab\\anaconda3\\envs\\rag\\lib\\site-packages (2.1.2)\n",
      "Note: you may need to restart the kernel to use updated packages.\n"
     ]
    }
   ],
   "source": [
    "!pip3 install torch torchvision torchaudio --index-url https://download.pytorch.org/whl/cu118\n",
    "\n",
    "%pip install numpy"
   ]
  },
  {
   "cell_type": "code",
   "execution_count": 2,
   "id": "0208f8e1",
   "metadata": {},
   "outputs": [
    {
     "name": "stdout",
     "output_type": "stream",
     "text": [
      "2.7.0+cu118\n",
      "True\n",
      "2.3.1\n"
     ]
    }
   ],
   "source": [
    "import torch\n",
    "print(torch.__version__)\n",
    "print(torch.cuda.is_available())\n",
    "\n",
    "import numpy\n",
    "print(numpy.__version__)"
   ]
  },
  {
   "cell_type": "markdown",
   "id": "b8214685",
   "metadata": {},
   "source": [
    "## 1. Setup"
   ]
  },
  {
   "cell_type": "markdown",
   "id": "d2e91851",
   "metadata": {},
   "source": [
    "### 1.1 Install packages"
   ]
  },
  {
   "cell_type": "code",
   "execution_count": 3,
   "id": "67019860",
   "metadata": {},
   "outputs": [
    {
     "name": "stdout",
     "output_type": "stream",
     "text": [
      "Note: you may need to restart the kernel to use updated packages.\n",
      "Note: you may need to restart the kernel to use updated packages.\n",
      "Note: you may need to restart the kernel to use updated packages.\n",
      "Note: you may need to restart the kernel to use updated packages.\n",
      "Note: you may need to restart the kernel to use updated packages.\n"
     ]
    }
   ],
   "source": [
    "%pip install git+https://github.com/brandonstarxel/chunking_evaluation.git --quiet\n",
    "%pip install hf_xet --quiet\n",
    "%pip install bitsandbytes --quiet\n",
    "%pip install --upgrade transformers --quiet\n",
    "%pip install --upgrade chromadb --quiet"
   ]
  },
  {
   "cell_type": "markdown",
   "id": "bfff2969",
   "metadata": {},
   "source": [
    "### 1.2 Import Required Modules"
   ]
  },
  {
   "cell_type": "code",
   "execution_count": 4,
   "id": "d01aee84",
   "metadata": {},
   "outputs": [
    {
     "name": "stdout",
     "output_type": "stream",
     "text": [
      "已將專案根目錄 'd:\\ArtificialIntelligenceCustomerService\\code\\exp' 優先加入到 Python 模組搜尋路徑。\n"
     ]
    }
   ],
   "source": [
    "import os\n",
    "import sys\n",
    "\n",
    "# 取得目前筆記本檔案的絕對路徑\n",
    "notebook_path = os.path.abspath('chunking_exp.ipynb')\n",
    "\n",
    "# 取得筆記本所在的目錄（即專案根目錄）\n",
    "project_root = os.path.dirname(notebook_path)\n",
    "\n",
    "# 將專案根目錄（包含你的本地 chunking_evaluation 資料夾）\n",
    "# 插入到 sys.path 的最前面，確保優先載入本地版本\n",
    "sys.path.insert(0, project_root)\n",
    "print(f\"已將專案根目錄 '{project_root}' 優先加入到 Python 模組搜尋路徑。\")\n",
    "\n",
    "\n",
    "from chunking_evaluation.chunking import FixedTokenChunker, RecursiveTokenChunker\n",
    "from chunking_evaluation import GeneralEvaluation, SyntheticEvaluation\n",
    "from chunking_evaluation.utils import bge_m3_token_count, get_bge_m3_embedding_function\n",
    "from chunking_evaluation.evaluation_framework.general_evaluation_data.DatasetAnalyzer import DatasetAnalyzer\n",
    "import pandas as pd\n",
    "from IPython.display import display, clear_output\n",
    "import http.client\n",
    "import json\n"
   ]
  },
  {
   "cell_type": "markdown",
   "id": "8dff1647",
   "metadata": {},
   "source": [
    "### 1.3 Setup Embedding Function"
   ]
  },
  {
   "cell_type": "markdown",
   "id": "c7e9f8e5",
   "metadata": {},
   "source": [
    "## 2. Create Chunkers"
   ]
  },
  {
   "cell_type": "markdown",
   "id": "a3bad7fd",
   "metadata": {},
   "source": [
    "### 2.1 RecursiveTokenChunker & FixedTokenChunker"
   ]
  },
  {
   "cell_type": "code",
   "execution_count": 5,
   "id": "5b0aa7c7",
   "metadata": {},
   "outputs": [],
   "source": [
    "chunkers = [\n",
    "    # chunk_size = 512\n",
    "    RecursiveTokenChunker(chunk_size=512, chunk_overlap=50, length_function=bge_m3_token_count),\n",
    "    FixedTokenChunker(chunk_size=512, chunk_overlap=50),\n",
    "\n",
    "    RecursiveTokenChunker(chunk_size=512, chunk_overlap=100, length_function=bge_m3_token_count),\n",
    "    FixedTokenChunker(chunk_size=512, chunk_overlap=100),\n",
    "\n",
    "    RecursiveTokenChunker(chunk_size=512, chunk_overlap=150, length_function=bge_m3_token_count),\n",
    "    FixedTokenChunker(chunk_size=512, chunk_overlap=150),\n",
    "\n",
    "    RecursiveTokenChunker(chunk_size=512, chunk_overlap=200, length_function=bge_m3_token_count),\n",
    "    FixedTokenChunker(chunk_size=512, chunk_overlap=200),\n",
    "    '''\n",
    "    # chunk_size = 1024\n",
    "    RecursiveTokenChunker(chunk_size=1024, chunk_overlap=50, length_function=bge_m3_token_count),\n",
    "    FixedTokenChunker(chunk_size=1024, chunk_overlap=50),\n",
    "\n",
    "    RecursiveTokenChunker(chunk_size=1024, chunk_overlap=100, length_function=bge_m3_token_count),\n",
    "    FixedTokenChunker(chunk_size=1024, chunk_overlap=100),\n",
    "\n",
    "    RecursiveTokenChunker(chunk_size=1024, chunk_overlap=150, length_function=bge_m3_token_count),\n",
    "    FixedTokenChunker(chunk_size=1024, chunk_overlap=150),\n",
    "\n",
    "    RecursiveTokenChunker(chunk_size=1024, chunk_overlap=200, length_function=bge_m3_token_count),\n",
    "    FixedTokenChunker(chunk_size=1024, chunk_overlap=200),\n",
    "\n",
    "    # chunk_size = 2048\n",
    "    RecursiveTokenChunker(chunk_size=2048, chunk_overlap=50, length_function=bge_m3_token_count),\n",
    "    FixedTokenChunker(chunk_size=2048, chunk_overlap=50),\n",
    "\n",
    "    RecursiveTokenChunker(chunk_size=2048, chunk_overlap=100, length_function=bge_m3_token_count),\n",
    "    FixedTokenChunker(chunk_size=2048, chunk_overlap=100),\n",
    "\n",
    "    RecursiveTokenChunker(chunk_size=2048, chunk_overlap=150, length_function=bge_m3_token_count),\n",
    "    FixedTokenChunker(chunk_size=2048, chunk_overlap=150),\n",
    "\n",
    "    RecursiveTokenChunker(chunk_size=2048, chunk_overlap=200, length_function=bge_m3_token_count),\n",
    "    FixedTokenChunker(chunk_size=2048, chunk_overlap=200),\n",
    "\n",
    "    # chunk_size = 4096\n",
    "    RecursiveTokenChunker(chunk_size=4096, chunk_overlap=50, length_function=bge_m3_token_count),\n",
    "    FixedTokenChunker(chunk_size=4096, chunk_overlap=50),\n",
    "\n",
    "    RecursiveTokenChunker(chunk_size=4096, chunk_overlap=100, length_function=bge_m3_token_count),\n",
    "    FixedTokenChunker(chunk_size=4096, chunk_overlap=100),\n",
    "\n",
    "    RecursiveTokenChunker(chunk_size=4096, chunk_overlap=150, length_function=bge_m3_token_count),\n",
    "    FixedTokenChunker(chunk_size=4096, chunk_overlap=150),\n",
    "\n",
    "    RecursiveTokenChunker(chunk_size=4096, chunk_overlap=200, length_function=bge_m3_token_count),\n",
    "    FixedTokenChunker(chunk_size=4096, chunk_overlap=200),\n",
    "    '''\n",
    "]"
   ]
  },
  {
   "cell_type": "markdown",
   "id": "5df4b187",
   "metadata": {},
   "source": [
    "## 3. Prepare Corpora"
   ]
  },
  {
   "cell_type": "code",
   "execution_count": 6,
   "id": "02754655",
   "metadata": {},
   "outputs": [
    {
     "name": "stdout",
     "output_type": "stream",
     "text": [
      "跳過下載範例文本。\n"
     ]
    }
   ],
   "source": [
    "def download_text(book_id, file_name, directory):\n",
    "    conn = http.client.HTTPSConnection(\"www.gutenberg.org\")\n",
    "    url = f\"/files/{book_id}/{book_id}-0.txt\"\n",
    "\n",
    "    conn.request(\"GET\", url)\n",
    "    response = conn.getresponse()\n",
    "\n",
    "    if response.status == 200:\n",
    "        text = response.read().decode('utf-8')\n",
    "\n",
    "        # Create directory if it does not exist\n",
    "        os.makedirs(directory, exist_ok=True)\n",
    "\n",
    "        # Save the text to the specified file within the directory\n",
    "        file_path = os.path.join(directory, file_name)\n",
    "        with open(file_path, \"w\", encoding=\"utf-8\") as file:\n",
    "            file.write(text)\n",
    "        print(f\"Book '{file_name}' downloaded and saved successfully in '{directory}'.\")\n",
    "    else:\n",
    "        print(f\"Failed to download the book. Status code: {response.status}\")\n",
    "\n",
    "\n",
    "# Define the directory to save the books\n",
    "directory = \"corpora\"\n",
    "\n",
    "def download_example_texts(download=False, directory=\"./corpora\"):\n",
    "    if download:\n",
    "        books = {\n",
    "            1661: \"the_adventures_of_sherlock_holmes.txt\",\n",
    "            1342: \"pride_and_prejudice.txt\", \n",
    "            174: \"the_picture_of_dorian_gray.txt\"\n",
    "        }\n",
    "        print(\"開始下載範例文本...\")\n",
    "\n",
    "        for book_id, file_name in books.items():\n",
    "            try:\n",
    "                download_text(book_id, file_name, directory)\n",
    "                print(f\"✅ 成功下載: {file_name}\")\n",
    "            except Exception as e:\n",
    "                print(f\"❌ 下載失敗 {file_name}: {e}\")\n",
    "        \n",
    "        print(\"範例文本下載完成！\")\n",
    "    else:\n",
    "        print(\"跳過下載範例文本。\")\n",
    "\n",
    "download_example_texts(download=False)"
   ]
  },
  {
   "cell_type": "markdown",
   "id": "22d1aade",
   "metadata": {},
   "source": [
    "## 4. Initialize the Evaluation Environment"
   ]
  },
  {
   "cell_type": "code",
   "execution_count": 7,
   "id": "b202f570",
   "metadata": {},
   "outputs": [
    {
     "name": "stdout",
     "output_type": "stream",
     "text": [
      "✅ Backup file './chunking_evaluation/evaluation_framework/general_evaluation_data/generated_queries_and_excerpts_backup.csv' already exists.\n",
      "📖 Reading file paths from the backup file.\n",
      "\n",
      "✅ The file paths to be processed have been saved in corpora_paths_list\n",
      "📁 The generated queries will be saved to: ./chunking_evaluation/evaluation_framework/general_evaluation_data/generated_queries_and_excerpts.csv\n"
     ]
    }
   ],
   "source": [
    "import os\n",
    "import glob\n",
    "import pandas as pd\n",
    "from typing import List, Dict\n",
    "\n",
    "# Define your corpus folder path\n",
    "corpora_directory = \"./chunking_evaluation/evaluation_framework/general_evaluation_data/corpora\"\n",
    "# Define the path to check\n",
    "queries_backup_path = \"./chunking_evaluation/evaluation_framework/general_evaluation_data/generated_queries_and_excerpts_backup.csv\"\n",
    "# Define the target output path\n",
    "queries_csv_path = \"./chunking_evaluation/evaluation_framework/general_evaluation_data/generated_queries_and_excerpts.csv\"\n",
    "\n",
    "# --- Core logic modification ---\n",
    "corpora_paths_list = []\n",
    "\n",
    "# Check if the backup file exists\n",
    "if os.path.exists(queries_backup_path):\n",
    "    print(f\"✅ Backup file '{queries_backup_path}' already exists.\")\n",
    "    print(f\"📖 Reading file paths from the backup file.\")\n",
    "    \n",
    "    # Read the 'corpus_id' column from the CSV backup file\n",
    "    backup_df = pd.read_csv(queries_backup_path)\n",
    "    \n",
    "    # Standardize the paths and extract the unique list\n",
    "    corpora_paths_list = [os.path.normpath(path).replace('\\\\', '/') for path in backup_df['corpus_id'].unique()]\n",
    "else:\n",
    "    print(f\"🚧 Backup file '{queries_backup_path}' not found, starting sampling.\")\n",
    "\n",
    "    analyzer = DatasetAnalyzer(corpora_directory)\n",
    "    analyzer.analyze_folder()\n",
    "    analyzer.generate_report()\n",
    "    sample = analyzer.get_stratified_sample(100)\n",
    "\n",
    "    # Extract the file path list and ensure it's in a standardized format\n",
    "    corpora_paths_list = [os.path.normpath(file_info['file_path']).replace('\\\\', '/') for file_info in sample]\n",
    "\n",
    "    print(f\"\\n🎯 Stratified sampling complete, selected {len(sample)} files:\")\n",
    "    for i, file_info in enumerate(sample, 1):\n",
    "        print(f\"  {i:2d}. {file_info['category']} - {file_info['filename']}\")\n",
    "\n",
    "# --- Rest of the code remains the same ---\n",
    "print(f\"\\n✅ The file paths to be processed have been saved in corpora_paths_list\")\n",
    "print(f\"📁 The generated queries will be saved to: {queries_csv_path}\")"
   ]
  },
  {
   "cell_type": "markdown",
   "id": "4131bb11",
   "metadata": {},
   "source": [
    "## 5. Generate Queries and Excerpts"
   ]
  },
  {
   "cell_type": "markdown",
   "id": "179bc6ea",
   "metadata": {},
   "source": [
    "### 5.1 Memory manage"
   ]
  },
  {
   "cell_type": "code",
   "execution_count": 8,
   "id": "3d054b60",
   "metadata": {},
   "outputs": [
    {
     "name": "stdout",
     "output_type": "stream",
     "text": [
      "Note: you may need to restart the kernel to use updated packages.\n",
      "Note: you may need to restart the kernel to use updated packages.\n"
     ]
    }
   ],
   "source": [
    "%pip install --upgrade ipywidgets --quiet\n",
    "%pip install accelerate --quiet"
   ]
  },
  {
   "cell_type": "code",
   "execution_count": null,
   "id": "b3fb8e21",
   "metadata": {},
   "outputs": [
    {
     "name": "stdout",
     "output_type": "stream",
     "text": [
      "正在預估模型分佈...\n"
     ]
    },
    {
     "data": {
      "application/vnd.jupyter.widget-view+json": {
       "model_id": "523c4a38fcdb42d9a05707b05eedaab6",
       "version_major": 2,
       "version_minor": 0
      },
      "text/plain": [
       "Loading checkpoint shards:   0%|          | 0/4 [00:00<?, ?it/s]"
      ]
     },
     "metadata": {},
     "output_type": "display_data"
    },
    {
     "name": "stdout",
     "output_type": "stream",
     "text": [
      "根據 max_memory={0: '12GiB', 'cpu': '8GiB'} 預估裝置分佈中...\n",
      "預估的裝置分佈: OrderedDict({'model.embed_tokens': 0, 'model.layers.0': 0, 'model.layers.1': 0, 'model.layers.2': 0, 'model.layers.3': 0, 'model.layers.4': 0, 'model.layers.5': 0, 'model.layers.6': 0, 'model.layers.7': 0, 'model.layers.8': 0, 'model.layers.9': 0, 'model.layers.10': 0, 'model.layers.11': 0, 'model.layers.12': 0, 'model.layers.13': 0, 'model.layers.14': 0, 'model.layers.15': 0, 'model.layers.16': 0, 'model.layers.17': 0, 'model.layers.18': 0, 'model.layers.19': 0, 'model.layers.20': 0, 'model.layers.21': 0, 'model.layers.22': 0, 'model.layers.23': 0, 'model.layers.24': 'cpu', 'model.layers.25': 'cpu', 'model.layers.26': 'cpu', 'model.layers.27': 'cpu', 'model.layers.28': 'cpu', 'model.layers.29': 'cpu', 'model.layers.30': 'cpu', 'model.layers.31': 'cpu', 'model.norm': 'cpu', 'model.rotary_emb': 'cpu', 'lm_head': 'cpu'})\n",
      "正在載入 meta-llama/Llama-3.1-8B-Instruct 模型...\n"
     ]
    },
    {
     "data": {
      "application/vnd.jupyter.widget-view+json": {
       "model_id": "e89e37b1ccd8429a87a6ae8104ffb876",
       "version_major": 2,
       "version_minor": 0
      },
      "text/plain": [
       "Loading checkpoint shards:   0%|          | 0/4 [00:00<?, ?it/s]"
      ]
     },
     "metadata": {},
     "output_type": "display_data"
    },
    {
     "name": "stderr",
     "output_type": "stream",
     "text": [
      "Some parameters are on the meta device because they were offloaded to the cpu.\n"
     ]
    },
    {
     "name": "stdout",
     "output_type": "stream",
     "text": [
      "meta-llama/Llama-3.1-8B-Instruct 模型已成功載入到裝置: {'model.embed_tokens': 0, 'model.layers.0': 0, 'model.layers.1': 0, 'model.layers.2': 0, 'model.layers.3': 0, 'model.layers.4': 0, 'model.layers.5': 0, 'model.layers.6': 0, 'model.layers.7': 0, 'model.layers.8': 0, 'model.layers.9': 0, 'model.layers.10': 0, 'model.layers.11': 0, 'model.layers.12': 0, 'model.layers.13': 0, 'model.layers.14': 0, 'model.layers.15': 0, 'model.layers.16': 0, 'model.layers.17': 0, 'model.layers.18': 0, 'model.layers.19': 0, 'model.layers.20': 0, 'model.layers.21': 0, 'model.layers.22': 0, 'model.layers.23': 0, 'model.layers.24': 'cpu', 'model.layers.25': 'cpu', 'model.layers.26': 'cpu', 'model.layers.27': 'cpu', 'model.layers.28': 'cpu', 'model.layers.29': 'cpu', 'model.layers.30': 'cpu', 'model.layers.31': 'cpu', 'model.norm': 'cpu', 'model.rotary_emb': 'cpu', 'lm_head': 'cpu'}\n",
      "corpora_paths_list: ['chunking_evaluation/evaluation_framework/general_evaluation_data/corpora/113_2_通識教育中心_能源科技與生活[206006]_翁俊仁.html', 'chunking_evaluation/evaluation_framework/general_evaluation_data/corpora/113_2_通識教育中心_實用情境韓文[106221]_尹遠菱.html', 'chunking_evaluation/evaluation_framework/general_evaluation_data/corpora/113_2_通識教育中心_生死學[106187]_蔡昆宏.html', 'chunking_evaluation/evaluation_framework/general_evaluation_data/corpora/113_2_通識教育中心_儲能科技與生活[106203]_黃建中.html', 'chunking_evaluation/evaluation_framework/general_evaluation_data/corpora/113_2_通識教育中心_音樂與人生[106134]_黃琡珺.html', 'chunking_evaluation/evaluation_framework/general_evaluation_data/corpora/113_2_通識教育中心_環境與生態[106170]_吳貞宜.html', 'chunking_evaluation/evaluation_framework/general_evaluation_data/corpora/113_2_國語文學系_史記(二)[122109]_張惠貞.html', 'chunking_evaluation/evaluation_framework/general_evaluation_data/corpora/113_2_國語文學系_詞曲選(二)[122091]_林慧真.html', 'chunking_evaluation/evaluation_framework/general_evaluation_data/corpora/113_2_國語文學系_中國文學史(二)[122079]_王琅.html', 'chunking_evaluation/evaluation_framework/general_evaluation_data/corpora/113_2_教育學系_資料科學在教育上的應用[112173]_林娟如.html', 'chunking_evaluation/evaluation_framework/general_evaluation_data/corpora/113_2_教育學系_教學設計與發展[112157]_鄭進斛.html', 'chunking_evaluation/evaluation_framework/general_evaluation_data/corpora/113_2_教育學系_教學原理[112137]_郭杏珠.html', 'chunking_evaluation/evaluation_framework/general_evaluation_data/corpora/113_2_教育學系_教育哲學[112148]_許誌庭.html', 'chunking_evaluation/evaluation_framework/general_evaluation_data/corpora/113_2_師資培育中心_資訊倫理與教學[107024]_黃品甄.html', 'chunking_evaluation/evaluation_framework/general_evaluation_data/corpora/113_2_師資培育中心_適性教學[107021]_王光宗.html', 'chunking_evaluation/evaluation_framework/general_evaluation_data/corpora/113_2_師資培育中心_閱讀教育[107005]_陳光明.html', 'chunking_evaluation/evaluation_framework/general_evaluation_data/corpora/113_2_師資培育中心_主題式教學與實務[107036]_黃俊傑.html', 'chunking_evaluation/evaluation_framework/general_evaluation_data/corpora/113_2_英語學系_英語加強班(研究所)[127095]_郭馨嬪.html', 'chunking_evaluation/evaluation_framework/general_evaluation_data/corpora/113_2_英語學系_構詞學[127069]_熊慧如.html', 'chunking_evaluation/evaluation_framework/general_evaluation_data/corpora/113_2_英語學系_商用文書[127079]_郭馨嬪.html', 'chunking_evaluation/evaluation_framework/general_evaluation_data/corpora/113_2_英語學系_英語加強班(大學)[127097]_夏幼川.html', 'chunking_evaluation/evaluation_framework/general_evaluation_data/corpora/113_2_特殊教育學系_聽覺障礙[140064]_李芃娟.html', 'chunking_evaluation/evaluation_framework/general_evaluation_data/corpora/113_2_特殊教育學系_領導才能教育[140096]_陳英豪.html', 'chunking_evaluation/evaluation_framework/general_evaluation_data/corpora/113_2_特殊教育學系_專題研究(1)[140077]_林慶仁林千玉.html', 'chunking_evaluation/evaluation_framework/general_evaluation_data/corpora/113_2_視覺藝術與設計學系_電腦繪圖（二）[191074]_李香蓮.html', 'chunking_evaluation/evaluation_framework/general_evaluation_data/corpora/113_2_視覺藝術與設計學系_畢業製作(二)[191081]_范如菀.html', 'chunking_evaluation/evaluation_framework/general_evaluation_data/corpora/113_2_視覺藝術與設計學系_水墨名作研析(二)[191084]_紀冠地.html', 'chunking_evaluation/evaluation_framework/general_evaluation_data/corpora/113_2_體育學系_專長訓練A(籃球)[113074]_彭小惠.html', 'chunking_evaluation/evaluation_framework/general_evaluation_data/corpora/113_2_體育學系_運動行銷學[113091]_黃志佳.html', 'chunking_evaluation/evaluation_framework/general_evaluation_data/corpora/113_2_體育學系_桌球[113062]_張碩文.html', 'chunking_evaluation/evaluation_framework/general_evaluation_data/corpora/113_2_綠色能源科技學系_能源專題研究(二)[183061]_蔡孟哲.html', 'chunking_evaluation/evaluation_framework/general_evaluation_data/corpora/113_2_綠色能源科技學系_能源概論[183062]_劉世鈞.html', 'chunking_evaluation/evaluation_framework/general_evaluation_data/corpora/113_2_電機工程學系_畢業專題 (二)[182087]_陳居毓.html', 'chunking_evaluation/evaluation_framework/general_evaluation_data/corpora/113_2_文化與自然資源學系_專題研究(二)[134058]_陳一峰.html', 'chunking_evaluation/evaluation_framework/general_evaluation_data/corpora/113_2_文化與自然資源學系_西洋通史[134055]_蔡米虹.html', 'chunking_evaluation/evaluation_framework/general_evaluation_data/corpora/113_2_資訊工程學系_軟體專案規劃[159065]_李健興.html', 'chunking_evaluation/evaluation_framework/general_evaluation_data/corpora/113_2_資訊工程學系_雲端計算[159068]_蘇溢芳.html', 'chunking_evaluation/evaluation_framework/general_evaluation_data/corpora/113_2_數位學習科技學系_創意思考與設計方法[155079]_莊宗嚴.html', 'chunking_evaluation/evaluation_framework/general_evaluation_data/corpora/113_2_數位學習科技學系_學習理論[155063]_伍柏翰.html', 'chunking_evaluation/evaluation_framework/general_evaluation_data/corpora/113_2_生態暨環境資源學系_昆蟲學[156078]_黃文伯.html', 'chunking_evaluation/evaluation_framework/general_evaluation_data/corpora/113_2_生態暨環境資源學系_戶外生態調查安全與風險管理[156061]_許皓捷.html', 'chunking_evaluation/evaluation_framework/general_evaluation_data/corpora/113_2_音樂學系_音樂教學法(二)[164401]_沈昕.html', 'chunking_evaluation/evaluation_framework/general_evaluation_data/corpora/113_2_音樂學系_聲樂作品研究(二)[164391]_朱芸宜.html', 'chunking_evaluation/evaluation_framework/general_evaluation_data/corpora/113_2_材料科學系_普通物理學(二)[167045]_蒲盈志.html', 'chunking_evaluation/evaluation_framework/general_evaluation_data/corpora/113_2_材料科學系_計算材料科學[167066]_鄭永楨.html', 'chunking_evaluation/evaluation_framework/general_evaluation_data/corpora/113_2_幼兒教育學系_幼兒園教保實習II[170047]_林聖曦.html', 'chunking_evaluation/evaluation_framework/general_evaluation_data/corpora/113_2_幼兒教育學系_幼兒園教材教法II[170046]_翟敏如.html', 'chunking_evaluation/evaluation_framework/general_evaluation_data/corpora/113_2_生物科技學系_免疫學[158054]_張翠玲.html', 'chunking_evaluation/evaluation_framework/general_evaluation_data/corpora/113_2_生物科技學系_酵素學[158065]_張德生.html', 'chunking_evaluation/evaluation_framework/general_evaluation_data/corpora/113_2_綠色能源科技學系(進修學士班)_工程數學(二)[283008]_卜一宇.html', 'chunking_evaluation/evaluation_framework/general_evaluation_data/corpora/113_2_綠色能源科技學系(進修學士班)_電路學(二)[283019]_許正良.html', 'chunking_evaluation/evaluation_framework/general_evaluation_data/corpora/113_2_諮商與輔導學系_專題研究(一)[128073]_陳志賢.html', 'chunking_evaluation/evaluation_framework/general_evaluation_data/corpora/113_2_戲劇創作與應用學系_亞洲現當代劇場[172066]_林偉瑜.html', 'chunking_evaluation/evaluation_framework/general_evaluation_data/corpora/113_2_戲劇創作與應用學系_表演(二)[172061]_厲復平.html', 'chunking_evaluation/evaluation_framework/general_evaluation_data/corpora/113_2_行政管理學系_人力資源管理[132050]_李芸蘋.html', 'chunking_evaluation/evaluation_framework/general_evaluation_data/corpora/113_2_行政管理學系_人力資源與組織發展[132058]_林桐銘.html', 'chunking_evaluation/evaluation_framework/general_evaluation_data/corpora/113_2_英語學系(進修學士班)_語意學導論[227008]_康雅禎.html', 'chunking_evaluation/evaluation_framework/general_evaluation_data/corpora/113_2_應用數學系_獨立研究[150044]_黃建中.html', 'chunking_evaluation/evaluation_framework/general_evaluation_data/corpora/113_2_經營與管理學系_經濟學(二)[125037]_阮俊陽.html', 'chunking_evaluation/evaluation_framework/general_evaluation_data/corpora/113_2_電機工程學系碩士班_生醫感測器信號處理晶片設計[182062]_黃俊岳.html', 'chunking_evaluation/evaluation_framework/general_evaluation_data/corpora/113_2_音樂學系碩士班_音樂教育心理學[164374]_黃靜芳.html', 'chunking_evaluation/evaluation_framework/general_evaluation_data/corpora/113_2_諮商與輔導學系碩士班_遊戲治療理論與實務[128044]_李岳庭.html', 'chunking_evaluation/evaluation_framework/general_evaluation_data/corpora/113_2_生態暨環境資源學系碩士班_書報討論(四)[156047]_陳韋妤陳瀅世.html', 'chunking_evaluation/evaluation_framework/general_evaluation_data/corpora/113_2_綠色能源科技學系碩士班_書報討論(二)[183040]_丁顥.html', 'chunking_evaluation/evaluation_framework/general_evaluation_data/corpora/113_2_視覺藝術與設計學系視覺藝術碩士班_藝術創作與田野研究[191067]_洪明爵.html', 'chunking_evaluation/evaluation_framework/general_evaluation_data/corpora/113_2_數位學習科技學系碩士班_數位影像處理[155046]_林信志.html', 'chunking_evaluation/evaluation_framework/general_evaluation_data/corpora/113_2_材料科學系碩士班_材料研究技術[167039]_莊陽德.html', 'chunking_evaluation/evaluation_framework/general_evaluation_data/corpora/113_2_體育學系碩士班_體育研究法[113057]_彭小惠.html', 'chunking_evaluation/evaluation_framework/general_evaluation_data/corpora/113_2_國語文學系國語文教學與應用碩士班_民間文學專題研究(二)[122067]_林登順.html', 'chunking_evaluation/evaluation_framework/general_evaluation_data/corpora/113_2_戲劇創作與應用學系碩士班_行動研究[172045]_林玫君蔡依仁林偉瑜.html', 'chunking_evaluation/evaluation_framework/general_evaluation_data/corpora/113_2_生物科技學系碩士班_高等生物化學[158037]_曾登裕.html', 'chunking_evaluation/evaluation_framework/general_evaluation_data/corpora/113_2_行政管理學系碩士班_行政法專題[132037]_蕭妙香.html', 'chunking_evaluation/evaluation_framework/general_evaluation_data/corpora/113_2_音樂學系碩士在職專班(夜)_臺灣音樂與文化[264303]_施金農.html', 'chunking_evaluation/evaluation_framework/general_evaluation_data/corpora/113_2_幼兒教育學系碩士在職專班(夜)_幼兒社會與情緒教學研究[270006]_翟敏如.html', 'chunking_evaluation/evaluation_framework/general_evaluation_data/corpora/113_2_應用數學系碩士班_偏微分方程[150058]_黃彥彰.html', 'chunking_evaluation/evaluation_framework/general_evaluation_data/corpora/113_2_教育學系課程與教學教學碩士班(假日)_媒體教育研究[112106]_蘇建元.html', 'chunking_evaluation/evaluation_framework/general_evaluation_data/corpora/113_2_理工學院智慧製造碩士在職學位學程_物聯網系統控制[280004]_白富升.html', 'chunking_evaluation/evaluation_framework/general_evaluation_data/corpora/113_2_經營與管理學系科技管理碩士在職專班(夜)_財務管理[225001]_曹瓊文林櫻蓮.html', 'chunking_evaluation/evaluation_framework/general_evaluation_data/corpora/113_2_經營與管理學系科技管理碩士班_國際行銷管理研討[125032]_葉耕榕.html', 'chunking_evaluation/evaluation_framework/general_evaluation_data/corpora/113_2_綠色能源科技學系碩士在職專班(夜)_科技論文寫作[283031]_卜一宇.html', 'chunking_evaluation/evaluation_framework/general_evaluation_data/corpora/113_2_行政管理學系碩士在職專班(夜)_人力資源管理專題[232004]_李芸蘋.html', 'chunking_evaluation/evaluation_framework/general_evaluation_data/corpora/113_2_體育學系碩士在職專班(夜)_質性研究[213004]_陳耀宏.html', 'chunking_evaluation/evaluation_framework/general_evaluation_data/corpora/113_2_教育學系教育經營與管理碩士班_教育政策與批判研究[112122]_曾燦燈.html', 'chunking_evaluation/evaluation_framework/general_evaluation_data/corpora/113_2_教育學系課程與教學碩士班_教學評量研究[112099]_徐立真.html', 'chunking_evaluation/evaluation_framework/general_evaluation_data/corpora/113_2_經營與管理學系高階管理碩士在職專班(夜)_企業實務講座(四)[225006]_曾憲立.html', 'chunking_evaluation/evaluation_framework/general_evaluation_data/corpora/113_2_視覺藝術與設計學系碩士在職專班(夜)_影像藝術專題研究[291003]_范如菀.html', 'chunking_evaluation/evaluation_framework/general_evaluation_data/corpora/113_2_幼兒教育學系碩士班_幼兒發展理論[170031]_張麗芬.html', 'chunking_evaluation/evaluation_framework/general_evaluation_data/corpora/113_2_應用數學系碩士在職專班(夜)_財務數學[250004]_葉宗鑫.html', 'chunking_evaluation/evaluation_framework/general_evaluation_data/corpora/113_2_教育學系教學科技碩士班_專題研討(二)[112110]_歐陽誾.html', 'chunking_evaluation/evaluation_framework/general_evaluation_data/corpora/113_2_教育學系教育行政碩士在職專班(夜)_組織創新與變革管理研究[212004]_張正平.html']\n",
      "Corpora ID Paths: {'113_2_通識教育中心_能源科技與生活[206006]_翁俊仁': 'chunking_evaluation/evaluation_framework/general_evaluation_data/corpora/113_2_通識教育中心_能源科技與生活[206006]_翁俊仁.html', '113_2_通識教育中心_實用情境韓文[106221]_尹遠菱': 'chunking_evaluation/evaluation_framework/general_evaluation_data/corpora/113_2_通識教育中心_實用情境韓文[106221]_尹遠菱.html', '113_2_通識教育中心_生死學[106187]_蔡昆宏': 'chunking_evaluation/evaluation_framework/general_evaluation_data/corpora/113_2_通識教育中心_生死學[106187]_蔡昆宏.html', '113_2_通識教育中心_儲能科技與生活[106203]_黃建中': 'chunking_evaluation/evaluation_framework/general_evaluation_data/corpora/113_2_通識教育中心_儲能科技與生活[106203]_黃建中.html', '113_2_通識教育中心_音樂與人生[106134]_黃琡珺': 'chunking_evaluation/evaluation_framework/general_evaluation_data/corpora/113_2_通識教育中心_音樂與人生[106134]_黃琡珺.html', '113_2_通識教育中心_環境與生態[106170]_吳貞宜': 'chunking_evaluation/evaluation_framework/general_evaluation_data/corpora/113_2_通識教育中心_環境與生態[106170]_吳貞宜.html', '113_2_國語文學系_史記(二)[122109]_張惠貞': 'chunking_evaluation/evaluation_framework/general_evaluation_data/corpora/113_2_國語文學系_史記(二)[122109]_張惠貞.html', '113_2_國語文學系_詞曲選(二)[122091]_林慧真': 'chunking_evaluation/evaluation_framework/general_evaluation_data/corpora/113_2_國語文學系_詞曲選(二)[122091]_林慧真.html', '113_2_國語文學系_中國文學史(二)[122079]_王琅': 'chunking_evaluation/evaluation_framework/general_evaluation_data/corpora/113_2_國語文學系_中國文學史(二)[122079]_王琅.html', '113_2_教育學系_資料科學在教育上的應用[112173]_林娟如': 'chunking_evaluation/evaluation_framework/general_evaluation_data/corpora/113_2_教育學系_資料科學在教育上的應用[112173]_林娟如.html', '113_2_教育學系_教學設計與發展[112157]_鄭進斛': 'chunking_evaluation/evaluation_framework/general_evaluation_data/corpora/113_2_教育學系_教學設計與發展[112157]_鄭進斛.html', '113_2_教育學系_教學原理[112137]_郭杏珠': 'chunking_evaluation/evaluation_framework/general_evaluation_data/corpora/113_2_教育學系_教學原理[112137]_郭杏珠.html', '113_2_教育學系_教育哲學[112148]_許誌庭': 'chunking_evaluation/evaluation_framework/general_evaluation_data/corpora/113_2_教育學系_教育哲學[112148]_許誌庭.html', '113_2_師資培育中心_資訊倫理與教學[107024]_黃品甄': 'chunking_evaluation/evaluation_framework/general_evaluation_data/corpora/113_2_師資培育中心_資訊倫理與教學[107024]_黃品甄.html', '113_2_師資培育中心_適性教學[107021]_王光宗': 'chunking_evaluation/evaluation_framework/general_evaluation_data/corpora/113_2_師資培育中心_適性教學[107021]_王光宗.html', '113_2_師資培育中心_閱讀教育[107005]_陳光明': 'chunking_evaluation/evaluation_framework/general_evaluation_data/corpora/113_2_師資培育中心_閱讀教育[107005]_陳光明.html', '113_2_師資培育中心_主題式教學與實務[107036]_黃俊傑': 'chunking_evaluation/evaluation_framework/general_evaluation_data/corpora/113_2_師資培育中心_主題式教學與實務[107036]_黃俊傑.html', '113_2_英語學系_英語加強班(研究所)[127095]_郭馨嬪': 'chunking_evaluation/evaluation_framework/general_evaluation_data/corpora/113_2_英語學系_英語加強班(研究所)[127095]_郭馨嬪.html', '113_2_英語學系_構詞學[127069]_熊慧如': 'chunking_evaluation/evaluation_framework/general_evaluation_data/corpora/113_2_英語學系_構詞學[127069]_熊慧如.html', '113_2_英語學系_商用文書[127079]_郭馨嬪': 'chunking_evaluation/evaluation_framework/general_evaluation_data/corpora/113_2_英語學系_商用文書[127079]_郭馨嬪.html', '113_2_英語學系_英語加強班(大學)[127097]_夏幼川': 'chunking_evaluation/evaluation_framework/general_evaluation_data/corpora/113_2_英語學系_英語加強班(大學)[127097]_夏幼川.html', '113_2_特殊教育學系_聽覺障礙[140064]_李芃娟': 'chunking_evaluation/evaluation_framework/general_evaluation_data/corpora/113_2_特殊教育學系_聽覺障礙[140064]_李芃娟.html', '113_2_特殊教育學系_領導才能教育[140096]_陳英豪': 'chunking_evaluation/evaluation_framework/general_evaluation_data/corpora/113_2_特殊教育學系_領導才能教育[140096]_陳英豪.html', '113_2_特殊教育學系_專題研究(1)[140077]_林慶仁林千玉': 'chunking_evaluation/evaluation_framework/general_evaluation_data/corpora/113_2_特殊教育學系_專題研究(1)[140077]_林慶仁林千玉.html', '113_2_視覺藝術與設計學系_電腦繪圖（二）[191074]_李香蓮': 'chunking_evaluation/evaluation_framework/general_evaluation_data/corpora/113_2_視覺藝術與設計學系_電腦繪圖（二）[191074]_李香蓮.html', '113_2_視覺藝術與設計學系_畢業製作(二)[191081]_范如菀': 'chunking_evaluation/evaluation_framework/general_evaluation_data/corpora/113_2_視覺藝術與設計學系_畢業製作(二)[191081]_范如菀.html', '113_2_視覺藝術與設計學系_水墨名作研析(二)[191084]_紀冠地': 'chunking_evaluation/evaluation_framework/general_evaluation_data/corpora/113_2_視覺藝術與設計學系_水墨名作研析(二)[191084]_紀冠地.html', '113_2_體育學系_專長訓練A(籃球)[113074]_彭小惠': 'chunking_evaluation/evaluation_framework/general_evaluation_data/corpora/113_2_體育學系_專長訓練A(籃球)[113074]_彭小惠.html', '113_2_體育學系_運動行銷學[113091]_黃志佳': 'chunking_evaluation/evaluation_framework/general_evaluation_data/corpora/113_2_體育學系_運動行銷學[113091]_黃志佳.html', '113_2_體育學系_桌球[113062]_張碩文': 'chunking_evaluation/evaluation_framework/general_evaluation_data/corpora/113_2_體育學系_桌球[113062]_張碩文.html', '113_2_綠色能源科技學系_能源專題研究(二)[183061]_蔡孟哲': 'chunking_evaluation/evaluation_framework/general_evaluation_data/corpora/113_2_綠色能源科技學系_能源專題研究(二)[183061]_蔡孟哲.html', '113_2_綠色能源科技學系_能源概論[183062]_劉世鈞': 'chunking_evaluation/evaluation_framework/general_evaluation_data/corpora/113_2_綠色能源科技學系_能源概論[183062]_劉世鈞.html', '113_2_電機工程學系_畢業專題 (二)[182087]_陳居毓': 'chunking_evaluation/evaluation_framework/general_evaluation_data/corpora/113_2_電機工程學系_畢業專題 (二)[182087]_陳居毓.html', '113_2_文化與自然資源學系_專題研究(二)[134058]_陳一峰': 'chunking_evaluation/evaluation_framework/general_evaluation_data/corpora/113_2_文化與自然資源學系_專題研究(二)[134058]_陳一峰.html', '113_2_文化與自然資源學系_西洋通史[134055]_蔡米虹': 'chunking_evaluation/evaluation_framework/general_evaluation_data/corpora/113_2_文化與自然資源學系_西洋通史[134055]_蔡米虹.html', '113_2_資訊工程學系_軟體專案規劃[159065]_李健興': 'chunking_evaluation/evaluation_framework/general_evaluation_data/corpora/113_2_資訊工程學系_軟體專案規劃[159065]_李健興.html', '113_2_資訊工程學系_雲端計算[159068]_蘇溢芳': 'chunking_evaluation/evaluation_framework/general_evaluation_data/corpora/113_2_資訊工程學系_雲端計算[159068]_蘇溢芳.html', '113_2_數位學習科技學系_創意思考與設計方法[155079]_莊宗嚴': 'chunking_evaluation/evaluation_framework/general_evaluation_data/corpora/113_2_數位學習科技學系_創意思考與設計方法[155079]_莊宗嚴.html', '113_2_數位學習科技學系_學習理論[155063]_伍柏翰': 'chunking_evaluation/evaluation_framework/general_evaluation_data/corpora/113_2_數位學習科技學系_學習理論[155063]_伍柏翰.html', '113_2_生態暨環境資源學系_昆蟲學[156078]_黃文伯': 'chunking_evaluation/evaluation_framework/general_evaluation_data/corpora/113_2_生態暨環境資源學系_昆蟲學[156078]_黃文伯.html', '113_2_生態暨環境資源學系_戶外生態調查安全與風險管理[156061]_許皓捷': 'chunking_evaluation/evaluation_framework/general_evaluation_data/corpora/113_2_生態暨環境資源學系_戶外生態調查安全與風險管理[156061]_許皓捷.html', '113_2_音樂學系_音樂教學法(二)[164401]_沈昕': 'chunking_evaluation/evaluation_framework/general_evaluation_data/corpora/113_2_音樂學系_音樂教學法(二)[164401]_沈昕.html', '113_2_音樂學系_聲樂作品研究(二)[164391]_朱芸宜': 'chunking_evaluation/evaluation_framework/general_evaluation_data/corpora/113_2_音樂學系_聲樂作品研究(二)[164391]_朱芸宜.html', '113_2_材料科學系_普通物理學(二)[167045]_蒲盈志': 'chunking_evaluation/evaluation_framework/general_evaluation_data/corpora/113_2_材料科學系_普通物理學(二)[167045]_蒲盈志.html', '113_2_材料科學系_計算材料科學[167066]_鄭永楨': 'chunking_evaluation/evaluation_framework/general_evaluation_data/corpora/113_2_材料科學系_計算材料科學[167066]_鄭永楨.html', '113_2_幼兒教育學系_幼兒園教保實習II[170047]_林聖曦': 'chunking_evaluation/evaluation_framework/general_evaluation_data/corpora/113_2_幼兒教育學系_幼兒園教保實習II[170047]_林聖曦.html', '113_2_幼兒教育學系_幼兒園教材教法II[170046]_翟敏如': 'chunking_evaluation/evaluation_framework/general_evaluation_data/corpora/113_2_幼兒教育學系_幼兒園教材教法II[170046]_翟敏如.html', '113_2_生物科技學系_免疫學[158054]_張翠玲': 'chunking_evaluation/evaluation_framework/general_evaluation_data/corpora/113_2_生物科技學系_免疫學[158054]_張翠玲.html', '113_2_生物科技學系_酵素學[158065]_張德生': 'chunking_evaluation/evaluation_framework/general_evaluation_data/corpora/113_2_生物科技學系_酵素學[158065]_張德生.html', '113_2_綠色能源科技學系(進修學士班)_工程數學(二)[283008]_卜一宇': 'chunking_evaluation/evaluation_framework/general_evaluation_data/corpora/113_2_綠色能源科技學系(進修學士班)_工程數學(二)[283008]_卜一宇.html', '113_2_綠色能源科技學系(進修學士班)_電路學(二)[283019]_許正良': 'chunking_evaluation/evaluation_framework/general_evaluation_data/corpora/113_2_綠色能源科技學系(進修學士班)_電路學(二)[283019]_許正良.html', '113_2_諮商與輔導學系_專題研究(一)[128073]_陳志賢': 'chunking_evaluation/evaluation_framework/general_evaluation_data/corpora/113_2_諮商與輔導學系_專題研究(一)[128073]_陳志賢.html', '113_2_戲劇創作與應用學系_亞洲現當代劇場[172066]_林偉瑜': 'chunking_evaluation/evaluation_framework/general_evaluation_data/corpora/113_2_戲劇創作與應用學系_亞洲現當代劇場[172066]_林偉瑜.html', '113_2_戲劇創作與應用學系_表演(二)[172061]_厲復平': 'chunking_evaluation/evaluation_framework/general_evaluation_data/corpora/113_2_戲劇創作與應用學系_表演(二)[172061]_厲復平.html', '113_2_行政管理學系_人力資源管理[132050]_李芸蘋': 'chunking_evaluation/evaluation_framework/general_evaluation_data/corpora/113_2_行政管理學系_人力資源管理[132050]_李芸蘋.html', '113_2_行政管理學系_人力資源與組織發展[132058]_林桐銘': 'chunking_evaluation/evaluation_framework/general_evaluation_data/corpora/113_2_行政管理學系_人力資源與組織發展[132058]_林桐銘.html', '113_2_英語學系(進修學士班)_語意學導論[227008]_康雅禎': 'chunking_evaluation/evaluation_framework/general_evaluation_data/corpora/113_2_英語學系(進修學士班)_語意學導論[227008]_康雅禎.html', '113_2_應用數學系_獨立研究[150044]_黃建中': 'chunking_evaluation/evaluation_framework/general_evaluation_data/corpora/113_2_應用數學系_獨立研究[150044]_黃建中.html', '113_2_經營與管理學系_經濟學(二)[125037]_阮俊陽': 'chunking_evaluation/evaluation_framework/general_evaluation_data/corpora/113_2_經營與管理學系_經濟學(二)[125037]_阮俊陽.html', '113_2_電機工程學系碩士班_生醫感測器信號處理晶片設計[182062]_黃俊岳': 'chunking_evaluation/evaluation_framework/general_evaluation_data/corpora/113_2_電機工程學系碩士班_生醫感測器信號處理晶片設計[182062]_黃俊岳.html', '113_2_音樂學系碩士班_音樂教育心理學[164374]_黃靜芳': 'chunking_evaluation/evaluation_framework/general_evaluation_data/corpora/113_2_音樂學系碩士班_音樂教育心理學[164374]_黃靜芳.html', '113_2_諮商與輔導學系碩士班_遊戲治療理論與實務[128044]_李岳庭': 'chunking_evaluation/evaluation_framework/general_evaluation_data/corpora/113_2_諮商與輔導學系碩士班_遊戲治療理論與實務[128044]_李岳庭.html', '113_2_生態暨環境資源學系碩士班_書報討論(四)[156047]_陳韋妤陳瀅世': 'chunking_evaluation/evaluation_framework/general_evaluation_data/corpora/113_2_生態暨環境資源學系碩士班_書報討論(四)[156047]_陳韋妤陳瀅世.html', '113_2_綠色能源科技學系碩士班_書報討論(二)[183040]_丁顥': 'chunking_evaluation/evaluation_framework/general_evaluation_data/corpora/113_2_綠色能源科技學系碩士班_書報討論(二)[183040]_丁顥.html', '113_2_視覺藝術與設計學系視覺藝術碩士班_藝術創作與田野研究[191067]_洪明爵': 'chunking_evaluation/evaluation_framework/general_evaluation_data/corpora/113_2_視覺藝術與設計學系視覺藝術碩士班_藝術創作與田野研究[191067]_洪明爵.html', '113_2_數位學習科技學系碩士班_數位影像處理[155046]_林信志': 'chunking_evaluation/evaluation_framework/general_evaluation_data/corpora/113_2_數位學習科技學系碩士班_數位影像處理[155046]_林信志.html', '113_2_材料科學系碩士班_材料研究技術[167039]_莊陽德': 'chunking_evaluation/evaluation_framework/general_evaluation_data/corpora/113_2_材料科學系碩士班_材料研究技術[167039]_莊陽德.html', '113_2_體育學系碩士班_體育研究法[113057]_彭小惠': 'chunking_evaluation/evaluation_framework/general_evaluation_data/corpora/113_2_體育學系碩士班_體育研究法[113057]_彭小惠.html', '113_2_國語文學系國語文教學與應用碩士班_民間文學專題研究(二)[122067]_林登順': 'chunking_evaluation/evaluation_framework/general_evaluation_data/corpora/113_2_國語文學系國語文教學與應用碩士班_民間文學專題研究(二)[122067]_林登順.html', '113_2_戲劇創作與應用學系碩士班_行動研究[172045]_林玫君蔡依仁林偉瑜': 'chunking_evaluation/evaluation_framework/general_evaluation_data/corpora/113_2_戲劇創作與應用學系碩士班_行動研究[172045]_林玫君蔡依仁林偉瑜.html', '113_2_生物科技學系碩士班_高等生物化學[158037]_曾登裕': 'chunking_evaluation/evaluation_framework/general_evaluation_data/corpora/113_2_生物科技學系碩士班_高等生物化學[158037]_曾登裕.html', '113_2_行政管理學系碩士班_行政法專題[132037]_蕭妙香': 'chunking_evaluation/evaluation_framework/general_evaluation_data/corpora/113_2_行政管理學系碩士班_行政法專題[132037]_蕭妙香.html', '113_2_音樂學系碩士在職專班(夜)_臺灣音樂與文化[264303]_施金農': 'chunking_evaluation/evaluation_framework/general_evaluation_data/corpora/113_2_音樂學系碩士在職專班(夜)_臺灣音樂與文化[264303]_施金農.html', '113_2_幼兒教育學系碩士在職專班(夜)_幼兒社會與情緒教學研究[270006]_翟敏如': 'chunking_evaluation/evaluation_framework/general_evaluation_data/corpora/113_2_幼兒教育學系碩士在職專班(夜)_幼兒社會與情緒教學研究[270006]_翟敏如.html', '113_2_應用數學系碩士班_偏微分方程[150058]_黃彥彰': 'chunking_evaluation/evaluation_framework/general_evaluation_data/corpora/113_2_應用數學系碩士班_偏微分方程[150058]_黃彥彰.html', '113_2_教育學系課程與教學教學碩士班(假日)_媒體教育研究[112106]_蘇建元': 'chunking_evaluation/evaluation_framework/general_evaluation_data/corpora/113_2_教育學系課程與教學教學碩士班(假日)_媒體教育研究[112106]_蘇建元.html', '113_2_理工學院智慧製造碩士在職學位學程_物聯網系統控制[280004]_白富升': 'chunking_evaluation/evaluation_framework/general_evaluation_data/corpora/113_2_理工學院智慧製造碩士在職學位學程_物聯網系統控制[280004]_白富升.html', '113_2_經營與管理學系科技管理碩士在職專班(夜)_財務管理[225001]_曹瓊文林櫻蓮': 'chunking_evaluation/evaluation_framework/general_evaluation_data/corpora/113_2_經營與管理學系科技管理碩士在職專班(夜)_財務管理[225001]_曹瓊文林櫻蓮.html', '113_2_經營與管理學系科技管理碩士班_國際行銷管理研討[125032]_葉耕榕': 'chunking_evaluation/evaluation_framework/general_evaluation_data/corpora/113_2_經營與管理學系科技管理碩士班_國際行銷管理研討[125032]_葉耕榕.html', '113_2_綠色能源科技學系碩士在職專班(夜)_科技論文寫作[283031]_卜一宇': 'chunking_evaluation/evaluation_framework/general_evaluation_data/corpora/113_2_綠色能源科技學系碩士在職專班(夜)_科技論文寫作[283031]_卜一宇.html', '113_2_行政管理學系碩士在職專班(夜)_人力資源管理專題[232004]_李芸蘋': 'chunking_evaluation/evaluation_framework/general_evaluation_data/corpora/113_2_行政管理學系碩士在職專班(夜)_人力資源管理專題[232004]_李芸蘋.html', '113_2_體育學系碩士在職專班(夜)_質性研究[213004]_陳耀宏': 'chunking_evaluation/evaluation_framework/general_evaluation_data/corpora/113_2_體育學系碩士在職專班(夜)_質性研究[213004]_陳耀宏.html', '113_2_教育學系教育經營與管理碩士班_教育政策與批判研究[112122]_曾燦燈': 'chunking_evaluation/evaluation_framework/general_evaluation_data/corpora/113_2_教育學系教育經營與管理碩士班_教育政策與批判研究[112122]_曾燦燈.html', '113_2_教育學系課程與教學碩士班_教學評量研究[112099]_徐立真': 'chunking_evaluation/evaluation_framework/general_evaluation_data/corpora/113_2_教育學系課程與教學碩士班_教學評量研究[112099]_徐立真.html', '113_2_經營與管理學系高階管理碩士在職專班(夜)_企業實務講座(四)[225006]_曾憲立': 'chunking_evaluation/evaluation_framework/general_evaluation_data/corpora/113_2_經營與管理學系高階管理碩士在職專班(夜)_企業實務講座(四)[225006]_曾憲立.html', '113_2_視覺藝術與設計學系碩士在職專班(夜)_影像藝術專題研究[291003]_范如菀': 'chunking_evaluation/evaluation_framework/general_evaluation_data/corpora/113_2_視覺藝術與設計學系碩士在職專班(夜)_影像藝術專題研究[291003]_范如菀.html', '113_2_幼兒教育學系碩士班_幼兒發展理論[170031]_張麗芬': 'chunking_evaluation/evaluation_framework/general_evaluation_data/corpora/113_2_幼兒教育學系碩士班_幼兒發展理論[170031]_張麗芬.html', '113_2_應用數學系碩士在職專班(夜)_財務數學[250004]_葉宗鑫': 'chunking_evaluation/evaluation_framework/general_evaluation_data/corpora/113_2_應用數學系碩士在職專班(夜)_財務數學[250004]_葉宗鑫.html', '113_2_教育學系教學科技碩士班_專題研討(二)[112110]_歐陽誾': 'chunking_evaluation/evaluation_framework/general_evaluation_data/corpora/113_2_教育學系教學科技碩士班_專題研討(二)[112110]_歐陽誾.html', '113_2_教育學系教育行政碩士在職專班(夜)_組織創新與變革管理研究[212004]_張正平': 'chunking_evaluation/evaluation_framework/general_evaluation_data/corpora/113_2_教育學系教育行政碩士在職專班(夜)_組織創新與變革管理研究[212004]_張正平.html'}\n"
     ]
    }
   ],
   "source": [
    "print(\"corpora_paths_list:\", corpora_paths_list)\n",
    "corpora_id_paths = {\n",
    "    os.path.splitext(os.path.basename(path))[0]: path \n",
    "    for path in corpora_paths_list\n",
    "}\n",
    "\n",
    "print(\"Corpora ID Paths:\", corpora_id_paths)\n",
    "\n",
    "# Initialize the evaluation\n",
    "evaluation = SyntheticEvaluation(corpora_id_paths, queries_csv_path)\n",
    "\n"
   ]
  },
  {
   "cell_type": "markdown",
   "id": "1dc149eb",
   "metadata": {},
   "source": [
    "### 5.2 Generate dataset"
   ]
  },
  {
   "cell_type": "code",
   "execution_count": 10,
   "id": "a19b652c",
   "metadata": {},
   "outputs": [
    {
     "name": "stdout",
     "output_type": "stream",
     "text": [
      "✅ 備份檔案 './chunking_evaluation/evaluation_framework/general_evaluation_data/generated_queries_and_excerpts_backup.csv' 已存在，跳過查詢生成步驟。\n"
     ]
    }
   ],
   "source": [
    "# Generate queries and excerpts, and save to CSV\n",
    "if os.path.exists(queries_backup_path):\n",
    "    print(f\"✅ 備份檔案 '{queries_backup_path}' 已存在，跳過查詢生成步驟。\")\n",
    "else:\n",
    "    print(f\"🚀 正在生成查詢與摘錄...\")\n",
    "    evaluation.generate_queries_and_excerpts(approximate_excerpts=True, num_rounds=1, queries_per_corpus=1)\n",
    "    print(f\"✔️ 查詢生成完成，已儲存至 '{queries_csv_path}'\")\n",
    "    evaluation.repair_csv_references() \n",
    "    evaluation.validate_csv_integrity()\n",
    "#evaluation.debug_full_output(\"./corpora/113_2_資訊工程學系_微積分(二)[159040]_陳榮銘.html\", use_approx=True, save_to_file=True)\n"
   ]
  },
  {
   "cell_type": "code",
   "execution_count": 11,
   "id": "3cc9303a",
   "metadata": {},
   "outputs": [],
   "source": [
    "# Apply filter to remove queries with poor excerpts\n",
    "#evaluation.filter_poor_excerpts(threshold=0.36)\n",
    "\n",
    "# Apply filter to remove duplicates\n",
    "#evaluation.filter_duplicates(threshold=0.6)"
   ]
  },
  {
   "cell_type": "markdown",
   "id": "75e449e2",
   "metadata": {},
   "source": [
    "## 6. Run the evaluation"
   ]
  },
  {
   "cell_type": "code",
   "execution_count": 12,
   "id": "599e6be3",
   "metadata": {},
   "outputs": [
    {
     "name": "stdout",
     "output_type": "stream",
     "text": [
      "Collection 'auto_questions' did not exist or could not be deleted: Collection [auto_questions] does not exists\n",
      "New 'auto_questions' collection created.\n",
      "90 questions added to 'auto_questions' collection.\n",
      "{'corpora_scores': {'chunking_evaluation/evaluation_framework/general_evaluation_data/corpora/113_2_通識教育中心_能源科技與生活[206006]_翁俊仁.html': {'precision_omega_scores': [0], 'iou_scores': [0.0], 'recall_scores': [0.0], 'precision_scores': [0]}, 'chunking_evaluation/evaluation_framework/general_evaluation_data/corpora/113_2_通識教育中心_實用情境韓文[106221]_尹遠菱.html': {'precision_omega_scores': [0], 'iou_scores': [0.0], 'recall_scores': [0.0], 'precision_scores': [0]}, 'chunking_evaluation/evaluation_framework/general_evaluation_data/corpora/113_2_通識教育中心_生死學[106187]_蔡昆宏.html': {'precision_omega_scores': [0], 'iou_scores': [0.0], 'recall_scores': [0.0], 'precision_scores': [0]}, 'chunking_evaluation/evaluation_framework/general_evaluation_data/corpora/113_2_通識教育中心_儲能科技與生活[106203]_黃建中.html': {'precision_omega_scores': [0], 'iou_scores': [0.0], 'recall_scores': [0.0], 'precision_scores': [0]}, 'chunking_evaluation/evaluation_framework/general_evaluation_data/corpora/113_2_通識教育中心_音樂與人生[106134]_黃琡珺.html': {'precision_omega_scores': [0], 'iou_scores': [0.0], 'recall_scores': [0.0], 'precision_scores': [0]}, 'chunking_evaluation/evaluation_framework/general_evaluation_data/corpora/113_2_通識教育中心_環境與生態[106170]_吳貞宜.html': {'precision_omega_scores': [0], 'iou_scores': [0.0], 'recall_scores': [0.0], 'precision_scores': [0]}, 'chunking_evaluation/evaluation_framework/general_evaluation_data/corpora/113_2_國語文學系_史記(二)[122109]_張惠貞.html': {'precision_omega_scores': [0], 'iou_scores': [0.0], 'recall_scores': [0.0], 'precision_scores': [0]}, 'chunking_evaluation/evaluation_framework/general_evaluation_data/corpora/113_2_國語文學系_詞曲選(二)[122091]_林慧真.html': {'precision_omega_scores': [0], 'iou_scores': [0.0], 'recall_scores': [0.0], 'precision_scores': [0]}, 'chunking_evaluation/evaluation_framework/general_evaluation_data/corpora/113_2_國語文學系_中國文學史(二)[122079]_王琅.html': {'precision_omega_scores': [0], 'iou_scores': [0.0], 'recall_scores': [0.0], 'precision_scores': [0]}, 'chunking_evaluation/evaluation_framework/general_evaluation_data/corpora/113_2_教育學系_資料科學在教育上的應用[112173]_林娟如.html': {'precision_omega_scores': [0], 'iou_scores': [0.0], 'recall_scores': [0.0], 'precision_scores': [0]}, 'chunking_evaluation/evaluation_framework/general_evaluation_data/corpora/113_2_教育學系_教學設計與發展[112157]_鄭進斛.html': {'precision_omega_scores': [0], 'iou_scores': [0.0], 'recall_scores': [0.0], 'precision_scores': [0]}, 'chunking_evaluation/evaluation_framework/general_evaluation_data/corpora/113_2_教育學系_教學原理[112137]_郭杏珠.html': {'precision_omega_scores': [0], 'iou_scores': [0.0], 'recall_scores': [0.0], 'precision_scores': [0]}, 'chunking_evaluation/evaluation_framework/general_evaluation_data/corpora/113_2_教育學系_教育哲學[112148]_許誌庭.html': {'precision_omega_scores': [0], 'iou_scores': [0.0], 'recall_scores': [0.0], 'precision_scores': [0]}, 'chunking_evaluation/evaluation_framework/general_evaluation_data/corpora/113_2_師資培育中心_資訊倫理與教學[107024]_黃品甄.html': {'precision_omega_scores': [0], 'iou_scores': [0.0], 'recall_scores': [0.0], 'precision_scores': [0]}, 'chunking_evaluation/evaluation_framework/general_evaluation_data/corpora/113_2_師資培育中心_適性教學[107021]_王光宗.html': {'precision_omega_scores': [0], 'iou_scores': [0.0], 'recall_scores': [0.0], 'precision_scores': [0]}, 'chunking_evaluation/evaluation_framework/general_evaluation_data/corpora/113_2_師資培育中心_閱讀教育[107005]_陳光明.html': {'precision_omega_scores': [0], 'iou_scores': [0.0], 'recall_scores': [0.0], 'precision_scores': [0]}, 'chunking_evaluation/evaluation_framework/general_evaluation_data/corpora/113_2_師資培育中心_主題式教學與實務[107036]_黃俊傑.html': {'precision_omega_scores': [0], 'iou_scores': [0.0], 'recall_scores': [0.0], 'precision_scores': [0]}, 'chunking_evaluation/evaluation_framework/general_evaluation_data/corpora/113_2_英語學系_英語加強班(研究所)[127095]_郭馨嬪.html': {'precision_omega_scores': [0], 'iou_scores': [0.0], 'recall_scores': [0.0], 'precision_scores': [0]}, 'chunking_evaluation/evaluation_framework/general_evaluation_data/corpora/113_2_英語學系_構詞學[127069]_熊慧如.html': {'precision_omega_scores': [0], 'iou_scores': [0.0], 'recall_scores': [0.0], 'precision_scores': [0]}, 'chunking_evaluation/evaluation_framework/general_evaluation_data/corpora/113_2_英語學系_商用文書[127079]_郭馨嬪.html': {'precision_omega_scores': [0], 'iou_scores': [0.0], 'recall_scores': [0.0], 'precision_scores': [0]}, 'chunking_evaluation/evaluation_framework/general_evaluation_data/corpora/113_2_英語學系_英語加強班(大學)[127097]_夏幼川.html': {'precision_omega_scores': [0], 'iou_scores': [0.0], 'recall_scores': [0.0], 'precision_scores': [0]}, 'chunking_evaluation/evaluation_framework/general_evaluation_data/corpora/113_2_特殊教育學系_聽覺障礙[140064]_李芃娟.html': {'precision_omega_scores': [0], 'iou_scores': [0.0], 'recall_scores': [0.0], 'precision_scores': [0]}, 'chunking_evaluation/evaluation_framework/general_evaluation_data/corpora/113_2_特殊教育學系_領導才能教育[140096]_陳英豪.html': {'precision_omega_scores': [0], 'iou_scores': [0.0], 'recall_scores': [0.0], 'precision_scores': [0]}, 'chunking_evaluation/evaluation_framework/general_evaluation_data/corpora/113_2_特殊教育學系_專題研究(1)[140077]_林慶仁林千玉.html': {'precision_omega_scores': [0], 'iou_scores': [0.0], 'recall_scores': [0.0], 'precision_scores': [0]}, 'chunking_evaluation/evaluation_framework/general_evaluation_data/corpora/113_2_視覺藝術與設計學系_電腦繪圖（二）[191074]_李香蓮.html': {'precision_omega_scores': [0], 'iou_scores': [0.0], 'recall_scores': [0.0], 'precision_scores': [0]}, 'chunking_evaluation/evaluation_framework/general_evaluation_data/corpora/113_2_視覺藝術與設計學系_畢業製作(二)[191081]_范如菀.html': {'precision_omega_scores': [0], 'iou_scores': [0.0], 'recall_scores': [0.0], 'precision_scores': [0]}, 'chunking_evaluation/evaluation_framework/general_evaluation_data/corpora/113_2_視覺藝術與設計學系_水墨名作研析(二)[191084]_紀冠地.html': {'precision_omega_scores': [0], 'iou_scores': [0.0], 'recall_scores': [0.0], 'precision_scores': [0]}, 'chunking_evaluation/evaluation_framework/general_evaluation_data/corpora/113_2_體育學系_專長訓練A(籃球)[113074]_彭小惠.html': {'precision_omega_scores': [0], 'iou_scores': [0.0], 'recall_scores': [0.0], 'precision_scores': [0]}, 'chunking_evaluation/evaluation_framework/general_evaluation_data/corpora/113_2_體育學系_運動行銷學[113091]_黃志佳.html': {'precision_omega_scores': [0], 'iou_scores': [0.0], 'recall_scores': [0.0], 'precision_scores': [0]}, 'chunking_evaluation/evaluation_framework/general_evaluation_data/corpora/113_2_體育學系_桌球[113062]_張碩文.html': {'precision_omega_scores': [0], 'iou_scores': [0.0], 'recall_scores': [0.0], 'precision_scores': [0]}, 'chunking_evaluation/evaluation_framework/general_evaluation_data/corpora/113_2_綠色能源科技學系_能源專題研究(二)[183061]_蔡孟哲.html': {'precision_omega_scores': [0], 'iou_scores': [0.0], 'recall_scores': [0.0], 'precision_scores': [0]}, 'chunking_evaluation/evaluation_framework/general_evaluation_data/corpora/113_2_綠色能源科技學系_能源概論[183062]_劉世鈞.html': {'precision_omega_scores': [0], 'iou_scores': [0.0], 'recall_scores': [0.0], 'precision_scores': [0]}, 'chunking_evaluation/evaluation_framework/general_evaluation_data/corpora/113_2_電機工程學系_畢業專題 (二)[182087]_陳居毓.html': {'precision_omega_scores': [0], 'iou_scores': [0.0], 'recall_scores': [0.0], 'precision_scores': [0]}, 'chunking_evaluation/evaluation_framework/general_evaluation_data/corpora/113_2_文化與自然資源學系_專題研究(二)[134058]_陳一峰.html': {'precision_omega_scores': [0], 'iou_scores': [0.0], 'recall_scores': [0.0], 'precision_scores': [0]}, 'chunking_evaluation/evaluation_framework/general_evaluation_data/corpora/113_2_文化與自然資源學系_西洋通史[134055]_蔡米虹.html': {'precision_omega_scores': [0], 'iou_scores': [0.0], 'recall_scores': [0.0], 'precision_scores': [0]}, 'chunking_evaluation/evaluation_framework/general_evaluation_data/corpora/113_2_資訊工程學系_軟體專案規劃[159065]_李健興.html': {'precision_omega_scores': [0], 'iou_scores': [0.0], 'recall_scores': [0.0], 'precision_scores': [0]}, 'chunking_evaluation/evaluation_framework/general_evaluation_data/corpora/113_2_資訊工程學系_雲端計算[159068]_蘇溢芳.html': {'precision_omega_scores': [0], 'iou_scores': [0.0], 'recall_scores': [0.0], 'precision_scores': [0]}, 'chunking_evaluation/evaluation_framework/general_evaluation_data/corpora/113_2_數位學習科技學系_創意思考與設計方法[155079]_莊宗嚴.html': {'precision_omega_scores': [0], 'iou_scores': [0.0], 'recall_scores': [0.0], 'precision_scores': [0]}, 'chunking_evaluation/evaluation_framework/general_evaluation_data/corpora/113_2_數位學習科技學系_學習理論[155063]_伍柏翰.html': {'precision_omega_scores': [0], 'iou_scores': [0.0], 'recall_scores': [0.0], 'precision_scores': [0]}, 'chunking_evaluation/evaluation_framework/general_evaluation_data/corpora/113_2_生態暨環境資源學系_昆蟲學[156078]_黃文伯.html': {'precision_omega_scores': [0], 'iou_scores': [0.0], 'recall_scores': [0.0], 'precision_scores': [0]}, 'chunking_evaluation/evaluation_framework/general_evaluation_data/corpora/113_2_生態暨環境資源學系_戶外生態調查安全與風險管理[156061]_許皓捷.html': {'precision_omega_scores': [0], 'iou_scores': [0.0], 'recall_scores': [0.0], 'precision_scores': [0]}, 'chunking_evaluation/evaluation_framework/general_evaluation_data/corpora/113_2_音樂學系_音樂教學法(二)[164401]_沈昕.html': {'precision_omega_scores': [0], 'iou_scores': [0.0], 'recall_scores': [0.0], 'precision_scores': [0]}, 'chunking_evaluation/evaluation_framework/general_evaluation_data/corpora/113_2_音樂學系_聲樂作品研究(二)[164391]_朱芸宜.html': {'precision_omega_scores': [0], 'iou_scores': [0.0], 'recall_scores': [0.0], 'precision_scores': [0]}, 'chunking_evaluation/evaluation_framework/general_evaluation_data/corpora/113_2_材料科學系_普通物理學(二)[167045]_蒲盈志.html': {'precision_omega_scores': [0], 'iou_scores': [0.0], 'recall_scores': [0.0], 'precision_scores': [0]}, 'chunking_evaluation/evaluation_framework/general_evaluation_data/corpora/113_2_材料科學系_計算材料科學[167066]_鄭永楨.html': {'precision_omega_scores': [0], 'iou_scores': [0.0], 'recall_scores': [0.0], 'precision_scores': [0]}, 'chunking_evaluation/evaluation_framework/general_evaluation_data/corpora/113_2_幼兒教育學系_幼兒園教保實習II[170047]_林聖曦.html': {'precision_omega_scores': [0], 'iou_scores': [0.0], 'recall_scores': [0.0], 'precision_scores': [0]}, 'chunking_evaluation/evaluation_framework/general_evaluation_data/corpora/113_2_幼兒教育學系_幼兒園教材教法II[170046]_翟敏如.html': {'precision_omega_scores': [0], 'iou_scores': [0.0], 'recall_scores': [0.0], 'precision_scores': [0]}, 'chunking_evaluation/evaluation_framework/general_evaluation_data/corpora/113_2_生物科技學系_免疫學[158054]_張翠玲.html': {'precision_omega_scores': [0], 'iou_scores': [0.0], 'recall_scores': [0.0], 'precision_scores': [0]}, 'chunking_evaluation/evaluation_framework/general_evaluation_data/corpora/113_2_生物科技學系_酵素學[158065]_張德生.html': {'precision_omega_scores': [0], 'iou_scores': [0.0], 'recall_scores': [0.0], 'precision_scores': [0]}, 'chunking_evaluation/evaluation_framework/general_evaluation_data/corpora/113_2_綠色能源科技學系(進修學士班)_工程數學(二)[283008]_卜一宇.html': {'precision_omega_scores': [0], 'iou_scores': [0.0], 'recall_scores': [0.0], 'precision_scores': [0]}, 'chunking_evaluation/evaluation_framework/general_evaluation_data/corpora/113_2_綠色能源科技學系(進修學士班)_電路學(二)[283019]_許正良.html': {'precision_omega_scores': [0], 'iou_scores': [0.0], 'recall_scores': [0.0], 'precision_scores': [0]}, 'chunking_evaluation/evaluation_framework/general_evaluation_data/corpora/113_2_諮商與輔導學系_專題研究(一)[128073]_陳志賢.html': {'precision_omega_scores': [0], 'iou_scores': [0.0], 'recall_scores': [0.0], 'precision_scores': [0]}, 'chunking_evaluation/evaluation_framework/general_evaluation_data/corpora/113_2_戲劇創作與應用學系_亞洲現當代劇場[172066]_林偉瑜.html': {'precision_omega_scores': [0], 'iou_scores': [0.0], 'recall_scores': [0.0], 'precision_scores': [0]}, 'chunking_evaluation/evaluation_framework/general_evaluation_data/corpora/113_2_戲劇創作與應用學系_表演(二)[172061]_厲復平.html': {'precision_omega_scores': [0], 'iou_scores': [0.0], 'recall_scores': [0.0], 'precision_scores': [0]}, 'chunking_evaluation/evaluation_framework/general_evaluation_data/corpora/113_2_行政管理學系_人力資源管理[132050]_李芸蘋.html': {'precision_omega_scores': [0], 'iou_scores': [0.0], 'recall_scores': [0.0], 'precision_scores': [0]}, 'chunking_evaluation/evaluation_framework/general_evaluation_data/corpora/113_2_行政管理學系_人力資源與組織發展[132058]_林桐銘.html': {'precision_omega_scores': [0], 'iou_scores': [0.0], 'recall_scores': [0.0], 'precision_scores': [0]}, 'chunking_evaluation/evaluation_framework/general_evaluation_data/corpora/113_2_英語學系(進修學士班)_語意學導論[227008]_康雅禎.html': {'precision_omega_scores': [0], 'iou_scores': [0.0], 'recall_scores': [0.0], 'precision_scores': [0]}, 'chunking_evaluation/evaluation_framework/general_evaluation_data/corpora/113_2_應用數學系_獨立研究[150044]_黃建中.html': {'precision_omega_scores': [0], 'iou_scores': [0.0], 'recall_scores': [0.0], 'precision_scores': [0]}, 'chunking_evaluation/evaluation_framework/general_evaluation_data/corpora/113_2_經營與管理學系_經濟學(二)[125037]_阮俊陽.html': {'precision_omega_scores': [0], 'iou_scores': [0.0], 'recall_scores': [0.0], 'precision_scores': [0]}, 'chunking_evaluation/evaluation_framework/general_evaluation_data/corpora/113_2_電機工程學系碩士班_生醫感測器信號處理晶片設計[182062]_黃俊岳.html': {'precision_omega_scores': [0], 'iou_scores': [0.0], 'recall_scores': [0.0], 'precision_scores': [0]}, 'chunking_evaluation/evaluation_framework/general_evaluation_data/corpora/113_2_音樂學系碩士班_音樂教育心理學[164374]_黃靜芳.html': {'precision_omega_scores': [0], 'iou_scores': [0.0], 'recall_scores': [0.0], 'precision_scores': [0]}, 'chunking_evaluation/evaluation_framework/general_evaluation_data/corpora/113_2_諮商與輔導學系碩士班_遊戲治療理論與實務[128044]_李岳庭.html': {'precision_omega_scores': [0], 'iou_scores': [0.0], 'recall_scores': [0.0], 'precision_scores': [0]}, 'chunking_evaluation/evaluation_framework/general_evaluation_data/corpora/113_2_生態暨環境資源學系碩士班_書報討論(四)[156047]_陳韋妤陳瀅世.html': {'precision_omega_scores': [0], 'iou_scores': [0.0], 'recall_scores': [0.0], 'precision_scores': [0]}, 'chunking_evaluation/evaluation_framework/general_evaluation_data/corpora/113_2_綠色能源科技學系碩士班_書報討論(二)[183040]_丁顥.html': {'precision_omega_scores': [0], 'iou_scores': [0.0], 'recall_scores': [0.0], 'precision_scores': [0]}, 'chunking_evaluation/evaluation_framework/general_evaluation_data/corpora/113_2_視覺藝術與設計學系視覺藝術碩士班_藝術創作與田野研究[191067]_洪明爵.html': {'precision_omega_scores': [0], 'iou_scores': [0.0], 'recall_scores': [0.0], 'precision_scores': [0]}, 'chunking_evaluation/evaluation_framework/general_evaluation_data/corpora/113_2_數位學習科技學系碩士班_數位影像處理[155046]_林信志.html': {'precision_omega_scores': [0], 'iou_scores': [0.0], 'recall_scores': [0.0], 'precision_scores': [0]}, 'chunking_evaluation/evaluation_framework/general_evaluation_data/corpora/113_2_材料科學系碩士班_材料研究技術[167039]_莊陽德.html': {'precision_omega_scores': [0], 'iou_scores': [0.0], 'recall_scores': [0.0], 'precision_scores': [0]}, 'chunking_evaluation/evaluation_framework/general_evaluation_data/corpora/113_2_體育學系碩士班_體育研究法[113057]_彭小惠.html': {'precision_omega_scores': [0], 'iou_scores': [0.0], 'recall_scores': [0.0], 'precision_scores': [0]}, 'chunking_evaluation/evaluation_framework/general_evaluation_data/corpora/113_2_國語文學系國語文教學與應用碩士班_民間文學專題研究(二)[122067]_林登順.html': {'precision_omega_scores': [0], 'iou_scores': [0.0], 'recall_scores': [0.0], 'precision_scores': [0]}, 'chunking_evaluation/evaluation_framework/general_evaluation_data/corpora/113_2_戲劇創作與應用學系碩士班_行動研究[172045]_林玫君蔡依仁林偉瑜.html': {'precision_omega_scores': [0], 'iou_scores': [0.0], 'recall_scores': [0.0], 'precision_scores': [0]}, 'chunking_evaluation/evaluation_framework/general_evaluation_data/corpora/113_2_生物科技學系碩士班_高等生物化學[158037]_曾登裕.html': {'precision_omega_scores': [0], 'iou_scores': [0.0], 'recall_scores': [0.0], 'precision_scores': [0]}, 'chunking_evaluation/evaluation_framework/general_evaluation_data/corpora/113_2_行政管理學系碩士班_行政法專題[132037]_蕭妙香.html': {'precision_omega_scores': [0], 'iou_scores': [0.0], 'recall_scores': [0.0], 'precision_scores': [0]}, 'chunking_evaluation/evaluation_framework/general_evaluation_data/corpora/113_2_音樂學系碩士在職專班(夜)_臺灣音樂與文化[264303]_施金農.html': {'precision_omega_scores': [0], 'iou_scores': [0.0], 'recall_scores': [0.0], 'precision_scores': [0]}, 'chunking_evaluation/evaluation_framework/general_evaluation_data/corpora/113_2_幼兒教育學系碩士在職專班(夜)_幼兒社會與情緒教學研究[270006]_翟敏如.html': {'precision_omega_scores': [0], 'iou_scores': [0.0], 'recall_scores': [0.0], 'precision_scores': [0]}, 'chunking_evaluation/evaluation_framework/general_evaluation_data/corpora/113_2_應用數學系碩士班_偏微分方程[150058]_黃彥彰.html': {'precision_omega_scores': [0], 'iou_scores': [0.0], 'recall_scores': [0.0], 'precision_scores': [0]}, 'chunking_evaluation/evaluation_framework/general_evaluation_data/corpora/113_2_教育學系課程與教學教學碩士班(假日)_媒體教育研究[112106]_蘇建元.html': {'precision_omega_scores': [0], 'iou_scores': [0.0], 'recall_scores': [0.0], 'precision_scores': [0]}, 'chunking_evaluation/evaluation_framework/general_evaluation_data/corpora/113_2_理工學院智慧製造碩士在職學位學程_物聯網系統控制[280004]_白富升.html': {'precision_omega_scores': [0], 'iou_scores': [0.0], 'recall_scores': [0.0], 'precision_scores': [0]}, 'chunking_evaluation/evaluation_framework/general_evaluation_data/corpora/113_2_經營與管理學系科技管理碩士在職專班(夜)_財務管理[225001]_曹瓊文林櫻蓮.html': {'precision_omega_scores': [0], 'iou_scores': [0.0], 'recall_scores': [0.0], 'precision_scores': [0]}, 'chunking_evaluation/evaluation_framework/general_evaluation_data/corpora/113_2_經營與管理學系科技管理碩士班_國際行銷管理研討[125032]_葉耕榕.html': {'precision_omega_scores': [0], 'iou_scores': [0.0], 'recall_scores': [0.0], 'precision_scores': [0]}, 'chunking_evaluation/evaluation_framework/general_evaluation_data/corpora/113_2_綠色能源科技學系碩士在職專班(夜)_科技論文寫作[283031]_卜一宇.html': {'precision_omega_scores': [0], 'iou_scores': [0.0], 'recall_scores': [0.0], 'precision_scores': [0]}, 'chunking_evaluation/evaluation_framework/general_evaluation_data/corpora/113_2_行政管理學系碩士在職專班(夜)_人力資源管理專題[232004]_李芸蘋.html': {'precision_omega_scores': [0], 'iou_scores': [0.0], 'recall_scores': [0.0], 'precision_scores': [0]}, 'chunking_evaluation/evaluation_framework/general_evaluation_data/corpora/113_2_體育學系碩士在職專班(夜)_質性研究[213004]_陳耀宏.html': {'precision_omega_scores': [0], 'iou_scores': [0.0], 'recall_scores': [0.0], 'precision_scores': [0]}, 'chunking_evaluation/evaluation_framework/general_evaluation_data/corpora/113_2_教育學系教育經營與管理碩士班_教育政策與批判研究[112122]_曾燦燈.html': {'precision_omega_scores': [0], 'iou_scores': [0.0], 'recall_scores': [0.0], 'precision_scores': [0]}, 'chunking_evaluation/evaluation_framework/general_evaluation_data/corpora/113_2_教育學系課程與教學碩士班_教學評量研究[112099]_徐立真.html': {'precision_omega_scores': [0], 'iou_scores': [0.0], 'recall_scores': [0.0], 'precision_scores': [0]}, 'chunking_evaluation/evaluation_framework/general_evaluation_data/corpora/113_2_經營與管理學系高階管理碩士在職專班(夜)_企業實務講座(四)[225006]_曾憲立.html': {'precision_omega_scores': [0], 'iou_scores': [0.0], 'recall_scores': [0.0], 'precision_scores': [0]}, 'chunking_evaluation/evaluation_framework/general_evaluation_data/corpora/113_2_視覺藝術與設計學系碩士在職專班(夜)_影像藝術專題研究[291003]_范如菀.html': {'precision_omega_scores': [0], 'iou_scores': [0.0], 'recall_scores': [0.0], 'precision_scores': [0]}, 'chunking_evaluation/evaluation_framework/general_evaluation_data/corpora/113_2_幼兒教育學系碩士班_幼兒發展理論[170031]_張麗芬.html': {'precision_omega_scores': [0], 'iou_scores': [0.0], 'recall_scores': [0.0], 'precision_scores': [0]}, 'chunking_evaluation/evaluation_framework/general_evaluation_data/corpora/113_2_應用數學系碩士在職專班(夜)_財務數學[250004]_葉宗鑫.html': {'precision_omega_scores': [0], 'iou_scores': [0.0], 'recall_scores': [0.0], 'precision_scores': [0]}, 'chunking_evaluation/evaluation_framework/general_evaluation_data/corpora/113_2_教育學系教學科技碩士班_專題研討(二)[112110]_歐陽誾.html': {'precision_omega_scores': [0], 'iou_scores': [0.0], 'recall_scores': [0.0], 'precision_scores': [0]}, 'chunking_evaluation/evaluation_framework/general_evaluation_data/corpora/113_2_教育學系教育行政碩士在職專班(夜)_組織創新與變革管理研究[212004]_張正平.html': {'precision_omega_scores': [0], 'iou_scores': [0.0], 'recall_scores': [0.0], 'precision_scores': [0]}}, 'iou_mean': np.float64(0.0), 'iou_std': np.float64(0.0), 'recall_mean': np.float64(0.0), 'recall_std': np.float64(0.0), 'precision_omega_mean': np.float64(0.0), 'precision_omega_std': np.float64(0.0), 'precision_mean': np.float64(0.0), 'precision_std': np.float64(0.0)}\n"
     ]
    },
    {
     "data": {
      "text/plain": [
       "'\\n# Initialize evaluation\\nevaluation = GeneralEvaluation()\\n\\nresults = []\\n\\n# Initialize an empty DataFrame\\ndf = pd.DataFrame()\\n\\n# Display the DataFrame\\ndisplay_handle = display(df, display_id=True)\\n\\nfor chunker in chunkers:\\n    result = evaluation.run(chunker, get_bge_m3_embedding_function(), retrieve=5, db_to_save_chunks=chroma_db_path)\\n    del result[\\'corpora_scores\\']  \\n    chunk_size = chunker._chunk_size if hasattr(chunker, \\'_chunk_size\\') else 0\\n    chunk_overlap = chunker._chunk_overlap if hasattr(chunker, \\'_chunk_overlap\\') else 0\\n    result[\\'chunker\\'] = chunker.__class__.__name__ + f\"_{chunk_size}_{chunk_overlap}\"\\n    results.append(result)\\n\\n    # Update the DataFrame\\n    df = pd.DataFrame(results)\\n    clear_output(wait=True)\\n    display_handle.update(df)\\n\\n'"
      ]
     },
     "execution_count": 12,
     "metadata": {},
     "output_type": "execute_result"
    }
   ],
   "source": [
    "import shutil\n",
    "\n",
    "chroma_db_path = \"./chunking_evaluation/evaluation_framework/general_evaluation_data/questions_db\"\n",
    "\n",
    "\n",
    "first_chunker = chunkers[0]\n",
    "first_result = evaluation.run(first_chunker, get_bge_m3_embedding_function(), retrieve=5, db_to_save_chunks=chroma_db_path)\n",
    "print(first_result)\n",
    "\n",
    "\n",
    "\n",
    "'''\n",
    "# Initialize evaluation\n",
    "evaluation = GeneralEvaluation()\n",
    "\n",
    "results = []\n",
    "\n",
    "# Initialize an empty DataFrame\n",
    "df = pd.DataFrame()\n",
    "\n",
    "# Display the DataFrame\n",
    "display_handle = display(df, display_id=True)\n",
    "\n",
    "for chunker in chunkers:\n",
    "    result = evaluation.run(chunker, get_bge_m3_embedding_function(), retrieve=5, db_to_save_chunks=chroma_db_path)\n",
    "    del result['corpora_scores']  \n",
    "    chunk_size = chunker._chunk_size if hasattr(chunker, '_chunk_size') else 0\n",
    "    chunk_overlap = chunker._chunk_overlap if hasattr(chunker, '_chunk_overlap') else 0\n",
    "    result['chunker'] = chunker.__class__.__name__ + f\"_{chunk_size}_{chunk_overlap}\"\n",
    "    results.append(result)\n",
    "\n",
    "    # Update the DataFrame\n",
    "    df = pd.DataFrame(results)\n",
    "    clear_output(wait=True)\n",
    "    display_handle.update(df)\n",
    "\n",
    "'''"
   ]
  }
 ],
 "metadata": {
  "kernelspec": {
   "display_name": "rag",
   "language": "python",
   "name": "python3"
  },
  "language_info": {
   "codemirror_mode": {
    "name": "ipython",
    "version": 3
   },
   "file_extension": ".py",
   "mimetype": "text/x-python",
   "name": "python",
   "nbconvert_exporter": "python",
   "pygments_lexer": "ipython3",
   "version": "3.13.2"
  }
 },
 "nbformat": 4,
 "nbformat_minor": 5
}
